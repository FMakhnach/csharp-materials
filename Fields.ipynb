{
 "cells": [
  {
   "cell_type": "markdown",
   "metadata": {},
   "source": [
    "## `readonly` поля"
   ]
  },
  {
   "cell_type": "markdown",
   "metadata": {},
   "source": [
    "Модификатор `readonly` запрещает изменять поля после инициализации.\n",
    "\n",
    "Инициализировать `readonly` поле можно только из конструктора. Если поле не инициализируется явно, ему присваивается `default` значение (`0`/`false`/`null`). Рекомендуется инициализировать явно всегда."
   ]
  },
  {
   "cell_type": "code",
   "execution_count": 25,
   "metadata": {},
   "outputs": [
    {
     "ename": "Unhandled Exception",
     "evalue": "(14,9): error CS0191: Присваивание значений доступному только для чтения полю допускается только в конструкторе и в инициализаторе переменных.",
     "output_type": "error",
     "traceback": [
      "(14,9): error CS0191: Присваивание значений доступному только для чтения полю допускается только в конструкторе и в инициализаторе переменных."
     ]
    }
   ],
   "source": [
    "public class ImmutableValue\n",
    "{\n",
    "    private readonly int _value;\n",
    "\n",
    "    public int Value => _value;\n",
    "\n",
    "    public ImmutableValue(int value)\n",
    "    {\n",
    "        // Норм\n",
    "        _value = value;\n",
    "    }\n",
    "    \n",
    "    public void ChangeValue(int newValue)\n",
    "    {\n",
    "        // error CS0191: \n",
    "        // Присваивание значений доступному только для чтения полю \n",
    "        // допускается только в конструкторе и в инициализаторе переменных.\n",
    "        _value = newValue;\n",
    "    }\n",
    "}"
   ]
  },
  {
   "cell_type": "code",
   "execution_count": 18,
   "metadata": {},
   "outputs": [
    {
     "name": "stdout",
     "output_type": "stream",
     "text": [
      "0\n",
      "True\n"
     ]
    }
   ],
   "source": [
    "public class DefaultConstructorExample\n",
    "{\n",
    "    private readonly int _intValue;\n",
    "    \n",
    "    private readonly string _stringValue;\n",
    "    \n",
    "    // get-only свойство\n",
    "    public int IntValue => _intValue;\n",
    "    \n",
    "    // get-only свойство\n",
    "    public string StringValue => _stringValue;\n",
    "}\n",
    "\n",
    "var example = new DefaultConstructorExample();\n",
    "\n",
    "Console.WriteLine(example.IntValue);\n",
    "Console.WriteLine(example.StringValue is null);"
   ]
  },
  {
   "cell_type": "markdown",
   "metadata": {},
   "source": [
    "**НЕ ПОВТОРЯТЬ ДОМА**\n",
    "\n",
    "Значение `readonly` полей можно поменять через рефлексию."
   ]
  },
  {
   "cell_type": "code",
   "execution_count": 27,
   "metadata": {},
   "outputs": [
    {
     "name": "stdout",
     "output_type": "stream",
     "text": [
      "42\n",
      "24\n"
     ]
    }
   ],
   "source": [
    "using System.Reflection;\n",
    "\n",
    "public class ReadonlyValueHolder\n",
    "{\n",
    "    private readonly int _value;\n",
    "\n",
    "    public int Value => _value;\n",
    "\n",
    "    public ReadonlyValueHolder(int value)\n",
    "    {\n",
    "        _value = value;\n",
    "    }\n",
    "}\n",
    "\n",
    "var vh = new ReadonlyValueHolder(42);\n",
    "\n",
    "Console.WriteLine(vh.Value); // 42\n",
    "\n",
    "var field = vh.GetType().GetField(\"_value\", BindingFlags.NonPublic | BindingFlags.Instance);\n",
    "\n",
    "field.SetValue(vh, 24); // 0_0\n",
    "\n",
    "Console.WriteLine(vh.Value); // 24"
   ]
  },
  {
   "cell_type": "markdown",
   "metadata": {},
   "source": [
    "## Константы"
   ]
  },
  {
   "cell_type": "markdown",
   "metadata": {},
   "source": [
    "Константы - поля, значения которых зафиксировано в коде. \n",
    "\n",
    "Неявно являются статическими.\n",
    "\n",
    "Во время выполнения их **не существует** - они подставляются в места вызова во время **компиляции**.\n",
    "\n",
    "Вывод: должны иметь значение, вычислимое на момент компиляции. Т.е. это примитивные типы, у которых есть литералы - числа, строки, символы. Прочие типы (в т.ч. ваши) можно использовать только в одном случае - если присваиваете `null`.\n",
    "\n",
    "Применяются для повышения читаемости кода и избавления от [магических чисел](https://ru.wikipedia.org/wiki/%D0%9C%D0%B0%D0%B3%D0%B8%D1%87%D0%B5%D1%81%D0%BA%D0%BE%D0%B5_%D1%87%D0%B8%D1%81%D0%BB%D0%BE_(%D0%BF%D1%80%D0%BE%D0%B3%D1%80%D0%B0%D0%BC%D0%BC%D0%B8%D1%80%D0%BE%D0%B2%D0%B0%D0%BD%D0%B8%D0%B5).\n",
    "\n",
    "Отличаются от `readonly` полей тем, что `readonly` поля получают значение в рантайме, а значение констант фиксировано ещё на момент компиляции."
   ]
  },
  {
   "cell_type": "code",
   "execution_count": 6,
   "metadata": {},
   "outputs": [],
   "source": [
    "public class ConstantsHolder\n",
    "{\n",
    "    // Обычная константа\n",
    "    public const int Solution = 42;\n",
    "    \n",
    "    // Так тоже можно\n",
    "    public const string GithubUrl = \"https://github.com/FMakhnach/csharp-materials\";\n",
    "    \n",
    "    // И даже так\n",
    "    public const int OtherSolution = Solution;\n",
    "    \n",
    "    // error CS0145: Требуется указать значение поля const.\n",
    "    public const int UnknownSolution;\n",
    "    \n",
    "    // error CS0133: Назначаемое для \"ConstantsHolder.MyConstantsHolder\" выражение должно быть константным.\n",
    "    public const ConstantsHolder MyConstantsHolder = new ConstantsHolder();\n",
    "    \n",
    "    // Единственный случай, когда можно использовать неэлементарный тип\n",
    "    public const ConstantsHolder Null = null;\n",
    "}"
   ]
  }
 ],
 "metadata": {
  "kernelspec": {
   "display_name": ".NET (C#)",
   "language": "C#",
   "name": ".net-csharp"
  },
  "language_info": {
   "file_extension": ".cs",
   "mimetype": "text/x-csharp",
   "name": "C#",
   "pygments_lexer": "csharp",
   "version": "8.0"
  }
 },
 "nbformat": 4,
 "nbformat_minor": 4
}
