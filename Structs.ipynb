{
 "cells": [
  {
   "cell_type": "markdown",
   "metadata": {},
   "source": [
    "# Структуры"
   ]
  },
  {
   "cell_type": "markdown",
   "metadata": {},
   "source": [
    "Структуры (`struct`) это **значимые** типы. \n",
    "\n",
    "**Особенность:**  \n",
    "Память под них выделяется in-place, т.е. либо на стеке (для локальных переменных и параметров), либо прямо в памяти объекта (для полей). \n",
    "\n",
    "В противоположность, объекты ссылочных типов (`class`/`interface`/`delegate`) размещаются в куче, а в стеке (или внутри других объектов) располагаются ссылки на эти объекты.\n",
    "\n",
    "Вытекающие:\n",
    "- Не управляются garbage collector'ом.\n",
    "- Время жизни ограничено областью видимости (scope).\n",
    "- При передаче в методы экземпляры структур **копируются**.\n",
    "- Значение null неприменимо. Инициализируются немного иначе.\n",
    "- **Не наследуются!** Иначе сломался бы upcast из-за возможного отличия в размере (ссылки всегда одного размера)."
   ]
  },
  {
   "cell_type": "markdown",
   "metadata": {},
   "source": [
    "## 1. Память выделяется прямо \"на месте\""
   ]
  },
  {
   "cell_type": "code",
   "execution_count": 1,
   "metadata": {},
   "outputs": [],
   "source": [
    "struct Struct\n",
    "{\n",
    "    public string Value { get; set; }\n",
    "}"
   ]
  },
  {
   "cell_type": "code",
   "execution_count": 2,
   "metadata": {},
   "outputs": [],
   "source": [
    "class MyClass\n",
    "{\n",
    "    // Память выделяется на всю структуру прямо внутри объекта MyClass.\n",
    "    private Struct value;\n",
    "    \n",
    "    // Память внутри объекта выделяется только на ссылку!\n",
    "    private object obj;\n",
    "    \n",
    "    public void Method()\n",
    "    {\n",
    "        Struct localValue; // Память выделилась на стеке\n",
    "    }\n",
    "}"
   ]
  },
  {
   "cell_type": "markdown",
   "metadata": {},
   "source": [
    "## 2.  Время жизни ограничено scope'ом"
   ]
  },
  {
   "cell_type": "code",
   "execution_count": 3,
   "metadata": {},
   "outputs": [],
   "source": [
    "void MyMethod()\n",
    "{\n",
    "\n",
    "    Struct @struct = new Struct { Value = \"Hello\" };\n",
    "    \n",
    "    object obj = new object();\n",
    "    \n",
    "} // В этот момент @struct \"умирает\", а obj может всё ещё существовать в памяти!"
   ]
  },
  {
   "cell_type": "markdown",
   "metadata": {},
   "source": [
    "## 3. Передача экземпляров структур в методы"
   ]
  },
  {
   "cell_type": "code",
   "execution_count": 4,
   "metadata": {},
   "outputs": [
    {
     "data": {
      "text/plain": [
       "New value!"
      ]
     },
     "execution_count": 4,
     "metadata": {},
     "output_type": "execute_result"
    }
   ],
   "source": [
    "class Class\n",
    "{\n",
    "    public string Value { get; set; }\n",
    "}\n",
    "\n",
    "// Копируем ссылку: можем обращаться к полям исходного объекта.\n",
    "void ChangeValue(Class obj)\n",
    "{\n",
    "    obj.Value = \"New value!\";\n",
    "}\n",
    "\n",
    "Class @class = new Class{ Value = \"Hello\" };\n",
    "ChangeValue(@class);\n",
    "@class.Value"
   ]
  },
  {
   "cell_type": "code",
   "execution_count": 5,
   "metadata": {},
   "outputs": [
    {
     "data": {
      "text/plain": [
       "Hello"
      ]
     },
     "execution_count": 5,
     "metadata": {},
     "output_type": "execute_result"
    }
   ],
   "source": [
    "// Копируем весь экземпляр: нет доступа к исходному объекту.\n",
    "void ChangeValue(Struct obj)\n",
    "{\n",
    "    obj.Value = \"New value!\";\n",
    "}\n",
    "\n",
    "Struct @struct = new Struct{ Value = \"Hello\" };\n",
    "ChangeValue(@struct);\n",
    "@struct.Value"
   ]
  },
  {
   "cell_type": "markdown",
   "metadata": {},
   "source": [
    "Если очень хочется, то можно через ref"
   ]
  },
  {
   "cell_type": "code",
   "execution_count": 6,
   "metadata": {},
   "outputs": [
    {
     "data": {
      "text/plain": [
       "New value!"
      ]
     },
     "execution_count": 6,
     "metadata": {},
     "output_type": "execute_result"
    }
   ],
   "source": [
    "// Копируем весь инстанс: нет доступа к исходному объекту.\n",
    "void ChangeValue(ref Struct obj)\n",
    "{\n",
    "    obj.Value = \"New value!\";\n",
    "}\n",
    "\n",
    "Struct @struct = new Struct{ Value = \"Hello\" };\n",
    "ChangeValue(ref @struct);\n",
    "@struct.Value"
   ]
  },
  {
   "cell_type": "markdown",
   "metadata": {},
   "source": [
    "## 4. \"Конструктор без параметров\""
   ]
  },
  {
   "cell_type": "code",
   "execution_count": 7,
   "metadata": {},
   "outputs": [],
   "source": [
    "struct Rational\n",
    "{\n",
    "    public long Numerator { get; }\n",
    "    public long Denominator { get; } // = 1;\n",
    "    \n",
    "    // public Rational(){}\n",
    "    \n",
    "    public Rational(long numerator, long denominator)\n",
    "    {\n",
    "        Numerator = numerator;\n",
    "        Denominator = denominator;\n",
    "    }\n",
    "    \n",
    "    public override string ToString() => $\"{Numerator}/{Denominator}\";\n",
    "}"
   ]
  },
  {
   "cell_type": "code",
   "execution_count": 8,
   "metadata": {},
   "outputs": [
    {
     "data": {
      "text/html": [
       "<null>"
      ]
     },
     "execution_count": 8,
     "metadata": {},
     "output_type": "execute_result"
    }
   ],
   "source": [
    "object obj;\n",
    "obj"
   ]
  },
  {
   "cell_type": "code",
   "execution_count": 9,
   "metadata": {},
   "outputs": [
    {
     "data": {
      "text/plain": [
       "0/0"
      ]
     },
     "execution_count": 9,
     "metadata": {},
     "output_type": "execute_result"
    }
   ],
   "source": [
    "Rational value;\n",
    "value.ToString()"
   ]
  },
  {
   "cell_type": "code",
   "execution_count": 10,
   "metadata": {},
   "outputs": [],
   "source": [
    "// Вызывать пустой конструктор 10000 раз?\n",
    "Rational[] values = new Rational[10000];"
   ]
  },
  {
   "cell_type": "markdown",
   "metadata": {},
   "source": [
    "Отсылаю к [ответу Джона Скита на SO:](https://stackoverflow.com/a/333840/15753334)\n",
    "\n",
    "> The parameterless constructor isn't created by the compiler. Value types don't have to have constructors as far as the CLR is concerned - although it turns out it can if you write it in IL. When you write \"new Guid()\" in C# that emits different IL to what you get if you call a normal constructor."
   ]
  },
  {
   "cell_type": "markdown",
   "metadata": {},
   "source": [
    "И ещё одна цитата из [другого вопроса](https://stackoverflow.com/questions/203695/does-using-new-on-a-struct-allocate-it-on-the-heap-or-stack), посвящённого \"конструкторам без параметров\" в структурах\n",
    "\n",
    "> ... according to C#, all value types have a parameterless constructor. According to the CLI spec, *no* value types have parameterless constructors. (Fetch the constructors of a value type with reflection some time - you won't find a parameterless one.)"
   ]
  },
  {
   "cell_type": "markdown",
   "metadata": {},
   "source": [
    "**!!!\"Позиция партии\" в этом вопросе отличается!!!**\n",
    "<img src=\"image1.png\" style=\"width: 500px;\">"
   ]
  },
  {
   "cell_type": "markdown",
   "metadata": {},
   "source": [
    "### Резюмируя:\n",
    "- В структурах нельзя определять конструктор без параметров. Пустой конструктор не генерируется при компиляции: его просто нет. **Но в ваших презентациях сказано иное - учитывайте это на тесте.** \n",
    "- При создании экземпляров структур без явного вызова конструктора с параметрами под структуру просто выделяется память и заполняется нулями.\n",
    "- Как следствие, недопустима inline инициализация полей и свойств."
   ]
  },
  {
   "cell_type": "markdown",
   "metadata": {},
   "source": [
    "## 5. Упаковка (boxing)"
   ]
  },
  {
   "cell_type": "markdown",
   "metadata": {},
   "source": [
    "Иерархия наследования всех структур: STRUCT -> System.ValueType -> System.Object\n",
    "\n",
    "Значит, можем приводить экземпляры структур к типу Object. Так как структура - значимый тип, а object - ссылочный, требуется особый механизм приведения, который называется **упаковка (boxing)**. Экземпляр структуры \"оборачивается\" в ссылочный object и помещается в кучу. Это достаточно затратный процесс, поэтому считается плохой практикой."
   ]
  },
  {
   "cell_type": "code",
   "execution_count": 11,
   "metadata": {},
   "outputs": [
    {
     "data": {
      "text/plain": [
       "Message"
      ]
     },
     "execution_count": 11,
     "metadata": {},
     "output_type": "execute_result"
    }
   ],
   "source": [
    "struct Struct\n",
    "{\n",
    "    public string Value { get; set; }\n",
    "}\n",
    "\n",
    "public void ChangeValue(Object obj)\n",
    "{\n",
    "    // Обратный процесс - распаковка.\n",
    "    // Значение копируется в локальную переменную.\n",
    "    Struct s = (Struct)obj;\n",
    "    s.Value = \"New message\";\n",
    "}\n",
    "\n",
    "Struct s = new Struct { Value = \"Message\" };\n",
    "ChangeValue(s); // Упаковка\n",
    "s.Value"
   ]
  },
  {
   "cell_type": "code",
   "execution_count": 12,
   "metadata": {},
   "outputs": [],
   "source": [
    "int five = 5;\n",
    "// Это тоже упаковка!\n",
    "ValueType valueType = five;"
   ]
  },
  {
   "cell_type": "markdown",
   "metadata": {},
   "source": [
    "## 6. Наследование"
   ]
  },
  {
   "cell_type": "markdown",
   "metadata": {},
   "source": [
    "Понимание того, что структуры не наследуются приводит к довольно широким выводам:\n",
    "\n",
    "- Модификаторы sealed, abstract, virtual, protected запрещены, т.к. не имеют смысла;\n",
    "- Структура не может быть статической (не имеет смысла + в IL коде `static class` преобразуется в `abstract sealed class`);"
   ]
  },
  {
   "cell_type": "code",
   "execution_count": 13,
   "metadata": {},
   "outputs": [
    {
     "ename": "Unhandled Exception",
     "evalue": "(1,15): error CS0106: Модификатор \"sealed\" недопустим для этого элемента.\r\n(3,15): error CS0106: Модификатор \"static\" недопустим для этого элемента.\r\n(5,19): error CS0666: '\"Struct.protectedField\": новый защищенный член объявлен в структуре.\r\n(7,26): error CS0106: Модификатор \"abstract\" недопустим для этого элемента.\r\n(9,25): error CS0106: Модификатор \"virtual\" недопустим для этого элемента.",
     "output_type": "error",
     "traceback": [
      "(1,15): error CS0106: Модификатор \"sealed\" недопустим для этого элемента.\r\n(3,15): error CS0106: Модификатор \"static\" недопустим для этого элемента.\r\n(5,19): error CS0666: '\"Struct.protectedField\": новый защищенный член объявлен в структуре.\r\n(7,26): error CS0106: Модификатор \"abstract\" недопустим для этого элемента.\r\n(9,25): error CS0106: Модификатор \"virtual\" недопустим для этого элемента."
     ]
    }
   ],
   "source": [
    "sealed struct Sealed {}\n",
    "\n",
    "static struct Struct\n",
    "{\n",
    "    protected int protectedField;\n",
    "\n",
    "    public abstract void AbstractMethod();\n",
    "    \n",
    "    public virtual void VirtualMethod() {}\n",
    "}"
   ]
  },
  {
   "cell_type": "markdown",
   "metadata": {},
   "source": [
    "**И снова неправда в презентациях, можно переопределять методы object (напр. ToString)**\n",
    "\n",
    "<img src=\"image2.png\" style=\"width: 500px;\">"
   ]
  },
  {
   "cell_type": "markdown",
   "metadata": {},
   "source": [
    "## 7. Реализация интерфейсов"
   ]
  },
  {
   "cell_type": "markdown",
   "metadata": {},
   "source": [
    "Структуры могут реализовывать интерфейсы. \n",
    "\n",
    "Однако т.к. интерфейсы **всегда являются ссылочными типами**, при создании интерфейсной ссылки на инстанс структуры, этот инстанс всегда упаковывается. Что может довольно сильно ударить по производительности, если это не учитывать."
   ]
  },
  {
   "cell_type": "code",
   "execution_count": 14,
   "metadata": {},
   "outputs": [],
   "source": [
    "interface IntValueKeeper\n",
    "{\n",
    "    int Value { get; set; }\n",
    "}\n",
    "\n",
    "struct Struct : IntValueKeeper\n",
    "{\n",
    "    public int Value { get; set; }\n",
    "}"
   ]
  },
  {
   "cell_type": "code",
   "execution_count": 15,
   "metadata": {},
   "outputs": [
    {
     "data": {
      "text/plain": [
       "42"
      ]
     },
     "execution_count": 15,
     "metadata": {},
     "output_type": "execute_result"
    }
   ],
   "source": [
    "void ChangeValue(IntValueKeeper obj, int newValue)\n",
    "{\n",
    "    obj.Value = newValue;\n",
    "}\n",
    "\n",
    "Struct @struct = new Struct { Value = 24 };\n",
    "\n",
    "// Тут инстанс структуры копируется и упаковывается, что довольно плохо.\n",
    "IntValueKeeper boxedStruct = @struct; \n",
    "\n",
    "// Передали как ссылочный тип\n",
    "ChangeValue(boxedStruct, 42);\n",
    "\n",
    "// boxedStruct - ссылочный объект, поэтому значение поменялось!\n",
    "boxedStruct.Value"
   ]
  },
  {
   "cell_type": "code",
   "execution_count": 16,
   "metadata": {},
   "outputs": [
    {
     "data": {
      "text/plain": [
       "24"
      ]
     },
     "execution_count": 16,
     "metadata": {},
     "output_type": "execute_result"
    }
   ],
   "source": [
    "// Изначальная структура никак не поменялась\n",
    "@struct.Value"
   ]
  },
  {
   "cell_type": "code",
   "execution_count": 17,
   "metadata": {},
   "outputs": [
    {
     "data": {
      "text/plain": [
       "False"
      ]
     },
     "execution_count": 17,
     "metadata": {},
     "output_type": "execute_result"
    }
   ],
   "source": [
    "// И опять - сравнение ссылок выдаёт false\n",
    "(IComparable<int>)42 == (IComparable<int>)42"
   ]
  },
  {
   "cell_type": "markdown",
   "metadata": {},
   "source": [
    "## 8. Сравнение структур"
   ]
  },
  {
   "cell_type": "markdown",
   "metadata": {},
   "source": [
    "У структур не определен оператор сравнения ==, однако можно сравнивать экземпляры структур с помощью .Equals() - причём по значению, а не по ссылке."
   ]
  },
  {
   "cell_type": "code",
   "execution_count": 18,
   "metadata": {},
   "outputs": [],
   "source": [
    "struct Point\n",
    "{\n",
    "    public double X { get; set; }\n",
    "    public double Y { get; set; }\n",
    "}"
   ]
  },
  {
   "cell_type": "code",
   "execution_count": 19,
   "metadata": {},
   "outputs": [],
   "source": [
    "Point p1 = new Point { X = 42, Y = 24 };\n",
    "Point p2 = new Point { X = 42, Y = 24 };"
   ]
  },
  {
   "cell_type": "code",
   "execution_count": 20,
   "metadata": {},
   "outputs": [
    {
     "ename": "Unhandled Exception",
     "evalue": "(1,1): error CS0019: Оператор \"==\" невозможно применить к операнду типа \"Point\" и \"Point\".",
     "output_type": "error",
     "traceback": [
      "(1,1): error CS0019: Оператор \"==\" невозможно применить к операнду типа \"Point\" и \"Point\"."
     ]
    }
   ],
   "source": [
    "p1 == p2"
   ]
  },
  {
   "cell_type": "code",
   "execution_count": 21,
   "metadata": {},
   "outputs": [
    {
     "data": {
      "text/plain": [
       "True"
      ]
     },
     "execution_count": 21,
     "metadata": {},
     "output_type": "execute_result"
    }
   ],
   "source": [
    "p1.Equals(p2)"
   ]
  },
  {
   "cell_type": "markdown",
   "metadata": {},
   "source": [
    "## 9. ref, readonly "
   ]
  },
  {
   "cell_type": "markdown",
   "metadata": {},
   "source": [
    "**Модификатор ref запрещает экземплярам структуры временно перейти в управляемую кучу (запрещает boxing).**\n",
    "\n",
    "Это достигается ограничениями на этапе компиляции.\n",
    "\n",
    "https://docs.microsoft.com/ru-ru/dotnet/csharp/language-reference/builtin-types/struct#ref-struct"
   ]
  },
  {
   "cell_type": "code",
   "execution_count": 22,
   "metadata": {},
   "outputs": [],
   "source": [
    "public ref struct RefStruct // : IntValueKeeper\n",
    "{\n",
    "    public int Value { get; set; }\n",
    "}"
   ]
  },
  {
   "cell_type": "code",
   "execution_count": 23,
   "metadata": {},
   "outputs": [
    {
     "ename": "Unhandled Exception",
     "evalue": "(1,1): error CS0611: Элементы массива не могут иметь тип \"RefStruct\".\r\n(1,30): error CS0611: Элементы массива не могут иметь тип \"RefStruct\".",
     "output_type": "error",
     "traceback": [
      "(1,1): error CS0611: Элементы массива не могут иметь тип \"RefStruct\".\r\n(1,30): error CS0611: Элементы массива не могут иметь тип \"RefStruct\"."
     ]
    }
   ],
   "source": [
    "RefStruct[] refStructs = new RefStruct[10];"
   ]
  },
  {
   "cell_type": "code",
   "execution_count": 24,
   "metadata": {},
   "outputs": [
    {
     "ename": "Unhandled Exception",
     "evalue": "(3,5): error CS8345: Поле или автоматически реализуемое свойство не может быть типа \"RefStruct\", если это не член экземпляра ссылочной структуры.",
     "output_type": "error",
     "traceback": [
      "(3,5): error CS8345: Поле или автоматически реализуемое свойство не может быть типа \"RefStruct\", если это не член экземпляра ссылочной структуры."
     ]
    }
   ],
   "source": [
    "class MyClass\n",
    "{\n",
    "    RefStruct refStructField;\n",
    "}"
   ]
  },
  {
   "cell_type": "code",
   "execution_count": 25,
   "metadata": {},
   "outputs": [
    {
     "ename": "Unhandled Exception",
     "evalue": "(1,14): error CS0030: Не удается преобразовать тип \"RefStruct\" в \"object\"",
     "output_type": "error",
     "traceback": [
      "(1,14): error CS0030: Не удается преобразовать тип \"RefStruct\" в \"object\""
     ]
    }
   ],
   "source": [
    "object obj = (object)new RefStruct();"
   ]
  },
  {
   "cell_type": "code",
   "execution_count": 26,
   "metadata": {
    "scrolled": true
   },
   "outputs": [
    {
     "ename": "Unhandled Exception",
     "evalue": "(1,17): error CS0306: Тип \"RefStruct\" не может использоваться в качестве аргумента типа",
     "output_type": "error",
     "traceback": [
      "(1,17): error CS0306: Тип \"RefStruct\" не может использоваться в качестве аргумента типа"
     ]
    }
   ],
   "source": [
    "List<RefStruct> list;"
   ]
  },
  {
   "cell_type": "markdown",
   "metadata": {},
   "source": [
    "**Модификатор readonly** запрещает экземплярам структуры изменяться после инициализации. Все поля должны быть отмечены readonly, свойства не должны имет setter (могут иметь init, начиная с C# 9.0)."
   ]
  },
  {
   "cell_type": "code",
   "execution_count": 27,
   "metadata": {},
   "outputs": [
    {
     "ename": "Unhandled Exception",
     "evalue": "(6,19): error CS8340: Поля экземпляров в структурах только для чтения должны быть доступны только для чтения.\r\n(9,19): error CS8341: Автоматически реализуемые свойства экземпляра в структурах только для чтения должны быть доступны только для чтения.",
     "output_type": "error",
     "traceback": [
      "(6,19): error CS8340: Поля экземпляров в структурах только для чтения должны быть доступны только для чтения.\r\n(9,19): error CS8341: Автоматически реализуемые свойства экземпляра в структурах только для чтения должны быть доступны только для чтения."
     ]
    }
   ],
   "source": [
    "public readonly struct ReadonlyStruct\n",
    "{\n",
    "    public readonly int count;\n",
    "    \n",
    "    // Ошибка: должно быть readonly\n",
    "    public double length;\n",
    "    \n",
    "    // Ошибка: set недопустим\n",
    "    public string Name { get; set; }\n",
    "}"
   ]
  },
  {
   "cell_type": "markdown",
   "metadata": {},
   "source": [
    "Причины пользоваться неизменяемыми типами данных:\n",
    "- Потокобезопасность\n",
    "- Надёжность\n",
    "- Инкапсуляция\n",
    "- Простота"
   ]
  },
  {
   "cell_type": "markdown",
   "metadata": {},
   "source": [
    "## 10. Nullable"
   ]
  },
  {
   "cell_type": "markdown",
   "metadata": {},
   "source": [
    "Структуры можно делать Nullable, т.е. добавить поддержку значения null. "
   ]
  },
  {
   "cell_type": "code",
   "execution_count": 28,
   "metadata": {},
   "outputs": [
    {
     "data": {
      "text/plain": [
       "3"
      ]
     },
     "execution_count": 28,
     "metadata": {},
     "output_type": "execute_result"
    }
   ],
   "source": [
    "Nullable<int> nullableIntValue = 3;\n",
    "nullableIntValue"
   ]
  },
  {
   "cell_type": "code",
   "execution_count": 29,
   "metadata": {},
   "outputs": [
    {
     "data": {
      "text/html": [
       "<null>"
      ]
     },
     "execution_count": 29,
     "metadata": {},
     "output_type": "execute_result"
    }
   ],
   "source": [
    "// Упрощённый синтаксис того же самого\n",
    "int? nullableIntNull = null;\n",
    "nullableIntNull"
   ]
  },
  {
   "cell_type": "markdown",
   "metadata": {},
   "source": [
    "Для проверки существования значения используется свойство HasValue, для получения значения - Value."
   ]
  },
  {
   "cell_type": "code",
   "execution_count": 30,
   "metadata": {},
   "outputs": [
    {
     "data": {
      "text/plain": [
       "True"
      ]
     },
     "execution_count": 30,
     "metadata": {},
     "output_type": "execute_result"
    }
   ],
   "source": [
    "nullableIntValue.HasValue"
   ]
  },
  {
   "cell_type": "code",
   "execution_count": 31,
   "metadata": {},
   "outputs": [
    {
     "data": {
      "text/plain": [
       "3"
      ]
     },
     "execution_count": 31,
     "metadata": {},
     "output_type": "execute_result"
    }
   ],
   "source": [
    "nullableIntValue.Value"
   ]
  },
  {
   "cell_type": "code",
   "execution_count": 32,
   "metadata": {},
   "outputs": [
    {
     "data": {
      "text/plain": [
       "False"
      ]
     },
     "execution_count": 32,
     "metadata": {},
     "output_type": "execute_result"
    }
   ],
   "source": [
    "nullableIntNull.HasValue"
   ]
  },
  {
   "cell_type": "markdown",
   "metadata": {},
   "source": [
    "Если попробуете достать значение которого нет - получите исключение."
   ]
  },
  {
   "cell_type": "code",
   "execution_count": 33,
   "metadata": {
    "scrolled": true
   },
   "outputs": [
    {
     "ename": "Unhandled Exception",
     "evalue": "Nullable object must have a value.",
     "output_type": "error",
     "traceback": [
      "Unhandled Exception",
      "Nullable object must have a value.",
      "   at System.Nullable`1.get_Value()",
      "   at Submission#34.<<Initialize>>d__0.MoveNext()",
      "--- End of stack trace from previous location where exception was thrown ---",
      "   at Microsoft.CodeAnalysis.Scripting.ScriptExecutionState.RunSubmissionsAsync[TResult](ImmutableArray`1 precedingExecutors, Func`2 currentExecutor, StrongBox`1 exceptionHolderOpt, Func`2 catchExceptionOpt, CancellationToken cancellationToken)"
     ]
    }
   ],
   "source": [
    "nullableIntNull.Value"
   ]
  },
  {
   "cell_type": "markdown",
   "metadata": {},
   "source": [
    "**Nullable<T> это всё ещё структура!**"
   ]
  },
  {
   "cell_type": "markdown",
   "metadata": {},
   "source": [
    "## 11. Общие рекомендации"
   ]
  },
  {
   "cell_type": "markdown",
   "metadata": {},
   "source": [
    "- Ввиду особенностей структур, не рекомендуется создавать структуры больших размеров (>16 байт).\n",
    "- Следует помнить о дорогих операциях упаковки-распаковки, особенно при реализации интерфейсов.\n",
    "- Обычно структуры используют для определения легковесных типов без сложного состояния и поведения. Хорошие примеры - координаты на плоскости или рациональное число.\n",
    "- Желательно делать их immutable (неизменяемыми). Для этого есть модификатор readonly."
   ]
  }
 ],
 "metadata": {
  "kernelspec": {
   "display_name": ".NET (C#)",
   "language": "C#",
   "name": ".net-csharp"
  },
  "language_info": {
   "file_extension": ".cs",
   "mimetype": "text/x-csharp",
   "name": "C#",
   "pygments_lexer": "csharp",
   "version": "8.0"
  }
 },
 "nbformat": 4,
 "nbformat_minor": 4
}
