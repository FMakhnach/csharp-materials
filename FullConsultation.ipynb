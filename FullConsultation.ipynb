{
 "cells": [
  {
   "cell_type": "markdown",
   "metadata": {},
   "source": [
    "# Консультация 2021\n",
    "## Подготовил Махнач Фёдор, tg: @fmakhnach"
   ]
  },
  {
   "cell_type": "markdown",
   "metadata": {},
   "source": [
    "# Структуры"
   ]
  },
  {
   "cell_type": "markdown",
   "metadata": {},
   "source": [
    "Структуры это т.н. **значимые** типы. Их особенность: память под них выделяется прямо на стеке (для локальных переменных и параметров) **ИЛИ** прямо в памяти объекта (для полей). \n",
    "\n",
    "В противоположность, объекты ссылочных типов (class) размещаются в куче, а в стеке (или внутри других объектов) располагаются ссылки на эти объекты.\n",
    "\n",
    "Вытекающие:\n",
    "- Не управляются garbage collector'ом;\n",
    "- Время жизни ограничено областью видимости (scope);\n",
    "- При передаче в методы экземпляры структур **копируются (!)**;\n",
    "- Нужно что-то делать с инициализацией по умолчанию, т.к. значение null неприменимо.\n",
    "- **Не наследуются!** Мы точно должны знать размер экземпляра структуры, что невозможно, если допустить наследование;"
   ]
  },
  {
   "cell_type": "markdown",
   "metadata": {},
   "source": [
    "## 1. Память выделяется прямо \"на месте\""
   ]
  },
  {
   "cell_type": "code",
   "execution_count": 1,
   "metadata": {},
   "outputs": [],
   "source": [
    "struct Struct\n",
    "{\n",
    "    public string Value { get; set; }\n",
    "}"
   ]
  },
  {
   "cell_type": "code",
   "execution_count": 2,
   "metadata": {},
   "outputs": [],
   "source": [
    "class MyClass\n",
    "{\n",
    "    // Память выделяется на всю структуру прямо внутри объекта MyClass.\n",
    "    private Struct value;\n",
    "    \n",
    "    // Память внутри объекта выделяется только на ссылку!\n",
    "    private object obj;\n",
    "    \n",
    "    public void Method()\n",
    "    {\n",
    "        Struct localValue; // Память выделилась на стеке\n",
    "    }\n",
    "}"
   ]
  },
  {
   "cell_type": "markdown",
   "metadata": {},
   "source": [
    "## 2.  Время жизни ограничено scope'ом"
   ]
  },
  {
   "cell_type": "code",
   "execution_count": 3,
   "metadata": {},
   "outputs": [],
   "source": [
    "void MyMethod()\n",
    "{\n",
    "\n",
    "    Struct @struct = new Struct { Value = \"Hello\" };\n",
    "    \n",
    "    object obj = new object();\n",
    "    \n",
    "} // В этот момент @struct \"умирает\", а obj может всё ещё существовать в памяти!"
   ]
  },
  {
   "cell_type": "markdown",
   "metadata": {},
   "source": [
    "## 3. Передача структур в методы"
   ]
  },
  {
   "cell_type": "code",
   "execution_count": 4,
   "metadata": {},
   "outputs": [
    {
     "data": {
      "text/plain": [
       "New value!"
      ]
     },
     "execution_count": 4,
     "metadata": {},
     "output_type": "execute_result"
    }
   ],
   "source": [
    "class Class\n",
    "{\n",
    "    public string Value { get; set; }\n",
    "}\n",
    "\n",
    "// Копируем ссылку: можем обращаться к полям исходного объекта.\n",
    "void ChangeValue(Class obj)\n",
    "{\n",
    "    obj.Value = \"New value!\";\n",
    "}\n",
    "\n",
    "Class @class = new Class{ Value = \"Hello\" };\n",
    "ChangeValue(@class);\n",
    "@class.Value"
   ]
  },
  {
   "cell_type": "code",
   "execution_count": 5,
   "metadata": {},
   "outputs": [
    {
     "data": {
      "text/plain": [
       "Hello"
      ]
     },
     "execution_count": 5,
     "metadata": {},
     "output_type": "execute_result"
    }
   ],
   "source": [
    "// Копируем весь инстанс: нет доступа к исходному объекту.\n",
    "void ChangeValue(Struct obj)\n",
    "{\n",
    "    obj.Value = \"New value!\";\n",
    "}\n",
    "\n",
    "Struct @struct = new Struct{ Value = \"Hello\" };\n",
    "ChangeValue(@struct);\n",
    "@struct.Value"
   ]
  },
  {
   "cell_type": "markdown",
   "metadata": {},
   "source": [
    "Если очень хочется, то можно через ref"
   ]
  },
  {
   "cell_type": "code",
   "execution_count": 6,
   "metadata": {},
   "outputs": [
    {
     "data": {
      "text/plain": [
       "New value!"
      ]
     },
     "execution_count": 6,
     "metadata": {},
     "output_type": "execute_result"
    }
   ],
   "source": [
    "// Копируем весь инстанс: нет доступа к исходному объекту.\n",
    "void ChangeValue(ref Struct obj)\n",
    "{\n",
    "    obj.Value = \"New value!\";\n",
    "}\n",
    "\n",
    "Struct @struct = new Struct{ Value = \"Hello\" };\n",
    "ChangeValue(ref @struct);\n",
    "@struct.Value"
   ]
  },
  {
   "cell_type": "markdown",
   "metadata": {},
   "source": [
    "## 4. \"Конструктор без параметров\""
   ]
  },
  {
   "cell_type": "code",
   "execution_count": 1,
   "metadata": {},
   "outputs": [
    {
     "ename": "Unhandled Exception",
     "evalue": "(4,17): error CS0573: '\"Rational\": в структуре не могут содержаться инициализаторы свойств или полей экземпляров.",
     "output_type": "error",
     "traceback": [
      "(4,17): error CS0573: '\"Rational\": в структуре не могут содержаться инициализаторы свойств или полей экземпляров."
     ]
    }
   ],
   "source": [
    "struct Rational\n",
    "{\n",
    "    public long Numerator { get; }\n",
    "    public long Denominator { get; } // = 1;\n",
    "    \n",
    "    // public Rational(){}\n",
    "    \n",
    "    public Rational(long numerator, long denominator)\n",
    "    {\n",
    "        Numerator = numerator;\n",
    "        Denominator = denominator;\n",
    "    }\n",
    "    \n",
    "    public override string ToString() => $\"{Numerator}/{Denominator}\";\n",
    "}"
   ]
  },
  {
   "cell_type": "code",
   "execution_count": 8,
   "metadata": {},
   "outputs": [
    {
     "data": {
      "text/html": [
       "<null>"
      ]
     },
     "execution_count": 8,
     "metadata": {},
     "output_type": "execute_result"
    }
   ],
   "source": [
    "object obj;\n",
    "obj"
   ]
  },
  {
   "cell_type": "code",
   "execution_count": 9,
   "metadata": {},
   "outputs": [
    {
     "data": {
      "text/plain": [
       "0/0"
      ]
     },
     "execution_count": 9,
     "metadata": {},
     "output_type": "execute_result"
    }
   ],
   "source": [
    "Rational value;\n",
    "value.ToString()"
   ]
  },
  {
   "cell_type": "code",
   "execution_count": 10,
   "metadata": {},
   "outputs": [],
   "source": [
    "// Вызывать пустой конструктор 10000 раз?\n",
    "Rational[] values = new Rational[10000];"
   ]
  },
  {
   "cell_type": "markdown",
   "metadata": {},
   "source": [
    "Отсылаю к [ответу Джона Скита на SO:](https://stackoverflow.com/a/333840/15753334)\n",
    "\n",
    "> The parameterless constructor isn't created by the compiler. Value types don't have to have constructors as far as the CLR is concerned - although it turns out it can if you write it in IL. When you write \"new Guid()\" in C# that emits different IL to what you get if you call a normal constructor."
   ]
  },
  {
   "cell_type": "markdown",
   "metadata": {},
   "source": [
    "И ещё одна цитата из [другого вопроса](https://stackoverflow.com/questions/203695/does-using-new-on-a-struct-allocate-it-on-the-heap-or-stack), посвящённого \"конструкторам без параметров\" в структурах\n",
    "\n",
    "> ... according to C#, all value types have a parameterless constructor. According to the CLI spec, *no* value types have parameterless constructors. (Fetch the constructors of a value type with reflection some time - you won't find a parameterless one.)"
   ]
  },
  {
   "cell_type": "markdown",
   "metadata": {},
   "source": [
    "**!!!\"Позиция партии\" в этом вопросе отличается!!!**\n",
    "<img src=\"image1.png\" style=\"width: 500px;\">"
   ]
  },
  {
   "cell_type": "markdown",
   "metadata": {},
   "source": [
    "### Резюмируя:\n",
    "- В структурах нельзя определять конструктор без параметров. Пустой конструктор не генерируется при компиляции: его просто нет. **Но в ваших презентациях сказано иное - учитывайте это на тесте.** \n",
    "- При создании экземпляров структур без явного вызова конструктора с параметрами под структуру просто выделяется память и заполняется нулями.\n",
    "- Как следствие, недопустима inline инициализация полей и свойств."
   ]
  },
  {
   "cell_type": "markdown",
   "metadata": {},
   "source": [
    "## 5. Упаковка (boxing)"
   ]
  },
  {
   "cell_type": "markdown",
   "metadata": {},
   "source": [
    "Иерархия наследования всех структур: STRUCT -> System.ValueType -> System.Object\n",
    "\n",
    "Значит, можем приводить экземпляры структур к типу Object. Так как структура - значимый тип, а object - ссылочный, требуется особый механизм приведения, который называется **упаковка (boxing)**. Экземпляр структуры \"оборачивается\" в ссылочный object и помещается в кучу. Это достаточно затратный процесс, поэтому считается плохой практикой."
   ]
  },
  {
   "cell_type": "code",
   "execution_count": 11,
   "metadata": {},
   "outputs": [
    {
     "data": {
      "text/plain": [
       "Message"
      ]
     },
     "execution_count": 11,
     "metadata": {},
     "output_type": "execute_result"
    }
   ],
   "source": [
    "struct Struct\n",
    "{\n",
    "    public string Value { get; set; }\n",
    "}\n",
    "\n",
    "public void ChangeValue(Object obj)\n",
    "{\n",
    "    // Обратный процесс - распаковка.\n",
    "    // Значение копируется в локальную переменную.\n",
    "    Struct s = (Struct)obj;\n",
    "    s.Value = \"New message\";\n",
    "}\n",
    "\n",
    "Struct s = new Struct { Value = \"Message\" };\n",
    "ChangeValue(s); // Упаковка\n",
    "s.Value"
   ]
  },
  {
   "cell_type": "code",
   "execution_count": 12,
   "metadata": {},
   "outputs": [],
   "source": [
    "int five = 5;\n",
    "// Это тоже упаковка!\n",
    "ValueType valueType = five;"
   ]
  },
  {
   "cell_type": "markdown",
   "metadata": {},
   "source": [
    "## 6. Наследование"
   ]
  },
  {
   "cell_type": "markdown",
   "metadata": {},
   "source": [
    "Понимание того, что структуры не наследуются приводит к довольно широким выводам:\n",
    "\n",
    "- Модификаторы sealed, abstract, virtual, protected запрещены, т.к. не имеют смысла;\n",
    "- Структура не может быть статической (не имеет смысла + в IL коде `static class` преобразуется в `abstract sealed class`);"
   ]
  },
  {
   "cell_type": "code",
   "execution_count": 13,
   "metadata": {},
   "outputs": [
    {
     "ename": "Unhandled Exception",
     "evalue": "(1,15): error CS0106: Модификатор \"sealed\" недопустим для этого элемента.\r\n(3,15): error CS0106: Модификатор \"static\" недопустим для этого элемента.\r\n(5,19): error CS0666: '\"Struct.protectedField\": новый защищенный член объявлен в структуре.\r\n(7,26): error CS0106: Модификатор \"abstract\" недопустим для этого элемента.\r\n(9,25): error CS0106: Модификатор \"virtual\" недопустим для этого элемента.",
     "output_type": "error",
     "traceback": [
      "(1,15): error CS0106: Модификатор \"sealed\" недопустим для этого элемента.\r\n(3,15): error CS0106: Модификатор \"static\" недопустим для этого элемента.\r\n(5,19): error CS0666: '\"Struct.protectedField\": новый защищенный член объявлен в структуре.\r\n(7,26): error CS0106: Модификатор \"abstract\" недопустим для этого элемента.\r\n(9,25): error CS0106: Модификатор \"virtual\" недопустим для этого элемента."
     ]
    }
   ],
   "source": [
    "sealed struct Sealed {}\n",
    "\n",
    "static struct Struct\n",
    "{\n",
    "    protected int protectedField;\n",
    "\n",
    "    public abstract void AbstractMethod();\n",
    "    \n",
    "    public virtual void VirtualMethod() {}\n",
    "}"
   ]
  },
  {
   "cell_type": "markdown",
   "metadata": {},
   "source": [
    "**И снова неправда в презентациях, можно переопределять методы object (напр. ToString)**\n",
    "\n",
    "<img src=\"image2.png\" style=\"width: 500px;\">"
   ]
  },
  {
   "cell_type": "markdown",
   "metadata": {},
   "source": [
    "## 7. Реализация интерфейсов"
   ]
  },
  {
   "cell_type": "markdown",
   "metadata": {},
   "source": [
    "Структуры могут реализовывать интерфейсы. \n",
    "\n",
    "Однако т.к. интерфейсы **всегда являются ссылочными типами**, при создании интерфейсной ссылки на инстанс структуры, этот инстанс всегда упаковывается. Что может довольно сильно ударить по производительности, если это не учитывать."
   ]
  },
  {
   "cell_type": "code",
   "execution_count": 14,
   "metadata": {},
   "outputs": [],
   "source": [
    "interface IntValueKeeper\n",
    "{\n",
    "    int Value { get; set; }\n",
    "}\n",
    "\n",
    "struct Struct : IntValueKeeper\n",
    "{\n",
    "    public int Value { get; set; }\n",
    "}"
   ]
  },
  {
   "cell_type": "code",
   "execution_count": 15,
   "metadata": {},
   "outputs": [
    {
     "data": {
      "text/plain": [
       "42"
      ]
     },
     "execution_count": 15,
     "metadata": {},
     "output_type": "execute_result"
    }
   ],
   "source": [
    "void ChangeValue(IntValueKeeper obj, int newValue)\n",
    "{\n",
    "    obj.Value = newValue;\n",
    "}\n",
    "\n",
    "Struct @struct = new Struct { Value = 24 };\n",
    "\n",
    "// Тут инстанс структуры копируется и упаковывается, что довольно плохо.\n",
    "IntValueKeeper boxedStruct = @struct; \n",
    "\n",
    "// Передали как ссылочный тип\n",
    "ChangeValue(boxedStruct, 42);\n",
    "\n",
    "// boxedStruct - ссылочный объект, поэтому значение поменялось!\n",
    "boxedStruct.Value"
   ]
  },
  {
   "cell_type": "code",
   "execution_count": 16,
   "metadata": {},
   "outputs": [
    {
     "data": {
      "text/plain": [
       "24"
      ]
     },
     "execution_count": 16,
     "metadata": {},
     "output_type": "execute_result"
    }
   ],
   "source": [
    "// Изначальная структура никак не поменялась\n",
    "@struct.Value"
   ]
  },
  {
   "cell_type": "code",
   "execution_count": 17,
   "metadata": {},
   "outputs": [
    {
     "data": {
      "text/plain": [
       "False"
      ]
     },
     "execution_count": 17,
     "metadata": {},
     "output_type": "execute_result"
    }
   ],
   "source": [
    "// И опять - сравнение ссылок выдаёт false\n",
    "(IComparable<int>)42 == (IComparable<int>)42"
   ]
  },
  {
   "cell_type": "markdown",
   "metadata": {},
   "source": [
    "## 8. Сравнение структур"
   ]
  },
  {
   "cell_type": "markdown",
   "metadata": {},
   "source": [
    "У структур не определен оператор сравнения ==, однако можно сравнивать экземпляры структур с помощью .Equals() - причём по значению, а не по ссылке."
   ]
  },
  {
   "cell_type": "code",
   "execution_count": 6,
   "metadata": {},
   "outputs": [],
   "source": [
    "struct Point\n",
    "{\n",
    "    public double X { get; set; }\n",
    "    public double Y { get; set; }\n",
    "}"
   ]
  },
  {
   "cell_type": "code",
   "execution_count": 7,
   "metadata": {},
   "outputs": [],
   "source": [
    "Point p1 = new Point { X = 42, Y = 24 };\n",
    "Point p2 = new Point { X = 42, Y = 24 };"
   ]
  },
  {
   "cell_type": "code",
   "execution_count": 8,
   "metadata": {
    "scrolled": true
   },
   "outputs": [
    {
     "ename": "Unhandled Exception",
     "evalue": "(1,1): error CS0019: Оператор \"==\" невозможно применить к операнду типа \"Point\" и \"Point\".",
     "output_type": "error",
     "traceback": [
      "(1,1): error CS0019: Оператор \"==\" невозможно применить к операнду типа \"Point\" и \"Point\"."
     ]
    }
   ],
   "source": [
    "p1 == p2"
   ]
  },
  {
   "cell_type": "code",
   "execution_count": 9,
   "metadata": {
    "scrolled": true
   },
   "outputs": [
    {
     "data": {
      "text/plain": [
       "True"
      ]
     },
     "execution_count": 9,
     "metadata": {},
     "output_type": "execute_result"
    }
   ],
   "source": [
    "p1.Equals(p2)"
   ]
  },
  {
   "cell_type": "markdown",
   "metadata": {},
   "source": [
    "## 9. ref, readonly "
   ]
  },
  {
   "cell_type": "markdown",
   "metadata": {},
   "source": [
    "**Модификатор ref запрещает экземплярам структуры временно перейти в управляемую кучу (запрещает boxing).**\n",
    "\n",
    "Это достигается ограничениями на этапе компиляции.\n",
    "\n",
    "https://docs.microsoft.com/ru-ru/dotnet/csharp/language-reference/builtin-types/struct#ref-struct"
   ]
  },
  {
   "cell_type": "code",
   "execution_count": 22,
   "metadata": {},
   "outputs": [],
   "source": [
    "public ref struct RefStruct // : IntValueKeeper\n",
    "{\n",
    "    public int Value { get; set; }\n",
    "}"
   ]
  },
  {
   "cell_type": "code",
   "execution_count": 23,
   "metadata": {},
   "outputs": [
    {
     "ename": "Unhandled Exception",
     "evalue": "(1,1): error CS0611: Элементы массива не могут иметь тип \"RefStruct\".\r\n(1,30): error CS0611: Элементы массива не могут иметь тип \"RefStruct\".",
     "output_type": "error",
     "traceback": [
      "(1,1): error CS0611: Элементы массива не могут иметь тип \"RefStruct\".\r\n(1,30): error CS0611: Элементы массива не могут иметь тип \"RefStruct\"."
     ]
    }
   ],
   "source": [
    "RefStruct[] refStructs = new RefStruct[10];"
   ]
  },
  {
   "cell_type": "code",
   "execution_count": 24,
   "metadata": {},
   "outputs": [
    {
     "ename": "Unhandled Exception",
     "evalue": "(3,5): error CS8345: Поле или автоматически реализуемое свойство не может быть типа \"RefStruct\", если это не член экземпляра ссылочной структуры.",
     "output_type": "error",
     "traceback": [
      "(3,5): error CS8345: Поле или автоматически реализуемое свойство не может быть типа \"RefStruct\", если это не член экземпляра ссылочной структуры."
     ]
    }
   ],
   "source": [
    "class MyClass\n",
    "{\n",
    "    RefStruct refStructField;\n",
    "}"
   ]
  },
  {
   "cell_type": "code",
   "execution_count": 25,
   "metadata": {},
   "outputs": [
    {
     "ename": "Unhandled Exception",
     "evalue": "(1,14): error CS0030: Не удается преобразовать тип \"RefStruct\" в \"object\"",
     "output_type": "error",
     "traceback": [
      "(1,14): error CS0030: Не удается преобразовать тип \"RefStruct\" в \"object\""
     ]
    }
   ],
   "source": [
    "object obj = (object)new RefStruct();"
   ]
  },
  {
   "cell_type": "code",
   "execution_count": 26,
   "metadata": {
    "scrolled": true
   },
   "outputs": [
    {
     "ename": "Unhandled Exception",
     "evalue": "(1,17): error CS0306: Тип \"RefStruct\" не может использоваться в качестве аргумента типа",
     "output_type": "error",
     "traceback": [
      "(1,17): error CS0306: Тип \"RefStruct\" не может использоваться в качестве аргумента типа"
     ]
    }
   ],
   "source": [
    "List<RefStruct> list;"
   ]
  },
  {
   "cell_type": "markdown",
   "metadata": {},
   "source": [
    "**Модификатор readonly** запрещает экземплярам структуры изменяться после инициализации. Все поля должны быть отмечены readonly, свойства не должны имет setter (могут иметь init, начиная с C# 9.0)."
   ]
  },
  {
   "cell_type": "code",
   "execution_count": 27,
   "metadata": {},
   "outputs": [
    {
     "ename": "Unhandled Exception",
     "evalue": "(6,19): error CS8340: Поля экземпляров в структурах только для чтения должны быть доступны только для чтения.\r\n(9,19): error CS8341: Автоматически реализуемые свойства экземпляра в структурах только для чтения должны быть доступны только для чтения.",
     "output_type": "error",
     "traceback": [
      "(6,19): error CS8340: Поля экземпляров в структурах только для чтения должны быть доступны только для чтения.\r\n(9,19): error CS8341: Автоматически реализуемые свойства экземпляра в структурах только для чтения должны быть доступны только для чтения."
     ]
    }
   ],
   "source": [
    "public readonly struct ReadonlyStruct\n",
    "{\n",
    "    public readonly int count;\n",
    "    \n",
    "    // Ошибка: должно быть readonly\n",
    "    public double length;\n",
    "    \n",
    "    // Ошибка: set недопустим\n",
    "    public string Name { get; set; }\n",
    "}"
   ]
  },
  {
   "cell_type": "markdown",
   "metadata": {},
   "source": [
    "Причины пользоваться неизменяемыми типами данных:\n",
    "- Потокобезопасность\n",
    "- Надёжность\n",
    "- Инкапсуляция\n",
    "- Простота"
   ]
  },
  {
   "cell_type": "markdown",
   "metadata": {},
   "source": [
    "## 10. Nullable"
   ]
  },
  {
   "cell_type": "markdown",
   "metadata": {},
   "source": [
    "Структуры можно делать Nullable, т.е. добавить поддержку значения null. "
   ]
  },
  {
   "cell_type": "code",
   "execution_count": 28,
   "metadata": {},
   "outputs": [
    {
     "data": {
      "text/plain": [
       "3"
      ]
     },
     "execution_count": 28,
     "metadata": {},
     "output_type": "execute_result"
    }
   ],
   "source": [
    "Nullable<int> nullableIntValue = 3;\n",
    "nullableIntValue"
   ]
  },
  {
   "cell_type": "code",
   "execution_count": 29,
   "metadata": {},
   "outputs": [
    {
     "data": {
      "text/html": [
       "<null>"
      ]
     },
     "execution_count": 29,
     "metadata": {},
     "output_type": "execute_result"
    }
   ],
   "source": [
    "// Упрощённый синтаксис того же самого\n",
    "int? nullableIntNull = null;\n",
    "nullableIntNull"
   ]
  },
  {
   "cell_type": "markdown",
   "metadata": {},
   "source": [
    "Для проверки существования значения используется свойство HasValue, для получения значения - Value."
   ]
  },
  {
   "cell_type": "code",
   "execution_count": 30,
   "metadata": {},
   "outputs": [
    {
     "data": {
      "text/plain": [
       "True"
      ]
     },
     "execution_count": 30,
     "metadata": {},
     "output_type": "execute_result"
    }
   ],
   "source": [
    "nullableIntValue.HasValue"
   ]
  },
  {
   "cell_type": "code",
   "execution_count": 31,
   "metadata": {},
   "outputs": [
    {
     "data": {
      "text/plain": [
       "3"
      ]
     },
     "execution_count": 31,
     "metadata": {},
     "output_type": "execute_result"
    }
   ],
   "source": [
    "nullableIntValue.Value"
   ]
  },
  {
   "cell_type": "code",
   "execution_count": 32,
   "metadata": {},
   "outputs": [
    {
     "data": {
      "text/plain": [
       "False"
      ]
     },
     "execution_count": 32,
     "metadata": {},
     "output_type": "execute_result"
    }
   ],
   "source": [
    "nullableIntNull.HasValue"
   ]
  },
  {
   "cell_type": "markdown",
   "metadata": {},
   "source": [
    "Если попробуете достать значение которого нет - получите исключение."
   ]
  },
  {
   "cell_type": "code",
   "execution_count": 33,
   "metadata": {
    "scrolled": true
   },
   "outputs": [
    {
     "ename": "Unhandled Exception",
     "evalue": "Nullable object must have a value.",
     "output_type": "error",
     "traceback": [
      "Unhandled Exception",
      "Nullable object must have a value.",
      "   at System.Nullable`1.get_Value()",
      "   at Submission#34.<<Initialize>>d__0.MoveNext()",
      "--- End of stack trace from previous location where exception was thrown ---",
      "   at Microsoft.CodeAnalysis.Scripting.ScriptExecutionState.RunSubmissionsAsync[TResult](ImmutableArray`1 precedingExecutors, Func`2 currentExecutor, StrongBox`1 exceptionHolderOpt, Func`2 catchExceptionOpt, CancellationToken cancellationToken)"
     ]
    }
   ],
   "source": [
    "nullableIntNull.Value"
   ]
  },
  {
   "cell_type": "markdown",
   "metadata": {},
   "source": [
    "**Nullable<T> это всё ещё структура!**"
   ]
  },
  {
   "cell_type": "markdown",
   "metadata": {},
   "source": [
    "## 11. Общие рекомендации"
   ]
  },
  {
   "cell_type": "markdown",
   "metadata": {},
   "source": [
    "- Ввиду особенностей структур, не рекомендуется создавать структуры больших размеров (>16 байт).\n",
    "- Следует помнить о дорогих операциях упаковки-распаковки, особенно при реализации интерфейсов.\n",
    "- Обычно структуры используют для определения легковесных типов без сложного состояния и поведения. Хорошие примеры - координаты на плоскости или рациональное число.\n",
    "- Желательно делать их immutable (неизменяемыми). Для этого есть модификатор readonly."
   ]
  },
  {
   "cell_type": "markdown",
   "metadata": {},
   "source": [
    "# Делегаты"
   ]
  },
  {
   "cell_type": "markdown",
   "metadata": {},
   "source": [
    "**Делегаты** являются реализацией механизма *обратного вызова* в C# и CLR.\n",
    "\n",
    "Делегат - тип, экземпляры которого способны хранить и вызывать методы с фиксированным набором параметров и типом возвращаемого значения."
   ]
  },
  {
   "cell_type": "markdown",
   "metadata": {},
   "source": [
    " ## 1. Пример"
   ]
  },
  {
   "cell_type": "code",
   "execution_count": 1,
   "metadata": {},
   "outputs": [],
   "source": [
    "// Пример объявления делегата\n",
    "public delegate double BinaryOperation(double left, double right);"
   ]
  },
  {
   "cell_type": "code",
   "execution_count": 2,
   "metadata": {},
   "outputs": [],
   "source": [
    "double CalculateMark(double accumulated, double exam)\n",
    "{\n",
    "    if(exam < 4.0)\n",
    "    {\n",
    "        return exam;\n",
    "    }\n",
    "    return 0.4 * exam + 0.6 * accumulated; \n",
    "}"
   ]
  },
  {
   "cell_type": "code",
   "execution_count": 3,
   "metadata": {},
   "outputs": [],
   "source": [
    "int[] GetResultMarks((double Accumulated, double Exam)[] studentMarks, BinaryOperation formula)\n",
    "{\n",
    "    int[] result = new int[studentMarks.Length];\n",
    "    if (formula is null) \n",
    "    {\n",
    "        return result;\n",
    "    }\n",
    "    for(int i = 0; i < studentMarks.Length; i++)\n",
    "    {\n",
    "        // Тут на самом деле вызывается formula.Invoke(...)\n",
    "        double formulaResult = formula(studentMarks[i].Accumulated, studentMarks[i].Exam);\n",
    "        result[i] = (int)Math.Round(formulaResult, MidpointRounding.AwayFromZero);\n",
    "    }\n",
    "    return result;\n",
    "}"
   ]
  },
  {
   "cell_type": "code",
   "execution_count": 4,
   "metadata": {
    "scrolled": true
   },
   "outputs": [
    {
     "data": {
      "text/html": [
       "<table><thead><tr><th><i>index</i></th><th>value</th></tr></thead><tbody><tr><td>0</td><td>5</td></tr><tr><td>1</td><td>9</td></tr><tr><td>2</td><td>9</td></tr></tbody></table>"
      ]
     },
     "execution_count": 4,
     "metadata": {},
     "output_type": "execute_result"
    }
   ],
   "source": [
    "var marks = new (double Accumulated, double Exam)[] { (3.7, 6.5), (9.8, 7.4), (8.4, 9.2) };\n",
    "\n",
    "// На самом деле это разворачивается в GetResultMarks(marks, new BinaryOperation(CalculateMark))\n",
    "GetResultMarks(marks, CalculateMark)"
   ]
  },
  {
   "cell_type": "markdown",
   "metadata": {},
   "source": [
    "## 2. Внутренности"
   ]
  },
  {
   "cell_type": "markdown",
   "metadata": {},
   "source": [
    "Любой делегат под капотом представляет из себя специальный класс. Например, для делегата\n",
    "```\n",
    "public delegate double BinaryOperation(double left, double right);\n",
    "```\n",
    "на этапе компиляции создастся примерно такой класс:"
   ]
  },
  {
   "cell_type": "code",
   "execution_count": null,
   "metadata": {},
   "outputs": [],
   "source": [
    "internal class BinaryOperation : System.MulticastDelegate\n",
    "{\n",
    "    public Feedback(Object obj, IntPtr method);\n",
    "    \n",
    "    public virtual double Invoke(double left, double right);\n",
    "    \n",
    "    public virtual IAsyncResult BeginInvoke(double left, double right, AsyncCallback callback, Object object);\n",
    "    \n",
    "    public virtual void EndInvoke(IAsyncResult result);\n",
    "}"
   ]
  },
  {
   "cell_type": "markdown",
   "metadata": {},
   "source": [
    "## 3. Ковариация и контравариация"
   ]
  },
  {
   "cell_type": "markdown",
   "metadata": {},
   "source": [
    "Делегаты поддерживают ковариацию и контравариацию **для ссылочных типов** при привязке методов к делегату.\n",
    "\n",
    "**Ковариация** позволяет привязать к делегату метод с типом возвращаемого значения, *производного* от типа, возвращаемого делегатом.\n",
    "\n",
    "**Контравариация** позволяет привязать к делегату метод с типом параметра, *базового* для типа параметра делегата."
   ]
  },
  {
   "cell_type": "markdown",
   "metadata": {},
   "source": [
    "Пример ковариации и контравариации в одном флаконе:"
   ]
  },
  {
   "cell_type": "code",
   "execution_count": 6,
   "metadata": {},
   "outputs": [],
   "source": [
    "using System.IO;\n",
    "\n",
    "// Обратите внимание на типы\n",
    "public delegate object MyCallback(FileStream s);\n",
    "\n",
    "public class MyClass\n",
    "{\n",
    "    // Обратите внимание на типы\n",
    "    public string SomeMethod(Stream s)\n",
    "    {\n",
    "        // do something\n",
    "        \n",
    "        return string.Empty;\n",
    "    }\n",
    "}"
   ]
  },
  {
   "cell_type": "code",
   "execution_count": 12,
   "metadata": {},
   "outputs": [
    {
     "name": "stdout",
     "output_type": "stream",
     "text": [
      "hello\r\n"
     ]
    }
   ],
   "source": [
    "public void Method(object obj) => Console.WriteLine(obj.ToString());\n",
    "\n",
    "Action<string> k = Method;\n",
    "\n",
    "k(\"hello\")"
   ]
  },
  {
   "cell_type": "code",
   "execution_count": 7,
   "metadata": {},
   "outputs": [],
   "source": [
    "MyClass obj = new MyClass();\n",
    "\n",
    "// Успешно компилируется\n",
    "MyCallback callback = obj.SomeMethod;"
   ]
  },
  {
   "cell_type": "markdown",
   "metadata": {},
   "source": [
    "**За этим стоит следующая логика:**\n",
    "\n",
    "Делегат возвращает object => метод возвращает string => string это object => можно засунуть этот метод в делегат. \\[*ковариация*\\]\n",
    "\n",
    "При вызове в делегат будет передан FileStream => метод принимает Stream => FileStream это Stream => можно засунуть этот метод в делегат. \\[*контравариация*\\]"
   ]
  },
  {
   "cell_type": "markdown",
   "metadata": {},
   "source": [
    "## 4. Из каждого экземпляра делегата можно достать:\n",
    "- Target - объект, к которому применяется сохранённый метод, null если метод статический;\n",
    "- Method - объект типа MethodInfo, представляющий информацию о методе."
   ]
  },
  {
   "cell_type": "code",
   "execution_count": 8,
   "metadata": {},
   "outputs": [
    {
     "data": {
      "text/plain": [
       "True"
      ]
     },
     "execution_count": 8,
     "metadata": {},
     "output_type": "execute_result"
    }
   ],
   "source": [
    "callback.Target == obj // Это и есть ссылка на исходный объект"
   ]
  },
  {
   "cell_type": "code",
   "execution_count": 9,
   "metadata": {},
   "outputs": [
    {
     "data": {
      "text/plain": [
       "SomeMethod"
      ]
     },
     "execution_count": 9,
     "metadata": {},
     "output_type": "execute_result"
    }
   ],
   "source": [
    "var methodInfo = callback.Method;\n",
    "methodInfo.Name"
   ]
  },
  {
   "cell_type": "markdown",
   "metadata": {},
   "source": [
    "## 5. Цепочки делегатов"
   ]
  },
  {
   "cell_type": "markdown",
   "metadata": {},
   "source": [
    "В один делегат можно запихнуть несколько делегатов, они вызовутся в порядке добавления. Если делегат имеет возвращаемое значение, вернётся результат последнего метода."
   ]
  },
  {
   "cell_type": "code",
   "execution_count": 10,
   "metadata": {},
   "outputs": [],
   "source": [
    "public delegate int MyCallback();\n",
    "\n",
    "public static int Oh()\n",
    "{\n",
    "    Console.WriteLine(\"Oh\");\n",
    "    return 1;\n",
    "}\n",
    "\n",
    "public int My()\n",
    "{\n",
    "    Console.WriteLine(\"My\");\n",
    "    return 2;\n",
    "}\n",
    "\n",
    "public int God()\n",
    "{\n",
    "    Console.WriteLine(\"God\");\n",
    "    return 3;\n",
    "}"
   ]
  },
  {
   "cell_type": "code",
   "execution_count": 11,
   "metadata": {
    "scrolled": true
   },
   "outputs": [
    {
     "name": "stdout",
     "output_type": "stream",
     "text": [
      "Oh\n",
      "My\n",
      "God\n"
     ]
    },
    {
     "data": {
      "text/plain": [
       "3"
      ]
     },
     "execution_count": 11,
     "metadata": {},
     "output_type": "execute_result"
    }
   ],
   "source": [
    "MyCallback callback = Oh;\n",
    "callback += My; // Под капотом: callback = (MyCallback)Delegate.Combine(callback, My);\n",
    "callback += God;\n",
    "\n",
    "int returnValue = callback();\n",
    "\n",
    "returnValue"
   ]
  },
  {
   "cell_type": "markdown",
   "metadata": {},
   "source": [
    "Можно \"отменять подписку\". Удаляются делегаты с конца."
   ]
  },
  {
   "cell_type": "code",
   "execution_count": 12,
   "metadata": {},
   "outputs": [
    {
     "name": "stdout",
     "output_type": "stream",
     "text": [
      "Oh\n",
      "My\n",
      "My\n"
     ]
    },
    {
     "data": {
      "text/plain": [
       "2"
      ]
     },
     "execution_count": 12,
     "metadata": {},
     "output_type": "execute_result"
    }
   ],
   "source": [
    "MyCallback callback;\n",
    "callback += Oh;\n",
    "callback += My;\n",
    "callback += Oh;\n",
    "callback += My;\n",
    "\n",
    "callback -= Oh;\n",
    "\n",
    "callback -= God; // Если метода не было в списке, ничего не произойдёт\n",
    "\n",
    "callback()"
   ]
  },
  {
   "cell_type": "markdown",
   "metadata": {},
   "source": [
    "## 6. Action и Func"
   ]
  },
  {
   "cell_type": "markdown",
   "metadata": {},
   "source": [
    "В реальности новые типы делегатов объявлять не приходится, т.к. существуют обобщённые делегаты System.Action и System.Func, которые покрывают все потребности.\n",
    "\n",
    "Их объявления выглядят примерно так:"
   ]
  },
  {
   "cell_type": "code",
   "execution_count": 13,
   "metadata": {},
   "outputs": [
    {
     "ename": "Unhandled Exception",
     "evalue": "(1,37): error CS1001: Требуется идентификатор.\r\n(1,37): error CS8635: Неожиданная последовательность символов \"…\"\r\n(1,64): error CS1031: Требуется тип.\r\n(1,64): error CS1001: Требуется идентификатор.\r\n(1,64): error CS8635: Неожиданная последовательность символов \"…\"\r\n(1,68): error CS1003: Синтаксическая ошибка, требуется \",\"\r\n(3,38): error CS1001: Требуется идентификатор.\r\n(3,38): error CS8635: Неожиданная последовательность символов \"…\"\r\n(3,74): error CS1031: Требуется тип.\r\n(3,74): error CS1001: Требуется идентификатор.\r\n(3,74): error CS8635: Неожиданная последовательность символов \"…\"\r\n(3,78): error CS1003: Синтаксическая ошибка, требуется \",\"",
     "output_type": "error",
     "traceback": [
      "(1,37): error CS1001: Требуется идентификатор.\r\n(1,37): error CS8635: Неожиданная последовательность символов \"…\"\r\n(1,64): error CS1031: Требуется тип.\r\n(1,64): error CS1001: Требуется идентификатор.\r\n(1,64): error CS8635: Неожиданная последовательность символов \"…\"\r\n(1,68): error CS1003: Синтаксическая ошибка, требуется \",\"\r\n(3,38): error CS1001: Требуется идентификатор.\r\n(3,38): error CS8635: Неожиданная последовательность символов \"…\"\r\n(3,74): error CS1031: Требуется тип.\r\n(3,74): error CS1001: Требуется идентификатор.\r\n(3,74): error CS8635: Неожиданная последовательность символов \"…\"\r\n(3,78): error CS1003: Синтаксическая ошибка, требуется \",\""
     ]
    }
   ],
   "source": [
    "public delegate void Action<T1, T2, ... T16>(T1 arg1, T2 arg2, ... T16 arg16);\n",
    "\n",
    "public delegate TResult Func<T1, T2, ... T16, TResult>(T1 arg1, T2 arg2, ... T16 arg16);"
   ]
  },
  {
   "cell_type": "code",
   "execution_count": 14,
   "metadata": {},
   "outputs": [
    {
     "data": {
      "text/plain": [
       "abcdabcdabcdabcdabcdabcdabcdabcdabcdabcd"
      ]
     },
     "execution_count": 14,
     "metadata": {},
     "output_type": "execute_result"
    }
   ],
   "source": [
    "public static string Repeat(string str, int ntimes) => string.Concat(Enumerable.Repeat(str, ntimes));\n",
    "\n",
    "Func<string, int, string> myFunc = Repeat;\n",
    "\n",
    "myFunc(\"abcd\", 10)"
   ]
  },
  {
   "cell_type": "code",
   "execution_count": 15,
   "metadata": {},
   "outputs": [],
   "source": [
    "public static void SayHello(int ntimes)\n",
    "{\n",
    "    for(int i = 0; i < ntimes; i++)\n",
    "    {\n",
    "        Console.WriteLine(\"Hello!\");\n",
    "    }\n",
    "}"
   ]
  },
  {
   "cell_type": "code",
   "execution_count": 16,
   "metadata": {},
   "outputs": [
    {
     "name": "stdout",
     "output_type": "stream",
     "text": [
      "Hello!\n",
      "Hello!\n",
      "Hello!\n"
     ]
    }
   ],
   "source": [
    "Action<int> action = SayHello;\n",
    "\n",
    "action(3)"
   ]
  },
  {
   "cell_type": "markdown",
   "metadata": {},
   "source": [
    "# Лямбда-выражения"
   ]
  },
  {
   "cell_type": "markdown",
   "metadata": {},
   "source": [
    "Причина введения лямбда выражений - громоздкий синтаксис использования делегатов. Зачастую мы хотим передать небольшую функцию, которая не имеет смысла вне контекста."
   ]
  },
  {
   "cell_type": "code",
   "execution_count": 13,
   "metadata": {},
   "outputs": [
    {
     "ename": "Unhandled Exception",
     "evalue": "(13,42): error CS1003: Синтаксическая ошибка, требуется \",\"\r\n(13,45): error CS1002: Требуется \";\".",
     "output_type": "error",
     "traceback": [
      "(13,42): error CS1003: Синтаксическая ошибка, требуется \",\"\r\n(13,45): error CS1002: Требуется \";\"."
     ]
    }
   ],
   "source": [
    "// Анонимная функция - старый синтаксис из мезозоя (до C# 2.0)\n",
    "Func<int, int, bool> dontWriteLikeThis = delegate(int left, int right) { \n",
    "    double dist = Math.Abs(right - left);\n",
    "    return dist > 5;\n",
    "};\n",
    "\n",
    "Func<int, int, bool> func1 = (int left, int right) => { \n",
    "    double dist = Math.Abs(right - left);\n",
    "    return dist > 5;\n",
    "};\n",
    "\n",
    "// Если компилятор сам может определить типы, их можно не писать\n",
    "Func<int, int, bool> func2 = (left, right) => Math.Abs(right - left) > 5;"
   ]
  },
  {
   "cell_type": "code",
   "execution_count": 18,
   "metadata": {},
   "outputs": [
    {
     "name": "stdout",
     "output_type": "stream",
     "text": [
      "Hello world\r\n"
     ]
    }
   ],
   "source": [
    "// Для одного параметра можно опустить скобки\n",
    "Action<string> print = str => Console.WriteLine(str);\n",
    "\n",
    "print(\"Hello world\")"
   ]
  },
  {
   "cell_type": "markdown",
   "metadata": {},
   "source": [
    "Скобки можно опустить только когда у нас 1 параметр без явного указания типа:"
   ]
  },
  {
   "cell_type": "code",
   "execution_count": 19,
   "metadata": {},
   "outputs": [],
   "source": [
    "// Можно\n",
    "Action<string> print1 = str => Console.WriteLine(str);"
   ]
  },
  {
   "cell_type": "code",
   "execution_count": 14,
   "metadata": {},
   "outputs": [],
   "source": [
    "// Неможно\n",
    "Action<string> print2 = (string str) => Console.WriteLine(str);"
   ]
  },
  {
   "cell_type": "code",
   "execution_count": 21,
   "metadata": {},
   "outputs": [
    {
     "ename": "Unhandled Exception",
     "evalue": "(2,44): error CS1003: Синтаксическая ошибка, требуется \",\"\r\n(2,47): error CS1002: Требуется \";\".",
     "output_type": "error",
     "traceback": [
      "(2,44): error CS1003: Синтаксическая ошибка, требуется \",\"\r\n(2,47): error CS1002: Требуется \";\"."
     ]
    }
   ],
   "source": [
    "// Неможно\n",
    "Action<string, string> print3 = str1, str2 => Console.WriteLine(str1 + str2);"
   ]
  },
  {
   "cell_type": "markdown",
   "metadata": {},
   "source": [
    "Лямбды нельзя присваивать неявно типизированным переменным. Впрочем, обычно вы определяете лямбду прямо при вызове метода, так что это не нужно."
   ]
  },
  {
   "cell_type": "code",
   "execution_count": 22,
   "metadata": {},
   "outputs": [
    {
     "ename": "Unhandled Exception",
     "evalue": "(1,5): error CS0815: Не удается присвоить лямбда-выражение неявно типизированной переменной.",
     "output_type": "error",
     "traceback": [
      "(1,5): error CS0815: Не удается присвоить лямбда-выражение неявно типизированной переменной."
     ]
    }
   ],
   "source": [
    "var doesntCompile = (int left, int right) => Math.Abs(right - left) > 5;"
   ]
  },
  {
   "cell_type": "markdown",
   "metadata": {},
   "source": [
    "### Захват переменных"
   ]
  },
  {
   "cell_type": "code",
   "execution_count": 1,
   "metadata": {
    "scrolled": true
   },
   "outputs": [
    {
     "name": "stdout",
     "output_type": "stream",
     "text": [
      "5\n",
      "5\n",
      "5\n",
      "5\n",
      "5\n"
     ]
    }
   ],
   "source": [
    "Action action;\n",
    "\n",
    "for (int i = 0; i < 5; i++)\n",
    "{\n",
    "    action += () => Console.WriteLine(i);\n",
    "}\n",
    "\n",
    "action.Invoke()"
   ]
  },
  {
   "cell_type": "markdown",
   "metadata": {},
   "source": [
    "# События"
   ]
  },
  {
   "cell_type": "markdown",
   "metadata": {},
   "source": [
    "- Сущность\n",
    "- Допустимые операции\n",
    "- Методы аксессоры\n",
    "- Общепринятые правила использования\n",
    "- Пример"
   ]
  },
  {
   "cell_type": "markdown",
   "metadata": {},
   "source": [
    "## 1. Сущность"
   ]
  },
  {
   "cell_type": "markdown",
   "metadata": {},
   "source": [
    "Событие (event) - обёртка над делегатом, предоставляющая более безопасное использование.\n",
    "\n",
    "Объявляется как обычный член класса, например:"
   ]
  },
  {
   "cell_type": "code",
   "execution_count": 23,
   "metadata": {},
   "outputs": [],
   "source": [
    "public class EventHolder\n",
    "{\n",
    "    public event EventHandler<EventArgs> MyUselessEvent;\n",
    "}"
   ]
  },
  {
   "cell_type": "markdown",
   "metadata": {},
   "source": [
    "## 2. Допустимые операции"
   ]
  },
  {
   "cell_type": "markdown",
   "metadata": {},
   "source": [
    "Допустимые операции **извне класса**:\n",
    "- Подписать метод на событие (+=);\n",
    "- Отписать метод от события (-=);\n",
    "\n",
    "Всё. Нельзя **вызвать событие** или **присвоить ему новое значение** - это прерогатива самого класса. Это и отличает события от делегатов. "
   ]
  },
  {
   "cell_type": "code",
   "execution_count": 24,
   "metadata": {},
   "outputs": [],
   "source": [
    "public class EventHolder\n",
    "{\n",
    "    public event EventHandler<EventArgs> MyUselessEvent;\n",
    "    \n",
    "    public void TriggerEvent(EventArgs e)\n",
    "    {\n",
    "        MyUselessEvent?.Invoke(this, e);\n",
    "    }\n",
    "}"
   ]
  },
  {
   "cell_type": "code",
   "execution_count": 25,
   "metadata": {},
   "outputs": [
    {
     "name": "stdout",
     "output_type": "stream",
     "text": [
      "Hello\n",
      "World\n"
     ]
    }
   ],
   "source": [
    "EventHolder ev = new EventHolder();\n",
    "\n",
    "ev.MyUselessEvent += (sender, e) => Console.WriteLine(\"Hello\");\n",
    "ev.MyUselessEvent += (sender, e) => Console.WriteLine(\"World\");\n",
    "\n",
    "// Не получится изменить значение\n",
    "// ev.MyUselessEvent = (sender, e) => Console.WriteLine(\"Goodbye\");\n",
    "\n",
    "// Не получится вызвать напрямую\n",
    "// ev.MyUselessEvent?.Invoke()\n",
    "\n",
    "ev.TriggerEvent(EventArgs.Empty)"
   ]
  },
  {
   "cell_type": "markdown",
   "metadata": {},
   "source": [
    "## 3. Методы аксессоры"
   ]
  },
  {
   "cell_type": "markdown",
   "metadata": {},
   "source": [
    "Свойство - эдакое свойство, но для делегатов. \n",
    "\n",
    "В реальности событие разворачивается в приватное поле делегата и 2 метода **add** и **remove**, соответствующие операциям \"+=\" и \"-=\" соответственно.\n",
    "\n",
    "- Их можно переопределить, но как правило это не требуется.\n",
    "- Вы не можете переопределить один - нужны оба!\n",
    "- **Переопределение add и remove отнимает возможность вызывать событие \"напрямую\"!**"
   ]
  },
  {
   "cell_type": "code",
   "execution_count": 16,
   "metadata": {},
   "outputs": [],
   "source": [
    "public class EventHolder\n",
    "{\n",
    "    private EventHandler<EventArgs> myEvent; \n",
    "    \n",
    "    public event EventHandler<EventArgs> MyUselessEvent\n",
    "    {\n",
    "        add \n",
    "        { \n",
    "            myEvent += value;\n",
    "            Console.WriteLine(\"Adding new method\"); \n",
    "        }\n",
    "        remove \n",
    "        { \n",
    "            myEvent -= value;\n",
    "            Console.WriteLine(\"Removing method\"); \n",
    "        }\n",
    "    }\n",
    "    \n",
    "    public void TriggerEvent(EventArgs e)\n",
    "    {\n",
    "        // Так нельзя, раз переопределены аксессоры!\n",
    "        // MyUselessEvent?.Invoke(this, e);\n",
    "        \n",
    "        myEvent?.Invoke(this, e);\n",
    "    }\n",
    "}"
   ]
  },
  {
   "cell_type": "code",
   "execution_count": 18,
   "metadata": {},
   "outputs": [
    {
     "name": "stdout",
     "output_type": "stream",
     "text": [
      "Adding new method\n",
      "Removing method\n"
     ]
    }
   ],
   "source": [
    "EventHolder ev = new EventHolder();\n",
    "\n",
    "EventHandler<EventArgs> a = (sender, e) => Console.WriteLine(\"Do nothing\");\n",
    "\n",
    "ev.MyUselessEvent += a;\n",
    "ev.MyUselessEvent -= a;\n",
    "\n",
    "ev.TriggerEvent(EventArgs.Empty);"
   ]
  },
  {
   "cell_type": "markdown",
   "metadata": {},
   "source": [
    "## 4. Общепринятые правила использования"
   ]
  },
  {
   "cell_type": "markdown",
   "metadata": {},
   "source": [
    "**Invocation list**, который в делегатах применяется не очень часто, очень полезен в событиях: предполагается, что на событие может подписаться много методов. Поэтому мы не хотим создавать события с возвращаемым значением, отличным от void - в случае вызова нескольких методов мы получим результат лишь последнего."
   ]
  },
  {
   "cell_type": "markdown",
   "metadata": {},
   "source": [
    "Можно использовать одну из вариаций Action, но классическим считается использование делегата EventHandler<TEventArgs>, сигнатура которого выглядит так:"
   ]
  },
  {
   "cell_type": "code",
   "execution_count": 28,
   "metadata": {},
   "outputs": [],
   "source": [
    "public delegate void EventHandler<TEventArgs>(object sender, TEventArgs e);"
   ]
  },
  {
   "cell_type": "markdown",
   "metadata": {},
   "source": [
    "Ограничений на ```TEventArgs``` не накладывается, хотя могли бы. Предполагается, что будет использоваться наследник EventArgs, примерно так:"
   ]
  },
  {
   "cell_type": "code",
   "execution_count": 29,
   "metadata": {},
   "outputs": [],
   "source": [
    "public class MessageEventArgs : EventArgs\n",
    "{\n",
    "    public string Message { get; set; }\n",
    "}"
   ]
  },
  {
   "cell_type": "code",
   "execution_count": 30,
   "metadata": {},
   "outputs": [],
   "source": [
    "public class EventHolder\n",
    "{\n",
    "    public event EventHandler<MessageEventArgs> MyUselessEvent;\n",
    "    \n",
    "    public void TriggerEvent(MessageEventArgs e)\n",
    "    {\n",
    "        MyUselessEvent?.Invoke(this, e);\n",
    "    }\n",
    "}"
   ]
  },
  {
   "cell_type": "code",
   "execution_count": 31,
   "metadata": {},
   "outputs": [
    {
     "name": "stdout",
     "output_type": "stream",
     "text": [
      "1. You do not talk about Fight Club\n",
      "2. You do not talk about Fight Club\n"
     ]
    }
   ],
   "source": [
    "EventHolder ev = new EventHolder();\n",
    "\n",
    "ev.MyUselessEvent += (sender, e) => Console.WriteLine(\"1. \" + e.Message); \n",
    "ev.MyUselessEvent += (sender, e) => Console.WriteLine(\"2. \" + e.Message);\n",
    "\n",
    "ev.TriggerEvent(new MessageEventArgs { Message = \"You do not talk about Fight Club\" });"
   ]
  },
  {
   "cell_type": "markdown",
   "metadata": {},
   "source": [
    "# Интерфейсы"
   ]
  },
  {
   "cell_type": "markdown",
   "metadata": {},
   "source": [
    "Интерфейс - контракт, по которому класс, его реализующий, предоставляет какие-то методы.\n",
    "\n",
    "Написание кода с опорой на интерфейсы, а не на конкретные типы позволяет:\n",
    "- **Переиспользовать код, абстрагируясь от реализации.** Один раз написанный алгоритм сортировки элементов, опирающийся только на интерфейс IComparable, одинаково работает как со встроенными типами, так и с вашими.\n",
    "- **Подменять реализацию, в том числе во время исполнения.**\n",
    "- **Сделать код более безопасным.** Объект, передаваемый по интерфейсной ссылке предоставляет только ограниченную информацию о своих возможностях.\n",
    "- **Не опасаться за последствия (по сравнению с наследованием).** Так как мы не тянем за собой реализацию, не возникает проблем, как с множественным наследованием."
   ]
  },
  {
   "cell_type": "markdown",
   "metadata": {},
   "source": [
    "## 1. Правила определения интерфейсов"
   ]
  },
  {
   "cell_type": "markdown",
   "metadata": {},
   "source": [
    "В интерфейсе определяются сигнатуры *экземплярных функциональных* членов класса, кроме конструкторов. \n",
    "\n",
    "Т.е. недопустимы\n",
    "- Поля\n",
    "- Конструкторы\n",
    "- Что-либо статическое\n",
    "\n",
    "Всё остальное - можно:\n",
    "- Методы\n",
    "- Свойства\n",
    "- События\n",
    "- Индексаторы\n",
    "\n",
    "Модификатор доступа не указывается - он априори public."
   ]
  },
  {
   "cell_type": "code",
   "execution_count": 31,
   "metadata": {},
   "outputs": [
    {
     "ename": "Unhandled Exception",
     "evalue": "(11,31): error CS0073: Методы доступа add и remove должны иметь тело.\r\n(11,39): error CS0073: Методы доступа add и remove должны иметь тело.",
     "output_type": "error",
     "traceback": [
      "(11,31): error CS0073: Методы доступа add и remove должны иметь тело.\r\n(11,39): error CS0073: Методы доступа add и remove должны иметь тело."
     ]
    }
   ],
   "source": [
    "public interface ISomethingMessy\n",
    "{\n",
    "    // Метод\n",
    "    void Execute();\n",
    "    \n",
    "    // Свойство\n",
    "    string Message { get; }\n",
    "    \n",
    "    // Индексатор\n",
    "    object this[int index] { get; set; }\n",
    "    \n",
    "    // Событие\n",
    "    event Action MyEvent;\n",
    "}"
   ]
  },
  {
   "cell_type": "markdown",
   "metadata": {},
   "source": [
    "Пример из стандартной библиотеки - System.IDisposable\n",
    "```\n",
    "public interface IDisposable\n",
    "{\n",
    "    void Dispose();\n",
    "}\n",
    "```"
   ]
  },
  {
   "cell_type": "markdown",
   "metadata": {},
   "source": [
    "## 2. Реализация интерфейсов. Наследование"
   ]
  },
  {
   "cell_type": "code",
   "execution_count": 3,
   "metadata": {},
   "outputs": [
    {
     "ename": "Unhandled Exception",
     "evalue": "(3,14): error CS0535: '\"Base\" не реализует член интерфейса \"IDisposable.Dispose()\".",
     "output_type": "error",
     "traceback": [
      "(3,14): error CS0535: '\"Base\" не реализует член интерфейса \"IDisposable.Dispose()\"."
     ]
    }
   ],
   "source": [
    "using System.IO;\n",
    "\n",
    "class Base : IDisposable\n",
    "{\n",
    "    private FileStream fileStream;\n",
    "    \n",
    "    // ...\n",
    "    \n",
    "    // public void Dispose() { fileStream.Dispose(); }\n",
    "}"
   ]
  },
  {
   "cell_type": "code",
   "execution_count": 30,
   "metadata": {},
   "outputs": [
    {
     "data": {
      "text/plain": [
       "True"
      ]
     },
     "execution_count": 30,
     "metadata": {},
     "output_type": "execute_result"
    }
   ],
   "source": [
    "using System.IO;\n",
    "\n",
    "class Base : IDisposable\n",
    "{\n",
    "    private FileStream fileStream;\n",
    "    \n",
    "    // ...\n",
    "    \n",
    "    public void Dispose() { fileStream.Dispose(); }\n",
    "}\n",
    "\n",
    "class Derived : Base\n",
    "{\n",
    "    // ...\n",
    "}\n",
    "\n",
    "// Все наследники класса автоматически реализуют интерфейсы родителя.\n",
    "Derived derived = new Derived();\n",
    "derived is IDisposable"
   ]
  },
  {
   "cell_type": "markdown",
   "metadata": {},
   "source": [
    "## 3. Также доступны методы класса object"
   ]
  },
  {
   "cell_type": "code",
   "execution_count": 5,
   "metadata": {},
   "outputs": [
    {
     "data": {
      "text/plain": [
       "3"
      ]
     },
     "execution_count": 5,
     "metadata": {},
     "output_type": "execute_result"
    }
   ],
   "source": [
    "IComparable<int> value = 3;\n",
    "value.ToString()"
   ]
  },
  {
   "cell_type": "code",
   "execution_count": 6,
   "metadata": {},
   "outputs": [
    {
     "data": {
      "text/html": [
       "<span><a href=\"https://docs.microsoft.com/dotnet/api/System.Int32?view=netcore-3.0\">System.Int32</a></span>"
      ]
     },
     "execution_count": 6,
     "metadata": {},
     "output_type": "execute_result"
    }
   ],
   "source": [
    "value.GetType()"
   ]
  },
  {
   "cell_type": "markdown",
   "metadata": {},
   "source": [
    "## 4. ~~Реализация~~ Наследование интерфейсов интерфейсами"
   ]
  },
  {
   "cell_type": "markdown",
   "metadata": {},
   "source": [
    "Можно расширить интерфейс, отнаследовав от него другой интерфейс. Типы, реализующие интерфейс-ребёнок будут обязаны реализовать функционал обоих интерфейсов.\n",
    "\n",
    "**Однако это оправдано тогда и только тогда, когда жёсткая связь допустима.**\n",
    "\n",
    "Иначе лучше использовать несколько маленьких интерфейсов согласно **Interface Segregation Principle**."
   ]
  },
  {
   "cell_type": "code",
   "execution_count": 7,
   "metadata": {},
   "outputs": [
    {
     "ename": "Unhandled Exception",
     "evalue": "(11,20): error CS0535: '\"Car\" не реализует член интерфейса \"IWheeledVehicle.NumOfWheels\".\r\n(11,20): error CS0535: '\"Car\" не реализует член интерфейса \"IVehicle.MoveTo(float, float, float)\".",
     "output_type": "error",
     "traceback": [
      "(11,20): error CS0535: '\"Car\" не реализует член интерфейса \"IWheeledVehicle.NumOfWheels\".\r\n(11,20): error CS0535: '\"Car\" не реализует член интерфейса \"IVehicle.MoveTo(float, float, float)\"."
     ]
    }
   ],
   "source": [
    "public interface IVehicle\n",
    "{\n",
    "    void MoveTo(float x, float y, float z);\n",
    "}\n",
    "\n",
    "public interface IWheeledVehicle : IVehicle\n",
    "{\n",
    "    int NumOfWheels { get; }\n",
    "}\n",
    "\n",
    "public class Car : IWheeledVehicle { }\n"
   ]
  },
  {
   "cell_type": "markdown",
   "metadata": {},
   "source": [
    "Пример наследования интерфейсов из стандартной библиотеки - IEnumerable"
   ]
  },
  {
   "cell_type": "markdown",
   "metadata": {},
   "source": [
    "```\n",
    "public interface IEnumerable<out T> : IEnumerable\n",
    "{\n",
    "    IEnumerator<T> GetEnumerator();\n",
    "}\n",
    "\n",
    "public interface IEnumerable\n",
    "{\n",
    "    IEnumerator GetEnumerator();\n",
    "}\n",
    "```"
   ]
  },
  {
   "cell_type": "markdown",
   "metadata": {},
   "source": [
    "## 5. Явная (explicit) и неявная (implicit) реализации интерфейса"
   ]
  },
  {
   "cell_type": "markdown",
   "metadata": {},
   "source": [
    "Однако можно реализовать интерфейс, не предоставив публичную реализацию методов.\n",
    "\n",
    "Этого можно добиться, реализовав интерфейс **явно** (explicit). Такая реализация будет доступна **только по соответствующей интерфейсной ссылке**."
   ]
  },
  {
   "cell_type": "code",
   "execution_count": 8,
   "metadata": {},
   "outputs": [],
   "source": [
    "public class MyClass : IDisposable\n",
    "{\n",
    "    // Неявная реализация интерфейса\n",
    "    // public void Dispose() { Console.WriteLine(\"Implicit\"); }\n",
    "\n",
    "    // Явная реализация интерфейса\n",
    "    void IDisposable.Dispose() { Console.WriteLine(\"Explicit\"); }\n",
    "}"
   ]
  },
  {
   "cell_type": "code",
   "execution_count": 9,
   "metadata": {},
   "outputs": [
    {
     "ename": "Unhandled Exception",
     "evalue": "(2,9): error CS1061: \"MyClass\" не содержит определения \"Dispose\", и не удалось найти доступный метод расширения \"Dispose\", принимающий тип \"MyClass\" в качестве первого аргумента (возможно, пропущена директива using или ссылка на сборку).",
     "output_type": "error",
     "traceback": [
      "(2,9): error CS1061: \"MyClass\" не содержит определения \"Dispose\", и не удалось найти доступный метод расширения \"Dispose\", принимающий тип \"MyClass\" в качестве первого аргумента (возможно, пропущена директива using или ссылка на сборку)."
     ]
    }
   ],
   "source": [
    "MyClass myClass = new MyClass();\n",
    "myClass.Dispose();"
   ]
  },
  {
   "cell_type": "code",
   "execution_count": 10,
   "metadata": {},
   "outputs": [
    {
     "name": "stdout",
     "output_type": "stream",
     "text": [
      "Explicit\r\n"
     ]
    }
   ],
   "source": [
    "IDisposable disposable = new MyClass();\n",
    "disposable.Dispose();"
   ]
  },
  {
   "cell_type": "markdown",
   "metadata": {},
   "source": [
    "**В чём смысл?**\n",
    "\n",
    "Можно реализовать несколько интерфейсов, содержащих несколько одинаковых по сигнатуре методов. Если они представляют одинаковый смысл то проблем не возникает - а если они в сущности разные?\n",
    "\n",
    "С помощью явных реализаций интерфейса можно определить **разное поведение** экземпляра в зависимости от того, по какой ссылке мы вызываем интерфейсный метод.\n",
    "\n",
    "P.S. Пример супер надуманный"
   ]
  },
  {
   "cell_type": "code",
   "execution_count": 20,
   "metadata": {},
   "outputs": [],
   "source": [
    "// \"Исполнитель\"\n",
    "public interface IExecutor\n",
    "{\n",
    "    void Execute();\n",
    "}"
   ]
  },
  {
   "cell_type": "code",
   "execution_count": 21,
   "metadata": {},
   "outputs": [],
   "source": [
    "// \"Палач\"\n",
    "public interface IExecutioner\n",
    "{\n",
    "    void Execute();\n",
    "}"
   ]
  },
  {
   "cell_type": "code",
   "execution_count": 22,
   "metadata": {},
   "outputs": [],
   "source": [
    "public class Officer : IExecutor, IExecutioner\n",
    "{\n",
    "    public void Execute() { /* some boring actions */ Console.WriteLine(\"Job executed.\"); }\n",
    "    \n",
    "    void IExecutor.Execute() { /* some murderous actions */ Console.WriteLine(\"dsasd executed.\"); }\n",
    "    \n",
    "    void IExecutioner.Execute() { /* some murderous actions */ Console.WriteLine(\"Intruder executed.\"); }\n",
    "}"
   ]
  },
  {
   "cell_type": "code",
   "execution_count": 23,
   "metadata": {},
   "outputs": [
    {
     "name": "stdout",
     "output_type": "stream",
     "text": [
      "Job executed.\r\n"
     ]
    }
   ],
   "source": [
    "Officer officer = new Officer();\n",
    "officer.Execute();"
   ]
  },
  {
   "cell_type": "code",
   "execution_count": 24,
   "metadata": {},
   "outputs": [
    {
     "name": "stdout",
     "output_type": "stream",
     "text": [
      "dsasd executed.\r\n"
     ]
    }
   ],
   "source": [
    "IExecutor executor = officer;\n",
    "executor.Execute();"
   ]
  },
  {
   "cell_type": "code",
   "execution_count": 25,
   "metadata": {
    "scrolled": true
   },
   "outputs": [
    {
     "name": "stdout",
     "output_type": "stream",
     "text": [
      "Intruder executed.\r\n"
     ]
    }
   ],
   "source": [
    "IExecutioner executioner = officer;\n",
    "executioner.Execute();"
   ]
  },
  {
   "cell_type": "markdown",
   "metadata": {},
   "source": [
    "## 6. Обобщённые интерфейсы"
   ]
  },
  {
   "cell_type": "markdown",
   "metadata": {},
   "source": [
    "Интерфейсы могут быть обобщёнными, таким образом получив все преимущества обобщений.\n",
    "\n",
    "Из приятного: можно реализовать один и тот же интерфейс с различными параметрами типа, т.к. *как вы знаете*, обобщённые типы с разными параметрами конструируются в разные типы."
   ]
  },
  {
   "cell_type": "code",
   "execution_count": 17,
   "metadata": {},
   "outputs": [],
   "source": [
    "public class Number : IComparable<int>, IComparable<double>, IComparable<string>\n",
    "{\n",
    "    private int Value { get; }\n",
    "    \n",
    "    public Number(int number)\n",
    "    {\n",
    "        Value = number;\n",
    "    }\n",
    "\n",
    "    public int CompareTo(int other) \n",
    "    {\n",
    "        Console.WriteLine(\"Hello from int\");\n",
    "        return Value.CompareTo(other);\n",
    "    }\n",
    "    \n",
    "    \n",
    "    public int CompareTo(double other)\n",
    "    {\n",
    "        Console.WriteLine(\"Hello from double\");\n",
    "        return ((double)Value).CompareTo(other);\n",
    "    }\n",
    "    \n",
    "    public int CompareTo(string other)\n",
    "    {\n",
    "        Console.WriteLine(\"Hello from string\");\n",
    "        return ((double)Value).CompareTo(double.Parse(other));\n",
    "    }\n",
    "}"
   ]
  },
  {
   "cell_type": "code",
   "execution_count": 18,
   "metadata": {},
   "outputs": [],
   "source": [
    "Number number = new Number(42);"
   ]
  },
  {
   "cell_type": "code",
   "execution_count": 19,
   "metadata": {},
   "outputs": [
    {
     "name": "stdout",
     "output_type": "stream",
     "text": [
      "Hello from int\r\n"
     ]
    },
    {
     "data": {
      "text/plain": [
       "1"
      ]
     },
     "execution_count": 19,
     "metadata": {},
     "output_type": "execute_result"
    }
   ],
   "source": [
    "number.CompareTo(13)"
   ]
  },
  {
   "cell_type": "code",
   "execution_count": 20,
   "metadata": {},
   "outputs": [
    {
     "name": "stdout",
     "output_type": "stream",
     "text": [
      "Hello from double\r\n"
     ]
    },
    {
     "data": {
      "text/plain": [
       "-1"
      ]
     },
     "execution_count": 20,
     "metadata": {},
     "output_type": "execute_result"
    }
   ],
   "source": [
    "number.CompareTo(42.5)"
   ]
  },
  {
   "cell_type": "code",
   "execution_count": 21,
   "metadata": {},
   "outputs": [
    {
     "name": "stdout",
     "output_type": "stream",
     "text": [
      "Hello from string\r\n"
     ]
    },
    {
     "data": {
      "text/plain": [
       "0"
      ]
     },
     "execution_count": 21,
     "metadata": {},
     "output_type": "execute_result"
    }
   ],
   "source": [
    "number.CompareTo(\"42\")"
   ]
  },
  {
   "cell_type": "markdown",
   "metadata": {},
   "source": [
    "Можно использовать интерфейсы в ограничениях на аргумент-тип. Если использовать несколько, то аргумент-тип должен реализовать все."
   ]
  },
  {
   "cell_type": "code",
   "execution_count": 26,
   "metadata": {},
   "outputs": [],
   "source": [
    "public void SayHello<T>(T value) where T : IComparable<int>, IDisposable\n",
    "{\n",
    "    Console.WriteLine(\"Hello!\");\n",
    "}"
   ]
  },
  {
   "cell_type": "code",
   "execution_count": 27,
   "metadata": {},
   "outputs": [],
   "source": [
    "public class MyClass : IComparable<int>, IDisposable\n",
    "{\n",
    "    public int CompareTo(int other) => throw new NotImplementedException();\n",
    "    \n",
    "    public void Dispose() => throw new NotImplementedException();\n",
    "}"
   ]
  },
  {
   "cell_type": "code",
   "execution_count": 28,
   "metadata": {
    "scrolled": true
   },
   "outputs": [
    {
     "name": "stdout",
     "output_type": "stream",
     "text": [
      "Hello!\r\n"
     ]
    }
   ],
   "source": [
    "MyClass obj = new MyClass();\n",
    "SayHello(obj)"
   ]
  },
  {
   "cell_type": "markdown",
   "metadata": {},
   "source": [
    "## 7. Реализация метода интерфейса по умолчанию"
   ]
  },
  {
   "cell_type": "markdown",
   "metadata": {},
   "source": [
    "Начиная с C# 8.0 можно определять реализацию методов интерфейса по умолчанию.\n",
    "\n",
    "Такая реализация доступна только по интерфейсной ссылке"
   ]
  },
  {
   "cell_type": "code",
   "execution_count": 25,
   "metadata": {},
   "outputs": [],
   "source": [
    "public interface ISummator\n",
    "{\n",
    "    int Sum(IEnumerable<int> values) \n",
    "    {\n",
    "        int result = 0;\n",
    "        foreach(var value in values)\n",
    "        {\n",
    "            result += value;\n",
    "        }\n",
    "        return result;\n",
    "    }\n",
    "}"
   ]
  },
  {
   "cell_type": "code",
   "execution_count": 26,
   "metadata": {},
   "outputs": [],
   "source": [
    "public class MySummator : ISummator\n",
    "{\n",
    "}"
   ]
  },
  {
   "cell_type": "code",
   "execution_count": 27,
   "metadata": {
    "scrolled": true
   },
   "outputs": [
    {
     "ename": "Unhandled Exception",
     "evalue": "(3,12): error CS1061: \"MySummator\" не содержит определения \"Sum\", и не удалось найти доступный метод расширения \"Sum\", принимающий тип \"MySummator\" в качестве первого аргумента (возможно, пропущена директива using или ссылка на сборку).",
     "output_type": "error",
     "traceback": [
      "(3,12): error CS1061: \"MySummator\" не содержит определения \"Sum\", и не удалось найти доступный метод расширения \"Sum\", принимающий тип \"MySummator\" в качестве первого аргумента (возможно, пропущена директива using или ссылка на сборку)."
     ]
    }
   ],
   "source": [
    "MySummator mySummator = new MySummator();\n",
    "\n",
    "mySummator.Sum(new int[]{1, 2, 3, 4, 5})"
   ]
  },
  {
   "cell_type": "code",
   "execution_count": 28,
   "metadata": {},
   "outputs": [
    {
     "data": {
      "text/plain": [
       "15"
      ]
     },
     "execution_count": 28,
     "metadata": {},
     "output_type": "execute_result"
    }
   ],
   "source": [
    "ISummator summator = new MySummator();\n",
    "\n",
    "summator.Sum(new int[] { 1, 2, 3, 4, 5 })"
   ]
  },
  {
   "cell_type": "markdown",
   "metadata": {},
   "source": [
    "## 8. Абстрактный класс или интерфейс?"
   ]
  },
  {
   "cell_type": "markdown",
   "metadata": {},
   "source": [
    "**Абстрактный класс:**\n",
    "- Является классом, а значит наследуясь от него нельзя наследоваться от других классов;\n",
    "- Может определять часть состояния и поведения;\n",
    "- Наследование - очень сильная связь;\n",
    "\n",
    "Абстрактный определяет каркас для нескольких различных реализаций сущности.\n",
    "\n",
    "**Интерфейс:**\n",
    "- Класс может реализовывать сколько угодно интерфейсов;\n",
    "- Определяет (в общем случае) только *что* должен делать класс, но не *как* (в общем случае);\n",
    "- Реализация интерфейс - слабая связь;\n",
    "\n",
    "Интерфейс определяет набор свойств, которыми должна обладать сущность, её некоторый обособленный функционал."
   ]
  },
  {
   "cell_type": "markdown",
   "metadata": {},
   "source": [
    "# Обобщения"
   ]
  },
  {
   "cell_type": "markdown",
   "metadata": {},
   "source": [
    "Одна из сильных сторон C# - мощные типобезопасные обобщения, позволяющие использовать в качестве аргументов типа как ссылочные, так и значимые типы."
   ]
  },
  {
   "cell_type": "markdown",
   "metadata": {},
   "source": [
    "- Мотивация\n",
    "- Внутреннее устройство\n",
    "- Наследование\n",
    "- Ковариантность и контравариантность типов\n",
    "- Ограничения"
   ]
  },
  {
   "cell_type": "markdown",
   "metadata": {},
   "source": [
    "# Мотивация"
   ]
  },
  {
   "cell_type": "markdown",
   "metadata": {},
   "source": [
    "Очень часто хочется противоречащие вещи:\n",
    "\n",
    "1. Один раз написать некоторый алгоритм/структуру данных так, чтобы она работала с разными типами данных.\n",
    "2. Сохранить безопасность типов, чтобы избавиться от гемороя с обработкой ошибок типов."
   ]
  },
  {
   "cell_type": "markdown",
   "metadata": {},
   "source": [
    "Например, структура данных \"Динамический массив\" (список) по идее не зависит от типа содержимого. Мы не хотим переписывать этот код для каждого типа, с которым мы используем список.\n",
    "\n",
    "Можно конечно сделать список object'ов (привет дженерикам из джавы), но так мы не сохраняем безопасность типов."
   ]
  },
  {
   "cell_type": "code",
   "execution_count": null,
   "metadata": {},
   "outputs": [],
   "source": [
    "public class MyList\n",
    "{\n",
    "    private const int DefaultCapacity = 4;\n",
    "\n",
    "    private int[] data;\n",
    "    private int capacity;\n",
    "    \n",
    "    public int Count { get; private set; }\n",
    "    \n",
    "    public int this[int index]\n",
    "    {\n",
    "        get\n",
    "        {\n",
    "            if(index < 0 || index >= Count) throw new IndexOutOfRangeException($\"Got index {index}, but size is {Count}.\");\n",
    "            return data[index];\n",
    "        }\n",
    "        set\n",
    "        {\n",
    "            if(index < 0 || index >= Count) throw new IndexOutOfRangeException($\"Got index {index}, but size is {Count}.\");\n",
    "            data[index] = value;\n",
    "        }\n",
    "    }\n",
    "    \n",
    "    public MyList() : this(DefaultCapacity) { }\n",
    "    \n",
    "    public MyList(int capacity)\n",
    "    {\n",
    "        if(capacity <= 0) throw new ArgumentException(\"Capacity must be positive\");\n",
    "        \n",
    "        this.capacity = capacity;\n",
    "        data = new int[capacity];\n",
    "        Count = 0;\n",
    "    }\n",
    "    \n",
    "    public void Add(T item)\n",
    "    {\n",
    "        if (Count == capacity) {\n",
    "            Array.Resize(ref data, capacity *= 2);\n",
    "        }\n",
    "        data[Count] = item;\n",
    "        ++Count;\n",
    "    }\n",
    "}"
   ]
  },
  {
   "cell_type": "markdown",
   "metadata": {},
   "source": [
    "А вот и обобщённый вариант:"
   ]
  },
  {
   "cell_type": "code",
   "execution_count": null,
   "metadata": {},
   "outputs": [],
   "source": [
    "public class MyList<T>\n",
    "{\n",
    "    private const int DefaultCapacity = 4;\n",
    "\n",
    "    private T[] data;\n",
    "    private int capacity;\n",
    "    \n",
    "    public int Count { get; private set; }\n",
    "    \n",
    "    public T this[int index]\n",
    "    {\n",
    "        get\n",
    "        {\n",
    "            if(index < 0 || index >= Count) throw new IndexOutOfRangeException($\"Got index {index}, but size is {Count}.\");\n",
    "            return data[index];\n",
    "        }\n",
    "        set\n",
    "        {\n",
    "            if(index < 0 || index >= Count) throw new IndexOutOfRangeException($\"Got index {index}, but size is {Count}.\");\n",
    "            data[index] = value;\n",
    "        }\n",
    "    }\n",
    "    \n",
    "    public MyList() : this(DefaultCapacity) { }\n",
    "    \n",
    "    public MyList(int capacity)\n",
    "    {\n",
    "        if(capacity <= 0) throw new ArgumentException(\"Capacity must be positive\");\n",
    "        \n",
    "        this.capacity = capacity;\n",
    "        data = new T[capacity];\n",
    "        Count = 0;\n",
    "    }\n",
    "    \n",
    "    public void Add(T item)\n",
    "    {\n",
    "        if (Count == capacity) {\n",
    "            Array.Resize(ref data, capacity *= 2);\n",
    "        }\n",
    "        data[Count] = item;\n",
    "        ++Count;\n",
    "    }\n",
    "}"
   ]
  },
  {
   "cell_type": "markdown",
   "metadata": {},
   "source": [
    "`T` называется **параметром типа**, подставленное в него значение (напр. `int` в `List<int>`) - **аргументом типа**.\n",
    "\n",
    "Также вводятся понятия **открытого** и **закрытого** типов.\n",
    "\n",
    "**Закрытый тип** - обобщённый тип, в котором определены **все** параметры типа.\n",
    "\n",
    "**Открытый тип** - обобщённый тип, в котором определены **не все** параметры типа."
   ]
  },
  {
   "cell_type": "code",
   "execution_count": 20,
   "metadata": {},
   "outputs": [
    {
     "data": {
      "text/html": [
       "<span><a href=\"https://docs.microsoft.com/dotnet/api/System.Collections.Generic.Dictionary`2[[System.Int64, System.Private.CoreLib, Version=4.0.0.0, Culture=neutral, PublicKeyToken=7cec85d7bea7798e],[System.Int32, System.Private.CoreLib, Version=4.0.0.0, Culture=neutral, PublicKeyToken=7cec85d7bea7798e]]?view=netcore-3.0\">System.Collections.Generic.Dictionary&lt;System.Int64,System.Int32&gt;</a></span>"
      ]
     },
     "execution_count": 20,
     "metadata": {},
     "output_type": "execute_result"
    }
   ],
   "source": [
    "// Закрытый тип\n",
    "typeof(Dictionary<long, int>)"
   ]
  },
  {
   "cell_type": "code",
   "execution_count": 21,
   "metadata": {},
   "outputs": [
    {
     "data": {
      "text/html": [
       "<span><a href=\"https://docs.microsoft.com/dotnet/api/System.Collections.Generic.Dictionary`2?view=netcore-3.0\">System.Collections.Generic.Dictionary&lt;TKey,TValue&gt;</a></span>"
      ]
     },
     "execution_count": 21,
     "metadata": {},
     "output_type": "execute_result"
    }
   ],
   "source": [
    "// Открытый тип\n",
    "typeof(Dictionary<,>)"
   ]
  },
  {
   "cell_type": "markdown",
   "metadata": {},
   "source": [
    "Обобщёнными могут быть: \n",
    "\n",
    "- Типы\n",
    " - Классы\n",
    " - Структуры\n",
    " - Интерфейсы\n",
    " - Делегаты\n",
    "- Методы\n",
    "\n",
    "Короче всё, что можно себе представить."
   ]
  },
  {
   "cell_type": "markdown",
   "metadata": {},
   "source": [
    "## Внутреннее устройство"
   ]
  },
  {
   "cell_type": "markdown",
   "metadata": {},
   "source": [
    "Для каждого нового аргумента типа CLR генерирует **новый отдельный класс**, подставляя в него те аргументы, которые вы передали."
   ]
  },
  {
   "cell_type": "code",
   "execution_count": 5,
   "metadata": {},
   "outputs": [
    {
     "data": {
      "text/plain": [
       "System.Collections.Generic.List`1[System.Int32]"
      ]
     },
     "execution_count": 5,
     "metadata": {},
     "output_type": "execute_result"
    }
   ],
   "source": [
    "typeof(List<int>).ToString()"
   ]
  },
  {
   "cell_type": "code",
   "execution_count": 10,
   "metadata": {},
   "outputs": [
    {
     "data": {
      "text/plain": [
       "System.Collections.Generic.List`1[System.Double]"
      ]
     },
     "execution_count": 10,
     "metadata": {},
     "output_type": "execute_result"
    }
   ],
   "source": [
    "typeof(List<double>).ToString()"
   ]
  },
  {
   "cell_type": "code",
   "execution_count": 4,
   "metadata": {},
   "outputs": [
    {
     "data": {
      "text/plain": [
       "System.Collections.Generic.Dictionary`2[System.Int64,System.Int32]"
      ]
     },
     "execution_count": 4,
     "metadata": {},
     "output_type": "execute_result"
    }
   ],
   "source": [
    "typeof(Dictionary<long, string>).ToString()"
   ]
  },
  {
   "cell_type": "markdown",
   "metadata": {},
   "source": [
    "Благодаря этому достигается одно из преимуществ обобщений - **эффективная работа со значимыми типами (структурами)**. Для структур генерируется немного другой код, что позволяет избежать операций упаковки и распаковки."
   ]
  },
  {
   "cell_type": "markdown",
   "metadata": {},
   "source": [
    "Ещё одно важное вытекающее: **у каждого конкретного обобщённого типа своё статическое состояние**. "
   ]
  },
  {
   "cell_type": "code",
   "execution_count": 12,
   "metadata": {},
   "outputs": [],
   "source": [
    "class MyGeneric<T>\n",
    "{\n",
    "    public static int Value { get; set; }\n",
    "}"
   ]
  },
  {
   "cell_type": "code",
   "execution_count": 13,
   "metadata": {},
   "outputs": [],
   "source": [
    "MyGeneric<int>.Value = 4;\n",
    "MyGeneric<double>.Value = 8;"
   ]
  },
  {
   "cell_type": "code",
   "execution_count": 14,
   "metadata": {},
   "outputs": [
    {
     "data": {
      "text/plain": [
       "4"
      ]
     },
     "execution_count": 14,
     "metadata": {},
     "output_type": "execute_result"
    }
   ],
   "source": [
    "MyGeneric<int>.Value"
   ]
  },
  {
   "cell_type": "code",
   "execution_count": 15,
   "metadata": {},
   "outputs": [
    {
     "data": {
      "text/plain": [
       "8"
      ]
     },
     "execution_count": 15,
     "metadata": {},
     "output_type": "execute_result"
    }
   ],
   "source": [
    "MyGeneric<double>.Value"
   ]
  },
  {
   "cell_type": "markdown",
   "metadata": {},
   "source": [
    "## Наследование"
   ]
  },
  {
   "cell_type": "markdown",
   "metadata": {},
   "source": [
    "Можно использовать параметры типа при наследовании и реализации интерфейса. \n",
    "\n",
    "Можно и не использовать."
   ]
  },
  {
   "cell_type": "code",
   "execution_count": 24,
   "metadata": {},
   "outputs": [],
   "source": [
    "public class MyGeneric<T1, T2> : List<T1>\n",
    "{\n",
    "    // ...\n",
    "}"
   ]
  },
  {
   "cell_type": "code",
   "execution_count": 28,
   "metadata": {},
   "outputs": [],
   "source": [
    "public class MyGeneric<T1, T2> : IComparable<int>\n",
    "{\n",
    "    public int CompareTo(int other) => 1;\n",
    "}"
   ]
  },
  {
   "cell_type": "markdown",
   "metadata": {},
   "source": [
    "## Ковариантность и контравариантность"
   ]
  },
  {
   "cell_type": "markdown",
   "metadata": {},
   "source": [
    "Проблема:\n",
    "\n",
    "string это object. Тогда коллекция string это коллекция object'ов - или нет?"
   ]
  },
  {
   "cell_type": "code",
   "execution_count": 40,
   "metadata": {
    "scrolled": true
   },
   "outputs": [
    {
     "ename": "Unhandled Exception",
     "evalue": "(2,26): error CS0029: Не удается неявно преобразовать тип \"System.Collections.Generic.List<string>\" в \"System.Collections.Generic.List<object>\".",
     "output_type": "error",
     "traceback": [
      "(2,26): error CS0029: Не удается неявно преобразовать тип \"System.Collections.Generic.List<string>\" в \"System.Collections.Generic.List<object>\"."
     ]
    }
   ],
   "source": [
    "List<string> myStrings = new List<string>() { \"Hello\", \"World!\" };\n",
    "List<object> myObjects = myStrings;"
   ]
  },
  {
   "cell_type": "markdown",
   "metadata": {},
   "source": [
    "А вот так оно почему-то работает. Магия?"
   ]
  },
  {
   "cell_type": "code",
   "execution_count": 42,
   "metadata": {},
   "outputs": [
    {
     "name": "stdout",
     "output_type": "stream",
     "text": [
      "Hello\n",
      "World!\n"
     ]
    }
   ],
   "source": [
    "IEnumerable<string> myStrings = new List<string>() { \"Hello\", \"World!\" };\n",
    "IEnumerable<object> myObjects = myStrings;\n",
    "\n",
    "foreach(var obj in myObjects)\n",
    "{\n",
    "    Console.WriteLine(obj);\n",
    "}"
   ]
  },
  {
   "cell_type": "markdown",
   "metadata": {},
   "source": [
    "Было string -> object.\n",
    "\n",
    "А object -> string?"
   ]
  },
  {
   "cell_type": "code",
   "execution_count": 45,
   "metadata": {
    "scrolled": true
   },
   "outputs": [
    {
     "data": {
      "text/plain": [
       "1"
      ]
     },
     "execution_count": 45,
     "metadata": {},
     "output_type": "execute_result"
    }
   ],
   "source": [
    "public class ObjectConsumer : IComparable<object>\n",
    "{\n",
    "    public int CompareTo(object other) => 1;\n",
    "}\n",
    "\n",
    "IComparable<object> objComparable = new ObjectConsumer();\n",
    "IComparable<string> strComparable = objComparable;\n",
    "\n",
    "strComparable.CompareTo(\"Hello, world!\")"
   ]
  },
  {
   "cell_type": "markdown",
   "metadata": {},
   "source": [
    "Немного теории\n",
    "\n",
    "> Параметры обобщённого типа могут быть:\n",
    "> - **Инвариантными.** Параметр-тип не может изменяться. По умолчанию так.\n",
    "> - **Ковариантными.** Аргумент-тип может быть преобразован от класса к одному из его базовых классов. В языке С# ковариантный тип обозначается ключевым словом out. Ковариантный параметр обобщенного типа может появляться только в выходной позиции, например, в качестве возвращаемого значения метода.\n",
    "> - **Контравариантными.** Параметр-тип может быть преобразован от класса к классу, производному от него. В языке C# контравариантный тип обозначается ключевым словом in. Контравариантный параметр-тип может появляться только во входной позиции, например, в качестве аргументов метода."
   ]
  },
  {
   "cell_type": "code",
   "execution_count": 33,
   "metadata": {},
   "outputs": [],
   "source": [
    "// Делаем тип ковариативным\n",
    "public interface IUseless<out T>\n",
    "{\n",
    "    T DoNothing(object obj);\n",
    "}"
   ]
  },
  {
   "cell_type": "code",
   "execution_count": 31,
   "metadata": {},
   "outputs": [
    {
     "ename": "Unhandled Exception",
     "evalue": "(3,17): error CS1961: Недопустимое отклонение: Параметр типа \"T\" должен быть контравариантно, допустимым на \"IUseless<T>.DoNothing(T)\". \"T\" является ковариантный.",
     "output_type": "error",
     "traceback": [
      "(3,17): error CS1961: Недопустимое отклонение: Параметр типа \"T\" должен быть контравариантно, допустимым на \"IUseless<T>.DoNothing(T)\". \"T\" является ковариантный."
     ]
    }
   ],
   "source": [
    "// Тут сделать ковариативным нельзя, т.к. принимаем на вход.\n",
    "public interface IUseless<out T>\n",
    "{\n",
    "    T DoNothing(T obj);\n",
    "}"
   ]
  },
  {
   "cell_type": "code",
   "execution_count": 34,
   "metadata": {},
   "outputs": [],
   "source": [
    "// Делаем тип контравариативным\n",
    "public interface IUseless<in T>\n",
    "{\n",
    "    object DoNothing(T obj);\n",
    "}"
   ]
  },
  {
   "cell_type": "code",
   "execution_count": 30,
   "metadata": {},
   "outputs": [
    {
     "ename": "Unhandled Exception",
     "evalue": "(3,5): error CS1961: Недопустимое отклонение: Параметр типа \"T\" должен быть ковариантно, допустимым на \"IUseless<T>.DoNothing(T)\". \"T\" является контравариантный.",
     "output_type": "error",
     "traceback": [
      "(3,5): error CS1961: Недопустимое отклонение: Параметр типа \"T\" должен быть ковариантно, допустимым на \"IUseless<T>.DoNothing(T)\". \"T\" является контравариантный."
     ]
    }
   ],
   "source": [
    "// Тут сделать контравариативным нельзя, т.к. возвращаем из метода.\n",
    "public interface IUseless<in T>\n",
    "{\n",
    "    T DoNothing(T obj);\n",
    "}"
   ]
  },
  {
   "cell_type": "markdown",
   "metadata": {},
   "source": [
    "**Ко(нтра)вариация не работает для значимых типов!**"
   ]
  },
  {
   "cell_type": "code",
   "execution_count": 51,
   "metadata": {},
   "outputs": [],
   "source": [
    "IEnumerable<string> myStrings = new List<string>() { \"Hello\", \"World!\" };\n",
    "IEnumerable<object> myObjects = myStrings;"
   ]
  },
  {
   "cell_type": "code",
   "execution_count": 54,
   "metadata": {},
   "outputs": [
    {
     "ename": "Unhandled Exception",
     "evalue": "(3,33): error CS0266: Не удается неявно преобразовать тип \"System.Collections.Generic.IEnumerable<int>\" в \"System.Collections.Generic.IEnumerable<object>\". Существует явное преобразование (возможно, пропущено приведение типов).",
     "output_type": "error",
     "traceback": [
      "(3,33): error CS0266: Не удается неявно преобразовать тип \"System.Collections.Generic.IEnumerable<int>\" в \"System.Collections.Generic.IEnumerable<object>\". Существует явное преобразование (возможно, пропущено приведение типов)."
     ]
    }
   ],
   "source": [
    "IEnumerable<int> myInts = new List<int>() { 1, 2, 3 };\n",
    "// немогу...\n",
    "IEnumerable<object> myObjects = myInts;"
   ]
  },
  {
   "cell_type": "markdown",
   "metadata": {},
   "source": [
    "**Ковариация и контравариация расширяют возможности обобщений, но могут быть трудны в понимании.**"
   ]
  },
  {
   "cell_type": "markdown",
   "metadata": {},
   "source": [
    "## Ограничения аргументов типов (constraints)"
   ]
  },
  {
   "cell_type": "markdown",
   "metadata": {},
   "source": [
    "Дженерики - довольно жёсткая конструкция, так как одна из первостепенных задач - сохранить безопасность типов.\n",
    "\n",
    "По умолчанию для объектов неопределённого типа доступны только методы класса object."
   ]
  },
  {
   "cell_type": "code",
   "execution_count": 29,
   "metadata": {},
   "outputs": [
    {
     "ename": "Unhandled Exception",
     "evalue": "(3,13): error CS1061: \"T\" не содержит определения \"Compare\", и не удалось найти доступный метод расширения \"Compare\", принимающий тип \"T\" в качестве первого аргумента (возможно, пропущена директива using или ссылка на сборку).",
     "output_type": "error",
     "traceback": [
      "(3,13): error CS1061: \"T\" не содержит определения \"Compare\", и не удалось найти доступный метод расширения \"Compare\", принимающий тип \"T\" в качестве первого аргумента (возможно, пропущена директива using или ссылка на сборку)."
     ]
    }
   ],
   "source": [
    "public T Min<T>(T left, T right)\n",
    "{\n",
    "    if(left.CompareTo(right) < 0)\n",
    "        return left;\n",
    "    return right;\n",
    "}"
   ]
  },
  {
   "cell_type": "markdown",
   "metadata": {},
   "source": [
    "Можно наложить на параметр-тип некоторые обязательства, а взамен - получить возможность пользоваться какими-то функциями. Например, можете обязать аргумент-тип реализовывать некоторый интерфейс. "
   ]
  },
  {
   "cell_type": "code",
   "execution_count": 58,
   "metadata": {},
   "outputs": [],
   "source": [
    "// Любой тип T должен быть IComparable<T>\n",
    "public T Min<T>(T left, T right) where T : IComparable<T>\n",
    "{\n",
    "    if(left.CompareTo(right) < 0)\n",
    "        return left;\n",
    "    return right;\n",
    "}"
   ]
  },
  {
   "cell_type": "code",
   "execution_count": 60,
   "metadata": {},
   "outputs": [
    {
     "data": {
      "text/plain": [
       "1"
      ]
     },
     "execution_count": 60,
     "metadata": {},
     "output_type": "execute_result"
    }
   ],
   "source": [
    "Min<int>(1, 5)"
   ]
  },
  {
   "cell_type": "code",
   "execution_count": 62,
   "metadata": {},
   "outputs": [
    {
     "data": {
      "text/plain": [
       "bruh"
      ]
     },
     "execution_count": 62,
     "metadata": {},
     "output_type": "execute_result"
    }
   ],
   "source": [
    "// Вывод типов компилятором - можно не указывать тип явно.\n",
    "// Фича работает только с методами (по понятным причинам).\n",
    "Min(\"bruh\", \"meh\")"
   ]
  },
  {
   "cell_type": "markdown",
   "metadata": {},
   "source": [
    "Можно довольно интересно использовать ограничения, связывая несколько параметров типов."
   ]
  },
  {
   "cell_type": "code",
   "execution_count": 31,
   "metadata": {},
   "outputs": [],
   "source": [
    "public List<TBase> ConvertIList<T, TBase>(IList<T> list) where T : TBase\n",
    "{\n",
    "    List<TBase> baseList = new List<TBase>(list.Count);\n",
    "    for (Int32 index = 0; index < list.Count; index++) {\n",
    "        baseList.Add(list[index]);\n",
    "    }\n",
    "    return baseList;\n",
    "}"
   ]
  },
  {
   "cell_type": "code",
   "execution_count": 68,
   "metadata": {},
   "outputs": [],
   "source": [
    "IList<String> ls = new List<String>() { \"A String\" };\n",
    "\n",
    "IList<Object> lo = ConvertIList<String, Object>(ls);\n",
    "\n",
    "IList<IComparable> lc = ConvertIList<String, IComparable>(ls);\n",
    "\n",
    "IList<IComparable<String>> lcs = ConvertIList<String, IComparable<String>>(ls);\n",
    "\n",
    "IList<String> ls2 = ConvertIList<String, String>(ls);"
   ]
  },
  {
   "cell_type": "markdown",
   "metadata": {},
   "source": [
    "Можно применить следующие ограничения на параметр тип:\n",
    "- Является классом: `where T : class`\n",
    "- Является значимым типом: `where T : struct`\n",
    "- Является типом (или производным от него): `where T : MyClass`\n",
    "- Реализует интерфейс: `where T : IInterface`\n",
    "- Имеет пустой конструктор: `where T : new()`\n",
    "\n",
    "Порядок ниже"
   ]
  },
  {
   "cell_type": "markdown",
   "metadata": {},
   "source": [
    "<img src=\"image3.png\" style=\"width: 500px;\">"
   ]
  },
  {
   "cell_type": "markdown",
   "metadata": {},
   "source": [
    "Ограничения на енамы нет, если это нужно (зачем??), можно использовать статический конструктор класса, например."
   ]
  },
  {
   "cell_type": "code",
   "execution_count": null,
   "metadata": {},
   "outputs": [],
   "source": [
    "class GenericTypeThatRequiresEnum<TEnum>\n",
    "{\n",
    "    static GenericTypeThatRequiresEnum()\n",
    "    {\n",
    "        if(!typeof(TEnum).IsEnum)\n",
    "        {\n",
    "            throw new ArgumentException(\"TEnum must be an enumerated type!\");\n",
    "        }\n",
    "    }\n",
    "}"
   ]
  },
  {
   "cell_type": "markdown",
   "metadata": {},
   "source": [
    "Интересный факт: ограничение where T : struct пропускает енамы"
   ]
  },
  {
   "cell_type": "code",
   "execution_count": 71,
   "metadata": {},
   "outputs": [
    {
     "name": "stdout",
     "output_type": "stream",
     "text": [
      "Submission#72+MyEnum\n",
      "First\n"
     ]
    }
   ],
   "source": [
    "enum MyEnum \n",
    "{\n",
    "    First, Second\n",
    "}\n",
    "\n",
    "public void MyGenericMethod<T>(T obj) where T : struct\n",
    "{\n",
    "    Console.WriteLine(typeof(T));\n",
    "    Console.WriteLine(obj);\n",
    "}\n",
    "\n",
    "MyGenericMethod(MyEnum.First);"
   ]
  },
  {
   "cell_type": "markdown",
   "metadata": {},
   "source": [
    "## Что нужно запомнить"
   ]
  },
  {
   "cell_type": "markdown",
   "metadata": {},
   "source": [
    "- Для каждого конкретного набора аргументов типов генерируется отдельный класс/структура/интерфейс/делегат/метод.\n",
    "- Сильная сторона - эффективная работа со значимыми (struct) аргументами типа.\n",
    "- Ковариантность (out) - когда \"можем засунуть  *производный* от заданного параметра. Допустим только тогда, когда тип используется лишь в возвращаемых значениях методов. Логика: \"если мы возвращали Base, \"\n",
    "- Контравариантность (in) - когда можем использовать тип *базовый* для заданного параметра. Допустимо только тогда, когда тип используется лишь в параметрах методов. Логика: \"если мы ожидаем параметр Base, от того, что нам начнут присылать Derived, нарушений не возникнет\".\n",
    "- С помощью ограничений на типы можно определить, какой набор свойств должен иметь аргумент тип. Благодаря этому можно безопасно использовать эти свойства в коде обобщенного класса/метода/чего-либо."
   ]
  },
  {
   "cell_type": "markdown",
   "metadata": {},
   "source": [
    "# Перечислимые типы (enums)"
   ]
  },
  {
   "cell_type": "markdown",
   "metadata": {},
   "source": [
    "## 1. Базовые возможности"
   ]
  },
  {
   "cell_type": "code",
   "execution_count": 33,
   "metadata": {},
   "outputs": [],
   "source": [
    "enum Color\n",
    "{\n",
    "    White,  // 0\n",
    "    Red,    // 1\n",
    "    Green,  // 2\n",
    "    Blue,   // 3\n",
    "    Orange, // 4\n",
    "}"
   ]
  },
  {
   "cell_type": "code",
   "execution_count": 34,
   "metadata": {},
   "outputs": [
    {
     "name": "stdout",
     "output_type": "stream",
     "text": [
      "White\n",
      "Red\n",
      "42\n"
     ]
    },
    {
     "data": {
      "text/plain": [
       "True"
      ]
     },
     "execution_count": 34,
     "metadata": {},
     "output_type": "execute_result"
    }
   ],
   "source": [
    "Color white = Color.White;  \n",
    "Console.WriteLine(white);   // White\n",
    "\n",
    "Color red = (Color)1;       // Так можно приводить к типу перечисления \n",
    "Console.WriteLine(red);     // Red\n",
    "\n",
    "Color unknown = (Color)42;  // Нет ошибки!\n",
    "Console.WriteLine(unknown); // 42\n",
    "unknown is Color"
   ]
  },
  {
   "cell_type": "code",
   "execution_count": 3,
   "metadata": {},
   "outputs": [
    {
     "data": {
      "text/plain": [
       "Green"
      ]
     },
     "execution_count": 3,
     "metadata": {},
     "output_type": "execute_result"
    }
   ],
   "source": [
    "Color green = Enum.Parse<Color>(\"Green\");\n",
    "green.ToString()"
   ]
  },
  {
   "cell_type": "code",
   "execution_count": 4,
   "metadata": {},
   "outputs": [
    {
     "data": {
      "text/plain": [
       "Blue"
      ]
     },
     "execution_count": 4,
     "metadata": {},
     "output_type": "execute_result"
    }
   ],
   "source": [
    "Enum.TryParse<Color>(\"Blue\", out Color blue);\n",
    "blue.ToString()"
   ]
  },
  {
   "cell_type": "code",
   "execution_count": 5,
   "metadata": {
    "scrolled": true
   },
   "outputs": [
    {
     "ename": "Unhandled Exception",
     "evalue": "(2,14): error CS1008: Требуется тип byte, sbyte, short, ushort, int, uint, long или ulong.",
     "output_type": "error",
     "traceback": [
      "(2,14): error CS1008: Требуется тип byte, sbyte, short, ushort, int, uint, long или ulong."
     ]
    }
   ],
   "source": [
    "// Посмотрим, какими типами можно задавать перечисления\n",
    "enum Dummy : object {}"
   ]
  },
  {
   "cell_type": "code",
   "execution_count": 36,
   "metadata": {},
   "outputs": [],
   "source": [
    "Color[] colors = new Color[] { Color.Red, Color.Blue };"
   ]
  },
  {
   "cell_type": "markdown",
   "metadata": {},
   "source": [
    "## 2. Приведение перечислимых типов"
   ]
  },
  {
   "cell_type": "code",
   "execution_count": 6,
   "metadata": {},
   "outputs": [],
   "source": [
    "enum Fruit\n",
    "{\n",
    "    Melon,      // 0\n",
    "    Tomato,     // 1\n",
    "    Apple,      // 2\n",
    "    Blueberry,  // 3\n",
    "    Orange,     // 4\n",
    "}"
   ]
  },
  {
   "cell_type": "code",
   "execution_count": 7,
   "metadata": {},
   "outputs": [
    {
     "ename": "Unhandled Exception",
     "evalue": "(1,16): error CS0266: Не удается неявно преобразовать тип \"Color\" в \"Fruit\". Существует явное преобразование (возможно, пропущено приведение типов).",
     "output_type": "error",
     "traceback": [
      "(1,16): error CS0266: Не удается неявно преобразовать тип \"Color\" в \"Fruit\". Существует явное преобразование (возможно, пропущено приведение типов)."
     ]
    }
   ],
   "source": [
    "Fruit orange = Color.Orange; // Безопасность типов -> ошибка"
   ]
  },
  {
   "cell_type": "code",
   "execution_count": 8,
   "metadata": {},
   "outputs": [
    {
     "name": "stdout",
     "output_type": "stream",
     "text": [
      "Tomato\r\n"
     ]
    }
   ],
   "source": [
    "Fruit tomato = (Fruit)Color.Red; // А вот так уже можно\n",
    "Console.WriteLine(tomato);"
   ]
  },
  {
   "cell_type": "code",
   "execution_count": 9,
   "metadata": {},
   "outputs": [
    {
     "name": "stdout",
     "output_type": "stream",
     "text": [
      "42\r\n"
     ]
    }
   ],
   "source": [
    "Color unknownColor = (Color)42;\n",
    "Fruit unknownFruit = (Fruit)unknownColor;\n",
    "Console.WriteLine(unknownFruit);"
   ]
  },
  {
   "cell_type": "code",
   "execution_count": 10,
   "metadata": {},
   "outputs": [
    {
     "name": "stdout",
     "output_type": "stream",
     "text": [
      "Blue, Blue, Blue\r\n"
     ]
    }
   ],
   "source": [
    "// Любой enum имеет следующую цепочку наследования: MyEnum <- System.Enum <- System.ValueType <- System.Object\n",
    "\n",
    "Enum enumEnum = Color.Blue;\n",
    "ValueType enumValueType = Color.Blue; // BOXING\n",
    "object enumObj = Color.Blue;          // BOXING\n",
    "\n",
    "Console.WriteLine($\"{enumEnum}, {enumValueType}, {enumObj}\");"
   ]
  },
  {
   "cell_type": "markdown",
   "metadata": {},
   "source": [
    "## 3. Использование одного целочисленного значения для нескольких enum значений"
   ]
  },
  {
   "cell_type": "code",
   "execution_count": 37,
   "metadata": {},
   "outputs": [],
   "source": [
    "public enum Subject\n",
    "{\n",
    "    Programming = 0,\n",
    "    DiscreteMath = 1,\n",
    "    Algebra = 2,\n",
    "    Calculus = 3,\n",
    "    Economics = 4,\n",
    "\n",
    "    MostDifficultSubject = Algebra,\n",
    "    MostUsefulSubject = Programming,\n",
    "    MostHatefulSubject = Programming\n",
    "}"
   ]
  },
  {
   "cell_type": "code",
   "execution_count": 38,
   "metadata": {
    "scrolled": true
   },
   "outputs": [
    {
     "name": "stdout",
     "output_type": "stream",
     "text": [
      "Programming\n",
      "Programming\n",
      "Programming\n",
      "True\n"
     ]
    }
   ],
   "source": [
    "Console.WriteLine(Subject.Programming);\n",
    "Console.WriteLine(Subject.MostUsefulSubject);\n",
    "Console.WriteLine((Subject)0);\n",
    "\n",
    "Console.WriteLine(Subject.Programming == Subject.MostUsefulSubject)"
   ]
  },
  {
   "cell_type": "code",
   "execution_count": 39,
   "metadata": {},
   "outputs": [
    {
     "name": "stdout",
     "output_type": "stream",
     "text": [
      "MostDifficultSubject\n",
      "MostDifficultSubject\n",
      "MostDifficultSubject\n",
      "True\n"
     ]
    }
   ],
   "source": [
    "Console.WriteLine(Subject.Algebra);\n",
    "Console.WriteLine(Subject.MostDifficultSubject);\n",
    "Console.WriteLine((Subject)2);\n",
    "\n",
    "Console.WriteLine(Subject.Algebra == Subject.MostDifficultSubject)"
   ]
  },
  {
   "cell_type": "markdown",
   "metadata": {},
   "source": [
    "## 4. Рефлексия перечислимых типов"
   ]
  },
  {
   "cell_type": "markdown",
   "metadata": {},
   "source": [
    "Статический метод Enum.GetUnderlyingType возвращает целочисленный тип для енама"
   ]
  },
  {
   "cell_type": "code",
   "execution_count": 14,
   "metadata": {},
   "outputs": [
    {
     "data": {
      "text/html": [
       "<span><a href=\"https://docs.microsoft.com/dotnet/api/System.Int32?view=netcore-3.0\">System.Int32</a></span>"
      ]
     },
     "execution_count": 14,
     "metadata": {},
     "output_type": "execute_result"
    }
   ],
   "source": [
    "Enum.GetUnderlyingType(typeof(Subject))"
   ]
  },
  {
   "cell_type": "markdown",
   "metadata": {},
   "source": [
    "В типе System.Type также есть метод GetEnumUnderlyingType"
   ]
  },
  {
   "cell_type": "code",
   "execution_count": 16,
   "metadata": {},
   "outputs": [
    {
     "data": {
      "text/html": [
       "<span><a href=\"https://docs.microsoft.com/dotnet/api/System.Int32?view=netcore-3.0\">System.Int32</a></span>"
      ]
     },
     "execution_count": 16,
     "metadata": {},
     "output_type": "execute_result"
    }
   ],
   "source": [
    "typeof(Subject).GetEnumUnderlyingType()"
   ]
  },
  {
   "cell_type": "markdown",
   "metadata": {},
   "source": [
    "Который работает только с объектами-типами енамов"
   ]
  },
  {
   "cell_type": "code",
   "execution_count": 17,
   "metadata": {},
   "outputs": [
    {
     "ename": "Unhandled Exception",
     "evalue": "Type provided must be an Enum. (Parameter 'enumType')",
     "output_type": "error",
     "traceback": [
      "Unhandled Exception",
      "Type provided must be an Enum. (Parameter 'enumType')",
      "   at System.RuntimeType.GetEnumUnderlyingType()",
      "   at Submission#18.<<Initialize>>d__0.MoveNext()",
      "--- End of stack trace from previous location where exception was thrown ---",
      "   at Microsoft.CodeAnalysis.Scripting.ScriptExecutionState.RunSubmissionsAsync[TResult](ImmutableArray`1 precedingExecutors, Func`2 currentExecutor, StrongBox`1 exceptionHolderOpt, Func`2 catchExceptionOpt, CancellationToken cancellationToken)"
     ]
    }
   ],
   "source": [
    "typeof(short).GetEnumUnderlyingType()"
   ]
  },
  {
   "cell_type": "markdown",
   "metadata": {},
   "source": [
    "Можно получить все значения енама c помощью Enum.GetValues(Type)"
   ]
  },
  {
   "cell_type": "code",
   "execution_count": 18,
   "metadata": {},
   "outputs": [
    {
     "name": "stdout",
     "output_type": "stream",
     "text": [
      "Programming\n",
      "Programming\n",
      "DiscreteMath\n",
      "Algebra\n",
      "Algebra\n",
      "Calculus\n",
      "Economics\n"
     ]
    }
   ],
   "source": [
    "var enumValues = Enum.GetValues(typeof(Subject)); // Аналог: typeof(Subject).GetEnumValues();\n",
    "foreach(var value in enumValues){\n",
    "    Console.WriteLine(value);\n",
    "}"
   ]
  },
  {
   "cell_type": "code",
   "execution_count": 19,
   "metadata": {},
   "outputs": [
    {
     "data": {
      "text/html": [
       "<table><thead><tr><th><i>index</i></th><th>value</th></tr></thead><tbody><tr><td>0</td><td>MostUsefulSubject</td></tr><tr><td>1</td><td>Programming</td></tr><tr><td>2</td><td>DiscreteMath</td></tr><tr><td>3</td><td>Algebra</td></tr><tr><td>4</td><td>MostDifficultSubject</td></tr><tr><td>5</td><td>Calculus</td></tr><tr><td>6</td><td>Economics</td></tr></tbody></table>"
      ]
     },
     "execution_count": 19,
     "metadata": {},
     "output_type": "execute_result"
    }
   ],
   "source": [
    "Enum.GetNames(typeof(Subject)) // Аналог: typeof(Subject).GetEnumNames()"
   ]
  },
  {
   "cell_type": "markdown",
   "metadata": {},
   "source": [
    "Проверка, есть ли в енаме соответствующее значение."
   ]
  },
  {
   "cell_type": "code",
   "execution_count": 20,
   "metadata": {},
   "outputs": [
    {
     "data": {
      "text/plain": [
       "True"
      ]
     },
     "execution_count": 20,
     "metadata": {},
     "output_type": "execute_result"
    }
   ],
   "source": [
    "Enum.IsDefined(typeof(Subject), 3)"
   ]
  },
  {
   "cell_type": "code",
   "execution_count": 21,
   "metadata": {},
   "outputs": [
    {
     "data": {
      "text/plain": [
       "False"
      ]
     },
     "execution_count": 21,
     "metadata": {},
     "output_type": "execute_result"
    }
   ],
   "source": [
    "Enum.IsDefined(typeof(Subject), 42)"
   ]
  },
  {
   "cell_type": "markdown",
   "metadata": {},
   "source": [
    "## 5. Битовые флаги"
   ]
  },
  {
   "cell_type": "code",
   "execution_count": 44,
   "metadata": {},
   "outputs": [],
   "source": [
    "\n",
    "enum FilePermission : byte\n",
    "{\n",
    "    None    = 0b00000000,\n",
    "\n",
    "    Read    = 0b00000001,\n",
    "    Write   = 0b00000010,\n",
    "    Execute = 0b00000100,\n",
    "    Rename  = 0b00001000,\n",
    "    Move    = 0b00010000,\n",
    "    Delete  = 0b00100000,\n",
    "\n",
    "    User        = Read | Execute,\n",
    "    ReadWrite   = Read | Write,\n",
    "    Admin       = Read | Write | Execute | Rename | Move | Delete\n",
    "}"
   ]
  },
  {
   "cell_type": "markdown",
   "metadata": {},
   "source": [
    "[Про FlagsAttribute](https://docs.microsoft.com/ru-ru/dotnet/api/system.flagsattribute?view=net-5.0)"
   ]
  },
  {
   "cell_type": "code",
   "execution_count": 45,
   "metadata": {},
   "outputs": [
    {
     "data": {
      "text/plain": [
       "True"
      ]
     },
     "execution_count": 45,
     "metadata": {},
     "output_type": "execute_result"
    }
   ],
   "source": [
    "FilePermission permission = FilePermission.User;\n",
    "permission.HasFlag(FilePermission.Read)"
   ]
  },
  {
   "cell_type": "markdown",
   "metadata": {},
   "source": [
    "Пример использования:\n",
    "```\n",
    "void RenameFile(File file, User user)\n",
    "{\n",
    "    if (!user.Permission.HasFlag(FilePermission.Rename)) {\n",
    "        throw new SomeException(\"you can't.\")\n",
    "    }\n",
    "    ...\n",
    "}\n",
    "```"
   ]
  },
  {
   "cell_type": "code",
   "execution_count": 43,
   "metadata": {},
   "outputs": [
    {
     "name": "stdout",
     "output_type": "stream",
     "text": [
      "None\n",
      "Read\n",
      "Write\n",
      "ReadWrite\n",
      "Execute\n",
      "User\n",
      "Write, Execute\n",
      "Write, User\n",
      "Rename\n",
      "Read, Rename\n",
      "Write, Rename\n",
      "ReadWrite, Rename\n",
      "Execute, Rename\n",
      "User, Rename\n",
      "Write, Execute, Rename\n",
      "Write, User, Rename\n",
      "Move\n"
     ]
    }
   ],
   "source": [
    "for (int i = 0; i <= 16; ++i) {\n",
    "    FilePermission fp = (FilePermission)i;\n",
    "    Console.WriteLine(fp.ToString(\"G\"));\n",
    "}"
   ]
  },
  {
   "cell_type": "markdown",
   "metadata": {},
   "source": [
    "Пример из стандартной библиотеки: System.AttributeTargets"
   ]
  },
  {
   "cell_type": "code",
   "execution_count": 25,
   "metadata": {},
   "outputs": [],
   "source": [
    "[Flags, Serializable]\n",
    "public enum AttributeTargets {\n",
    "    Assembly = 0x0001,\n",
    "    Module = 0x0002,\n",
    "    Class = 0x0004,\n",
    "    Struct = 0x0008,\n",
    "    Enum = 0x0010,\n",
    "    Constructor = 0x0020,\n",
    "    Method = 0x0040,\n",
    "    Property = 0x0080,\n",
    "    Field = 0x0100,\n",
    "    Event = 0x0200,\n",
    "    Interface = 0x0400,\n",
    "    Parameter = 0x0800,\n",
    "    Delegate = 0x1000,\n",
    "    ReturnValue = 0x2000,\n",
    "    GenericParameter = 0x4000,\n",
    "    All = Assembly | Module | Class | Struct | Enum |\n",
    "    Constructor | Method | Property | Field | Event |\n",
    "    Interface | Parameter | Delegate | ReturnValue |\n",
    "    GenericParameter\n",
    "}"
   ]
  },
  {
   "cell_type": "markdown",
   "metadata": {},
   "source": [
    "## 6. Методы расширения для enum"
   ]
  },
  {
   "cell_type": "markdown",
   "metadata": {},
   "source": [
    "Перечислениям можно \"добавлять функциональность\" с помощью методов расширения"
   ]
  },
  {
   "cell_type": "code",
   "execution_count": 26,
   "metadata": {},
   "outputs": [],
   "source": [
    "//public static class EnumExtentions\n",
    "//{\n",
    "    public static int GetMark(this Subject subject)\n",
    "    {\n",
    "        return subject switch \n",
    "        {\n",
    "            Subject.Programming => 8,\n",
    "            Subject.DiscreteMath => 10,\n",
    "            Subject.Algebra => 5,\n",
    "            Subject.Calculus => 7,\n",
    "            Subject.Economics => 6,\n",
    "            _ => 0,\n",
    "        };\n",
    "    }\n",
    "//}"
   ]
  },
  {
   "cell_type": "code",
   "execution_count": 27,
   "metadata": {},
   "outputs": [
    {
     "data": {
      "text/plain": [
       "8"
      ]
     },
     "execution_count": 27,
     "metadata": {},
     "output_type": "execute_result"
    }
   ],
   "source": [
    "Subject prog = Subject.Programming;\n",
    "prog.GetMark()"
   ]
  }
 ],
 "metadata": {
  "kernelspec": {
   "display_name": ".NET (C#)",
   "language": "C#",
   "name": ".net-csharp"
  },
  "language_info": {
   "file_extension": ".cs",
   "mimetype": "text/x-csharp",
   "name": "C#",
   "pygments_lexer": "csharp",
   "version": "8.0"
  }
 },
 "nbformat": 4,
 "nbformat_minor": 4
}
