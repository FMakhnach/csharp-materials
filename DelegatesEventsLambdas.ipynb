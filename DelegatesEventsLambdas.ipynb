{
 "cells": [
  {
   "cell_type": "markdown",
   "metadata": {},
   "source": [
    "# Делегаты"
   ]
  },
  {
   "cell_type": "markdown",
   "metadata": {},
   "source": [
    "**Делегаты** являются реализацией механизма *обратного вызова* в C# и CLR.\n",
    "\n",
    "Делегат - тип, экземпляры которого способны хранить и вызывать методы с фиксированным набором параметров и типом возвращаемого значения."
   ]
  },
  {
   "cell_type": "markdown",
   "metadata": {},
   "source": [
    " ## 1. Пример"
   ]
  },
  {
   "cell_type": "code",
   "execution_count": null,
   "metadata": {},
   "outputs": [],
   "source": [
    "// Пример объявления делегата\n",
    "public delegate double BinaryOperation(double left, double right);"
   ]
  },
  {
   "cell_type": "code",
   "execution_count": null,
   "metadata": {},
   "outputs": [],
   "source": [
    "double CalculateMark(double accumulated, double exam)\n",
    "{\n",
    "    if(exam < 4.0)\n",
    "    {\n",
    "        return exam;\n",
    "    }\n",
    "    return 0.4 * exam + 0.6 * accumulated; \n",
    "}"
   ]
  },
  {
   "cell_type": "code",
   "execution_count": null,
   "metadata": {},
   "outputs": [],
   "source": [
    "int[] GetResultMarks((double Accumulated, double Exam)[] studentMarks, BinaryOperation formula)\n",
    "{\n",
    "    int[] result = new int[studentMarks.Length];\n",
    "    if (formula is null) \n",
    "    {\n",
    "        return result;\n",
    "    }\n",
    "    for(int i = 0; i < studentMarks.Length; i++)\n",
    "    {\n",
    "        // Тут на самом деле вызывается formula.Invoke(...)\n",
    "        double formulaResult = formula(studentMarks[i].Accumulated, studentMarks[i].Exam);\n",
    "        result[i] = (int)Math.Round(formulaResult, MidpointRounding.AwayFromZero);\n",
    "    }\n",
    "    return result;\n",
    "}"
   ]
  },
  {
   "cell_type": "code",
   "execution_count": null,
   "metadata": {
    "scrolled": true
   },
   "outputs": [],
   "source": [
    "var marks = new (double Accumulated, double Exam)[] { (3.7, 6.5), (9.8, 7.4), (8.4, 9.2) };\n",
    "\n",
    "// На самом деле это разворачивается в GetResultMarks(marks, new BinaryOperation(CalculateMark))\n",
    "GetResultMarks(marks, CalculateMark)"
   ]
  },
  {
   "cell_type": "markdown",
   "metadata": {},
   "source": [
    "## 2. Внутренности"
   ]
  },
  {
   "cell_type": "markdown",
   "metadata": {},
   "source": [
    "Любой делегат под капотом представляет из себя специальный класс. Например, для делегата\n",
    "```csharp\n",
    "public delegate double BinaryOperation(double left, double right);\n",
    "```\n",
    "на этапе компиляции создастся примерно такой класс:"
   ]
  },
  {
   "cell_type": "code",
   "execution_count": null,
   "metadata": {},
   "outputs": [],
   "source": [
    "internal class BinaryOperation : System.MulticastDelegate\n",
    "{\n",
    "    public BinaryOperation(Object obj, IntPtr method);\n",
    "    \n",
    "    public virtual double Invoke(double left, double right);\n",
    "    \n",
    "    public virtual IAsyncResult BeginInvoke(double left, double right, AsyncCallback callback, Object object);\n",
    "    \n",
    "    public virtual void EndInvoke(IAsyncResult result);\n",
    "}"
   ]
  },
  {
   "cell_type": "markdown",
   "metadata": {},
   "source": [
    "Из этого полезно знать только о `Invoke`, т.к. можно вызывать делегаты безопасно"
   ]
  },
  {
   "cell_type": "code",
   "execution_count": null,
   "metadata": {},
   "outputs": [],
   "source": [
    "Action veryGoodAction = null;\n",
    "\n",
    "veryGoodAction()"
   ]
  },
  {
   "cell_type": "code",
   "execution_count": null,
   "metadata": {},
   "outputs": [],
   "source": [
    "veryGoodAction?.Invoke()"
   ]
  },
  {
   "cell_type": "markdown",
   "metadata": {},
   "source": [
    "## 3. Ковариантность и контравариантность"
   ]
  },
  {
   "cell_type": "markdown",
   "metadata": {},
   "source": [
    "Делегаты поддерживают ковариацию и контравариацию **для ссылочных типов** при привязке методов к делегату.\n",
    "\n",
    "**Ковариантность** позволяет привязать к делегату метод с типом возвращаемого значения, *производного* от типа, возвращаемого делегатом.\n",
    "\n",
    "**Контравариантность** позволяет привязать к делегату метод с типом параметра, *базового* для типа параметра делегата."
   ]
  },
  {
   "cell_type": "markdown",
   "metadata": {},
   "source": [
    "Пример ковариации и контравариации в одном флаконе:"
   ]
  },
  {
   "cell_type": "code",
   "execution_count": null,
   "metadata": {},
   "outputs": [],
   "source": [
    "using System.IO;\n",
    "\n",
    "// Обратите внимание на типы\n",
    "public delegate object MyCallback(string s);\n",
    "\n",
    "public class MyClass\n",
    "{\n",
    "    // Обратите внимание на типы\n",
    "    public string SomeMethod(object s)\n",
    "    {\n",
    "        // do something\n",
    "        \n",
    "        return string.Empty;\n",
    "    }\n",
    "}"
   ]
  },
  {
   "cell_type": "code",
   "execution_count": null,
   "metadata": {},
   "outputs": [],
   "source": [
    "MyClass obj = new MyClass();\n",
    "\n",
    "// Успешно компилируется\n",
    "MyCallback callback = obj.SomeMethod;"
   ]
  },
  {
   "cell_type": "markdown",
   "metadata": {},
   "source": [
    "**За этим стоит следующая логика:**\n",
    "\n",
    "Делегат возвращает object => метод возвращает string => string это object => можно засунуть этот метод в делегат. \\[*ковариантность*\\]\n",
    "\n",
    "При вызове в делегат будет передан FileStream => метод принимает Stream => FileStream это Stream => можно засунуть этот метод в делегат. \\[*контравариантность*\\]"
   ]
  },
  {
   "cell_type": "markdown",
   "metadata": {},
   "source": [
    "## 4. Из каждого экземпляра делегата можно достать:\n",
    "- Target - объект, к которому применяется сохранённый метод, null если метод статический;\n",
    "- Method - объект типа MethodInfo, представляющий информацию о методе."
   ]
  },
  {
   "cell_type": "code",
   "execution_count": null,
   "metadata": {},
   "outputs": [],
   "source": [
    "callback.Target == obj // Это и есть ссылка на исходный объект"
   ]
  },
  {
   "cell_type": "code",
   "execution_count": null,
   "metadata": {},
   "outputs": [],
   "source": [
    "var methodInfo = callback.Method;\n",
    "methodInfo.Name"
   ]
  },
  {
   "cell_type": "markdown",
   "metadata": {},
   "source": [
    "## 5. Цепочки делегатов"
   ]
  },
  {
   "cell_type": "markdown",
   "metadata": {},
   "source": [
    "В один делегат можно запихнуть несколько делегатов, они вызовутся в порядке добавления. Если делегат имеет возвращаемое значение, вернётся результат последнего метода."
   ]
  },
  {
   "cell_type": "code",
   "execution_count": null,
   "metadata": {},
   "outputs": [],
   "source": [
    "public delegate int MyCallback();\n",
    "\n",
    "public static int Oh()\n",
    "{\n",
    "    Console.WriteLine(\"Oh\");\n",
    "    return 1;\n",
    "}\n",
    "\n",
    "public int My()\n",
    "{\n",
    "    Console.WriteLine(\"My\");\n",
    "    return 2;\n",
    "}\n",
    "\n",
    "public int God()\n",
    "{\n",
    "    Console.WriteLine(\"God\");\n",
    "    return 3;\n",
    "}"
   ]
  },
  {
   "cell_type": "code",
   "execution_count": null,
   "metadata": {
    "scrolled": true
   },
   "outputs": [],
   "source": [
    "MyCallback callback = Oh;\n",
    "callback += My; // Под капотом: callback = (MyCallback)Delegate.Combine(callback, My);\n",
    "callback += God;\n",
    "\n",
    "int returnValue = callback();\n",
    "\n",
    "returnValue"
   ]
  },
  {
   "cell_type": "markdown",
   "metadata": {},
   "source": [
    "Можно \"отменять подписку\". Удаляются делегаты **с конца**."
   ]
  },
  {
   "cell_type": "code",
   "execution_count": null,
   "metadata": {},
   "outputs": [],
   "source": [
    "MyCallback callback;\n",
    "callback += Oh;\n",
    "callback += My;\n",
    "callback += Oh;\n",
    "callback += My;\n",
    "\n",
    "callback -= Oh;\n",
    "\n",
    "callback -= God; // Если метода не было в списке, ничего не произойдёт\n",
    "\n",
    "callback()"
   ]
  },
  {
   "cell_type": "markdown",
   "metadata": {},
   "source": [
    "## 6. Action и Func"
   ]
  },
  {
   "cell_type": "markdown",
   "metadata": {},
   "source": [
    "В реальности новые типы делегатов объявлять не приходится, т.к. существуют обобщённые делегаты System.Action и System.Func, которые покрывают все потребности.\n",
    "\n",
    "Их объявления выглядят примерно так:"
   ]
  },
  {
   "cell_type": "code",
   "execution_count": null,
   "metadata": {},
   "outputs": [],
   "source": [
    "public delegate void Action<T1, T2, ... T16>(T1 arg1, T2 arg2, ... T16 arg16);\n",
    "\n",
    "public delegate TResult Func<T1, T2, ... T16, TResult>(T1 arg1, T2 arg2, ... T16 arg16);"
   ]
  },
  {
   "cell_type": "code",
   "execution_count": null,
   "metadata": {},
   "outputs": [],
   "source": [
    "public static string Repeat(string str, int ntimes) => string.Concat(Enumerable.Repeat(str, ntimes));\n",
    "\n",
    "Func<string, int, string> myFunc = Repeat;\n",
    "\n",
    "myFunc(\"abcd\", 10)"
   ]
  },
  {
   "cell_type": "code",
   "execution_count": null,
   "metadata": {},
   "outputs": [],
   "source": [
    "public static void SayHello(int ntimes)\n",
    "{\n",
    "    for(int i = 0; i < ntimes; i++)\n",
    "    {\n",
    "        Console.WriteLine(\"Hello!\");\n",
    "    }\n",
    "}"
   ]
  },
  {
   "cell_type": "code",
   "execution_count": null,
   "metadata": {},
   "outputs": [],
   "source": [
    "Action<int> action = SayHello;\n",
    "\n",
    "action(3)"
   ]
  },
  {
   "cell_type": "markdown",
   "metadata": {},
   "source": [
    "# Лямбда-выражения"
   ]
  },
  {
   "cell_type": "markdown",
   "metadata": {},
   "source": [
    "Причина введения лямбда выражений - громоздкий синтаксис использования делегатов. Зачастую мы хотим передать небольшую функцию, которая не имеет смысла вне контекста."
   ]
  },
  {
   "cell_type": "code",
   "execution_count": null,
   "metadata": {},
   "outputs": [],
   "source": [
    "// Анонимная функция - старый синтаксис из мезозоя (до C# 2.0)\n",
    "Func<int, int, bool> dontWriteLikeThis = delegate(int left, int right) { \n",
    "    double dist = Math.Abs(right - left);\n",
    "    return dist > 5;\n",
    "};\n",
    "\n",
    "Func<int, int, bool> func1 = (int left, int right) => { \n",
    "    double dist = Math.Abs(right - left);\n",
    "    return dist > 5;\n",
    "};\n",
    "\n",
    "// Если компилятор сам может определить типы, их можно не писать\n",
    "Func<int, int, bool> func2 = (left, right) => Math.Abs(right - left) > 5;"
   ]
  },
  {
   "cell_type": "code",
   "execution_count": null,
   "metadata": {},
   "outputs": [],
   "source": [
    "// Для одного параметра можно опустить скобки\n",
    "Action<string> print = str => Console.WriteLine(str);\n",
    "\n",
    "print(\"Hello world\")"
   ]
  },
  {
   "cell_type": "markdown",
   "metadata": {},
   "source": [
    "Скобки можно опустить только когда у нас 1 параметр без явного указания типа:"
   ]
  },
  {
   "cell_type": "code",
   "execution_count": null,
   "metadata": {},
   "outputs": [],
   "source": [
    "// Можно\n",
    "Action<string> print1 = str => Console.WriteLine(str);"
   ]
  },
  {
   "cell_type": "code",
   "execution_count": null,
   "metadata": {},
   "outputs": [],
   "source": [
    "// Неможно\n",
    "Action<string> print2 = string str => Console.WriteLine(str);"
   ]
  },
  {
   "cell_type": "code",
   "execution_count": null,
   "metadata": {},
   "outputs": [],
   "source": [
    "// Неможно\n",
    "Action<string, string> print3 = str1, str2 => Console.WriteLine(str1 + str2);"
   ]
  },
  {
   "cell_type": "markdown",
   "metadata": {},
   "source": [
    "Лямбды нельзя присваивать неявно типизированным переменным. Впрочем, обычно вы определяете лямбду прямо при вызове метода, так что это не нужно."
   ]
  },
  {
   "cell_type": "code",
   "execution_count": null,
   "metadata": {},
   "outputs": [],
   "source": [
    "var doesntCompile = (int left, int right) => Math.Abs(right - left) > 5;"
   ]
  },
  {
   "cell_type": "markdown",
   "metadata": {},
   "source": [
    "### Захват переменных (замыкание)"
   ]
  },
  {
   "cell_type": "code",
   "execution_count": null,
   "metadata": {},
   "outputs": [],
   "source": [
    "Action action;\n",
    "\n",
    "for (int i = 0; i < 5; i++)\n",
    "{\n",
    "    action += () => Console.WriteLine(i);\n",
    "}\n",
    "\n",
    "action.Invoke()"
   ]
  },
  {
   "cell_type": "markdown",
   "metadata": {},
   "source": [
    "# События"
   ]
  },
  {
   "cell_type": "markdown",
   "metadata": {},
   "source": [
    "- Сущность\n",
    "- Допустимые операции\n",
    "- Методы аксессоры\n",
    "- Общепринятые правила использования\n",
    "- Пример"
   ]
  },
  {
   "cell_type": "markdown",
   "metadata": {},
   "source": [
    "## 1. Сущность"
   ]
  },
  {
   "cell_type": "markdown",
   "metadata": {},
   "source": [
    "Событие (event) - обёртка над делегатом, предоставляющая более безопасное использование.\n",
    "\n",
    "Объявляется как обычный член класса, например:"
   ]
  },
  {
   "cell_type": "code",
   "execution_count": null,
   "metadata": {},
   "outputs": [],
   "source": [
    "public class EventHolder\n",
    "{\n",
    "    public event EventHandler<EventArgs> MyUselessEvent;\n",
    "}"
   ]
  },
  {
   "cell_type": "markdown",
   "metadata": {},
   "source": [
    "## 2. Допустимые операции"
   ]
  },
  {
   "cell_type": "markdown",
   "metadata": {},
   "source": [
    "Допустимые операции **извне класса**:\n",
    "- Подписать метод на событие (+=);\n",
    "- Отписать метод от события (-=);\n",
    "\n",
    "Всё. Нельзя **вызвать событие** или **присвоить ему новое значение** - это прерогатива самого класса. Это и отличает события от делегатов. "
   ]
  },
  {
   "cell_type": "code",
   "execution_count": null,
   "metadata": {},
   "outputs": [],
   "source": [
    "public class EventHolder\n",
    "{\n",
    "    public event EventHandler<EventArgs> MyUselessEvent;\n",
    "    \n",
    "    public void TriggerEvent(EventArgs e)\n",
    "    {\n",
    "        MyUselessEvent?.Invoke(this, e);\n",
    "    }\n",
    "}"
   ]
  },
  {
   "cell_type": "code",
   "execution_count": null,
   "metadata": {},
   "outputs": [],
   "source": [
    "EventHolder ev = new EventHolder();\n",
    "\n",
    "ev.MyUselessEvent += (sender, e) => Console.WriteLine(\"Hello\");\n",
    "ev.MyUselessEvent += (sender, e) => Console.WriteLine(\"World\");\n",
    "\n",
    "// Не получится изменить значение\n",
    "// ev.MyUselessEvent = (sender, e) => Console.WriteLine(\"Goodbye\");\n",
    "\n",
    "// Не получится вызвать напрямую\n",
    "// ev.MyUselessEvent?.Invoke()\n",
    "\n",
    "ev.TriggerEvent(EventArgs.Empty)"
   ]
  },
  {
   "cell_type": "markdown",
   "metadata": {},
   "source": [
    "## 3. Методы аксессоры"
   ]
  },
  {
   "cell_type": "markdown",
   "metadata": {},
   "source": [
    "Свойство - эдакое свойство, но для делегатов. \n",
    "\n",
    "В реальности событие разворачивается в приватное поле делегата и 2 метода **add** и **remove**, соответствующие операциям \"+=\" и \"-=\" соответственно.\n",
    "\n",
    "- Их можно переопределить, но как правило это не требуется.\n",
    "- Вы не можете переопределить один - нужны оба!\n",
    "- **Переопределение add и remove отнимает возможность вызывать событие \"напрямую\"!**"
   ]
  },
  {
   "cell_type": "code",
   "execution_count": null,
   "metadata": {},
   "outputs": [],
   "source": [
    "public class EventHolder\n",
    "{\n",
    "    private EventHandler<EventArgs> myEvent; \n",
    "    \n",
    "    public event EventHandler<EventArgs> MyUselessEvent\n",
    "    {\n",
    "        add \n",
    "        { \n",
    "            myEvent += value;\n",
    "            Console.WriteLine(\"Adding new method\"); \n",
    "        }\n",
    "        remove \n",
    "        { \n",
    "            myEvent -= value;\n",
    "            Console.WriteLine(\"Removing method\"); \n",
    "        }\n",
    "    }\n",
    "    \n",
    "    public void TriggerEvent(EventArgs e)\n",
    "    {\n",
    "        // Так нельзя, раз переопределены аксессоры!\n",
    "        // MyUselessEvent?.Invoke(this, e);\n",
    "        \n",
    "        myEvent?.Invoke(this, e);\n",
    "    }\n",
    "}"
   ]
  },
  {
   "cell_type": "code",
   "execution_count": null,
   "metadata": {},
   "outputs": [],
   "source": [
    "EventHolder ev = new EventHolder();\n",
    "\n",
    "ev.MyUselessEvent += (sender, e) => Console.WriteLine(\"Do nothing\"); \n",
    "ev.MyUselessEvent -= (sender, e) => Console.WriteLine(\"Anyway this is not working\");\n",
    "\n",
    "ev.TriggerEvent(EventArgs.Empty);"
   ]
  },
  {
   "cell_type": "markdown",
   "metadata": {},
   "source": [
    "## 4. Общепринятые правила использования"
   ]
  },
  {
   "cell_type": "markdown",
   "metadata": {},
   "source": [
    "**Invocation list**, который в делегатах применяется не очень часто, очень полезен в событиях: предполагается, что на событие может подписаться много методов. Поэтому мы не хотим создавать события с возвращаемым значением, отличным от void - в случае вызова нескольких методов мы получим результат лишь последнего."
   ]
  },
  {
   "cell_type": "markdown",
   "metadata": {},
   "source": [
    "Можно использовать одну из вариаций Action, но классическим считается использование делегата EventHandler<TEventArgs>, сигнатура которого выглядит так:"
   ]
  },
  {
   "cell_type": "code",
   "execution_count": null,
   "metadata": {},
   "outputs": [],
   "source": [
    "public delegate void EventHandler<TEventArgs>(object sender, TEventArgs e);"
   ]
  },
  {
   "cell_type": "markdown",
   "metadata": {},
   "source": [
    "Ограничений на ```TEventArgs``` не накладывается, хотя могли бы. Предполагается, что будет использоваться наследник EventArgs, примерно так:"
   ]
  },
  {
   "cell_type": "code",
   "execution_count": null,
   "metadata": {},
   "outputs": [],
   "source": [
    "public class MessageEventArgs : EventArgs\n",
    "{\n",
    "    public string Message { get; set; }\n",
    "}"
   ]
  },
  {
   "cell_type": "code",
   "execution_count": null,
   "metadata": {},
   "outputs": [],
   "source": [
    "public class EventHolder\n",
    "{\n",
    "    public event EventHandler<MessageEventArgs> MyUselessEvent;\n",
    "    \n",
    "    public void TriggerEvent(MessageEventArgs e)\n",
    "    {\n",
    "        MyUselessEvent?.Invoke(this, e);\n",
    "    }\n",
    "}"
   ]
  },
  {
   "cell_type": "code",
   "execution_count": null,
   "metadata": {},
   "outputs": [],
   "source": [
    "EventHolder ev = new EventHolder();\n",
    "\n",
    "ev.MyUselessEvent += (sender, e) => Console.WriteLine(\"1. \" + e.Message); \n",
    "ev.MyUselessEvent += (sender, e) => Console.WriteLine(\"2. \" + e.Message);\n",
    "\n",
    "ev.TriggerEvent(new MessageEventArgs { Message = \"You do not talk about Fight Club\" });"
   ]
  }
 ],
 "metadata": {
  "kernelspec": {
   "display_name": ".NET (C#)",
   "language": "C#",
   "name": ".net-csharp"
  },
  "language_info": {
   "file_extension": ".cs",
   "mimetype": "text/x-csharp",
   "name": "C#",
   "pygments_lexer": "csharp",
   "version": "8.0"
  }
 },
 "nbformat": 4,
 "nbformat_minor": 4
}
