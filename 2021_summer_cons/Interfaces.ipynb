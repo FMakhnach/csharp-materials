{
 "cells": [
  {
   "cell_type": "markdown",
   "metadata": {},
   "source": [
    "# Интерфейсы"
   ]
  },
  {
   "cell_type": "markdown",
   "metadata": {},
   "source": [
    "Интерфейс - контракт, по которому класс, его реализующий, предоставляет какие-то методы.\n",
    "\n",
    "Написание кода с опорой на интерфейсы, а не на конкретные типы позволяет:\n",
    "- **Переиспользовать код, абстрагируясь от реализации.** Один раз написанный алгоритм сортировки элементов, опирающийся только на интерфейс IComparable, одинаково работает как со встроенными типами, так и с вашими.\n",
    "- **Подменять реализацию, в том числе во время исполнения.**\n",
    "- **Сделать код более безопасным.** Объект, передаваемый по интерфейсной ссылке предоставляет только ограниченную информацию о своих возможностях.\n",
    "- **Не опасаться за последствия (по сравнению с наследованием).** Так как мы не тянем за собой реализацию, не возникает проблем, как с множественным наследованием."
   ]
  },
  {
   "cell_type": "markdown",
   "metadata": {},
   "source": [
    "## 1. Правила определения интерфейсов"
   ]
  },
  {
   "cell_type": "markdown",
   "metadata": {},
   "source": [
    "В интерфейсе определяются сигнатуры *экземплярных функциональных* членов класса, кроме конструкторов. \n",
    "\n",
    "Т.е. недопустимы\n",
    "- Поля\n",
    "- Конструкторы\n",
    "- Что-либо статическое\n",
    "\n",
    "Всё остальное - можно:\n",
    "- Методы\n",
    "- Свойства\n",
    "- События\n",
    "- Индексаторы\n",
    "\n",
    "Модификатор доступа не указывается - он априори public."
   ]
  },
  {
   "cell_type": "code",
   "execution_count": 31,
   "metadata": {},
   "outputs": [
    {
     "ename": "Unhandled Exception",
     "evalue": "(11,31): error CS0073: Методы доступа add и remove должны иметь тело.\r\n(11,39): error CS0073: Методы доступа add и remove должны иметь тело.",
     "output_type": "error",
     "traceback": [
      "(11,31): error CS0073: Методы доступа add и remove должны иметь тело.\r\n(11,39): error CS0073: Методы доступа add и remove должны иметь тело."
     ]
    }
   ],
   "source": [
    "public interface ISomethingMessy\n",
    "{\n",
    "    // Метод\n",
    "    void Execute();\n",
    "    \n",
    "    // Свойство\n",
    "    string Message { get; }\n",
    "    \n",
    "    // Индексатор\n",
    "    object this[int index] { get; set; }\n",
    "    \n",
    "    // Событие\n",
    "    event Action MyEvent;\n",
    "}"
   ]
  },
  {
   "cell_type": "markdown",
   "metadata": {},
   "source": [
    "Пример из стандартной библиотеки - System.IDisposable\n",
    "```\n",
    "public interface IDisposable\n",
    "{\n",
    "    void Dispose();\n",
    "}\n",
    "```"
   ]
  },
  {
   "cell_type": "markdown",
   "metadata": {},
   "source": [
    "## 2. Реализация интерфейсов. Наследование"
   ]
  },
  {
   "cell_type": "code",
   "execution_count": 3,
   "metadata": {},
   "outputs": [
    {
     "ename": "Unhandled Exception",
     "evalue": "(3,14): error CS0535: '\"Base\" не реализует член интерфейса \"IDisposable.Dispose()\".",
     "output_type": "error",
     "traceback": [
      "(3,14): error CS0535: '\"Base\" не реализует член интерфейса \"IDisposable.Dispose()\"."
     ]
    }
   ],
   "source": [
    "using System.IO;\n",
    "\n",
    "class Base : IDisposable\n",
    "{\n",
    "    private FileStream fileStream;\n",
    "    \n",
    "    // ...\n",
    "    \n",
    "    // public void Dispose() { fileStream.Dispose(); }\n",
    "}"
   ]
  },
  {
   "cell_type": "code",
   "execution_count": 30,
   "metadata": {},
   "outputs": [
    {
     "data": {
      "text/plain": [
       "True"
      ]
     },
     "execution_count": 30,
     "metadata": {},
     "output_type": "execute_result"
    }
   ],
   "source": [
    "using System.IO;\n",
    "\n",
    "class Base : IDisposable\n",
    "{\n",
    "    private FileStream fileStream;\n",
    "    \n",
    "    // ...\n",
    "    \n",
    "    public void Dispose() { fileStream.Dispose(); }\n",
    "}\n",
    "\n",
    "class Derived : Base\n",
    "{\n",
    "    // ...\n",
    "}\n",
    "\n",
    "// Все наследники класса автоматически реализуют интерфейсы родителя.\n",
    "Derived derived = new Derived();\n",
    "derived is IDisposable"
   ]
  },
  {
   "cell_type": "markdown",
   "metadata": {},
   "source": [
    "## 3. Также доступны методы класса object"
   ]
  },
  {
   "cell_type": "code",
   "execution_count": 5,
   "metadata": {},
   "outputs": [
    {
     "data": {
      "text/plain": [
       "3"
      ]
     },
     "execution_count": 5,
     "metadata": {},
     "output_type": "execute_result"
    }
   ],
   "source": [
    "IComparable<int> value = 3;\n",
    "value.ToString()"
   ]
  },
  {
   "cell_type": "code",
   "execution_count": 6,
   "metadata": {},
   "outputs": [
    {
     "data": {
      "text/html": [
       "<span><a href=\"https://docs.microsoft.com/dotnet/api/System.Int32?view=netcore-3.0\">System.Int32</a></span>"
      ]
     },
     "execution_count": 6,
     "metadata": {},
     "output_type": "execute_result"
    }
   ],
   "source": [
    "value.GetType()"
   ]
  },
  {
   "cell_type": "markdown",
   "metadata": {},
   "source": [
    "## 4. ~~Реализация~~ Наследование интерфейсов интерфейсами"
   ]
  },
  {
   "cell_type": "markdown",
   "metadata": {},
   "source": [
    "Можно расширить интерфейс, отнаследовав от него другой интерфейс. Типы, реализующие интерфейс-ребёнок будут обязаны реализовать функционал обоих интерфейсов.\n",
    "\n",
    "**Однако это оправдано тогда и только тогда, когда жёсткая связь допустима.**\n",
    "\n",
    "Иначе лучше использовать несколько маленьких интерфейсов согласно **Interface Segregation Principle**."
   ]
  },
  {
   "cell_type": "code",
   "execution_count": 7,
   "metadata": {},
   "outputs": [
    {
     "ename": "Unhandled Exception",
     "evalue": "(11,20): error CS0535: '\"Car\" не реализует член интерфейса \"IWheeledVehicle.NumOfWheels\".\r\n(11,20): error CS0535: '\"Car\" не реализует член интерфейса \"IVehicle.MoveTo(float, float, float)\".",
     "output_type": "error",
     "traceback": [
      "(11,20): error CS0535: '\"Car\" не реализует член интерфейса \"IWheeledVehicle.NumOfWheels\".\r\n(11,20): error CS0535: '\"Car\" не реализует член интерфейса \"IVehicle.MoveTo(float, float, float)\"."
     ]
    }
   ],
   "source": [
    "public interface IVehicle\n",
    "{\n",
    "    void MoveTo(float x, float y, float z);\n",
    "}\n",
    "\n",
    "public interface IWheeledVehicle : IVehicle\n",
    "{\n",
    "    int NumOfWheels { get; }\n",
    "}\n",
    "\n",
    "public class Car : IWheeledVehicle { }\n"
   ]
  },
  {
   "cell_type": "markdown",
   "metadata": {},
   "source": [
    "Пример наследования интерфейсов из стандартной библиотеки - IEnumerable"
   ]
  },
  {
   "cell_type": "markdown",
   "metadata": {},
   "source": [
    "```\n",
    "public interface IEnumerable<out T> : IEnumerable\n",
    "{\n",
    "    IEnumerator<T> GetEnumerator();\n",
    "}\n",
    "\n",
    "public interface IEnumerable\n",
    "{\n",
    "    IEnumerator GetEnumerator();\n",
    "}\n",
    "```"
   ]
  },
  {
   "cell_type": "markdown",
   "metadata": {},
   "source": [
    "## 5. Явная (explicit) и неявная (implicit) реализации интерфейса"
   ]
  },
  {
   "cell_type": "markdown",
   "metadata": {},
   "source": [
    "Однако можно реализовать интерфейс, не предоставив публичную реализацию методов.\n",
    "\n",
    "Этого можно добиться, реализовав интерфейс **явно** (explicit). Такая реализация будет доступна **только по соответствующей интерфейсной ссылке**."
   ]
  },
  {
   "cell_type": "code",
   "execution_count": 8,
   "metadata": {},
   "outputs": [],
   "source": [
    "public class MyClass : IDisposable\n",
    "{\n",
    "    // Неявная реализация интерфейса\n",
    "    // public void Dispose() { Console.WriteLine(\"Implicit\"); }\n",
    "\n",
    "    // Явная реализация интерфейса\n",
    "    void IDisposable.Dispose() { Console.WriteLine(\"Explicit\"); }\n",
    "}"
   ]
  },
  {
   "cell_type": "code",
   "execution_count": 9,
   "metadata": {},
   "outputs": [
    {
     "ename": "Unhandled Exception",
     "evalue": "(2,9): error CS1061: \"MyClass\" не содержит определения \"Dispose\", и не удалось найти доступный метод расширения \"Dispose\", принимающий тип \"MyClass\" в качестве первого аргумента (возможно, пропущена директива using или ссылка на сборку).",
     "output_type": "error",
     "traceback": [
      "(2,9): error CS1061: \"MyClass\" не содержит определения \"Dispose\", и не удалось найти доступный метод расширения \"Dispose\", принимающий тип \"MyClass\" в качестве первого аргумента (возможно, пропущена директива using или ссылка на сборку)."
     ]
    }
   ],
   "source": [
    "MyClass myClass = new MyClass();\n",
    "myClass.Dispose();"
   ]
  },
  {
   "cell_type": "code",
   "execution_count": 10,
   "metadata": {},
   "outputs": [
    {
     "name": "stdout",
     "output_type": "stream",
     "text": [
      "Explicit\r\n"
     ]
    }
   ],
   "source": [
    "IDisposable disposable = new MyClass();\n",
    "disposable.Dispose();"
   ]
  },
  {
   "cell_type": "markdown",
   "metadata": {},
   "source": [
    "**В чём смысл?**\n",
    "\n",
    "Можно реализовать несколько интерфейсов, содержащих несколько одинаковых по сигнатуре методов. Если они представляют одинаковый смысл то проблем не возникает - а если они в сущности разные?\n",
    "\n",
    "С помощью явных реализаций интерфейса можно определить **разное поведение** экземпляра в зависимости от того, по какой ссылке мы вызываем интерфейсный метод.\n",
    "\n",
    "P.S. Пример супер надуманный"
   ]
  },
  {
   "cell_type": "code",
   "execution_count": 11,
   "metadata": {},
   "outputs": [],
   "source": [
    "// \"Исполнитель\"\n",
    "public interface IExecutor\n",
    "{\n",
    "    void Execute();\n",
    "}"
   ]
  },
  {
   "cell_type": "code",
   "execution_count": 12,
   "metadata": {},
   "outputs": [],
   "source": [
    "// \"Палач\"\n",
    "public interface IExecutioner\n",
    "{\n",
    "    void Execute();\n",
    "}"
   ]
  },
  {
   "cell_type": "code",
   "execution_count": 13,
   "metadata": {},
   "outputs": [],
   "source": [
    "public class Officer : IExecutor, IExecutioner\n",
    "{\n",
    "    public void Execute() { /* some boring actions */ Console.WriteLine(\"Job executed.\"); }\n",
    "    \n",
    "    void IExecutioner.Execute() { /* some murderous actions */ Console.WriteLine(\"Intruder executed.\"); }\n",
    "}"
   ]
  },
  {
   "cell_type": "code",
   "execution_count": 14,
   "metadata": {},
   "outputs": [
    {
     "name": "stdout",
     "output_type": "stream",
     "text": [
      "Job executed.\r\n"
     ]
    }
   ],
   "source": [
    "Officer officer = new Officer();\n",
    "officer.Execute();"
   ]
  },
  {
   "cell_type": "code",
   "execution_count": 15,
   "metadata": {},
   "outputs": [
    {
     "name": "stdout",
     "output_type": "stream",
     "text": [
      "Job executed.\r\n"
     ]
    }
   ],
   "source": [
    "IExecutor executor = officer;\n",
    "executor.Execute();"
   ]
  },
  {
   "cell_type": "code",
   "execution_count": 16,
   "metadata": {
    "scrolled": true
   },
   "outputs": [
    {
     "name": "stdout",
     "output_type": "stream",
     "text": [
      "Intruder executed.\r\n"
     ]
    }
   ],
   "source": [
    "IExecutioner executioner = officer;\n",
    "executioner.Execute();"
   ]
  },
  {
   "cell_type": "markdown",
   "metadata": {},
   "source": [
    "## 6. Обобщённые интерфейсы"
   ]
  },
  {
   "cell_type": "markdown",
   "metadata": {},
   "source": [
    "Интерфейсы могут быть обобщёнными, таким образом получив все преимущества обобщений.\n",
    "\n",
    "Из приятного: можно реализовать один и тот же интерфейс с различными параметрами типа, т.к. *как вы знаете*, обобщённые типы с разными параметрами конструируются в разные типы."
   ]
  },
  {
   "cell_type": "code",
   "execution_count": 17,
   "metadata": {},
   "outputs": [],
   "source": [
    "public class Number : IComparable<int>, IComparable<double>, IComparable<string>\n",
    "{\n",
    "    private int Value { get; }\n",
    "    \n",
    "    public Number(int number)\n",
    "    {\n",
    "        Value = number;\n",
    "    }\n",
    "\n",
    "    public int CompareTo(int other) \n",
    "    {\n",
    "        Console.WriteLine(\"Hello from int\");\n",
    "        return Value.CompareTo(other);\n",
    "    }\n",
    "    \n",
    "    \n",
    "    public int CompareTo(double other)\n",
    "    {\n",
    "        Console.WriteLine(\"Hello from double\");\n",
    "        return ((double)Value).CompareTo(other);\n",
    "    }\n",
    "    \n",
    "    public int CompareTo(string other)\n",
    "    {\n",
    "        Console.WriteLine(\"Hello from string\");\n",
    "        return ((double)Value).CompareTo(double.Parse(other));\n",
    "    }\n",
    "}"
   ]
  },
  {
   "cell_type": "code",
   "execution_count": 18,
   "metadata": {},
   "outputs": [],
   "source": [
    "Number number = new Number(42);"
   ]
  },
  {
   "cell_type": "code",
   "execution_count": 19,
   "metadata": {},
   "outputs": [
    {
     "name": "stdout",
     "output_type": "stream",
     "text": [
      "Hello from int\r\n"
     ]
    },
    {
     "data": {
      "text/plain": [
       "1"
      ]
     },
     "execution_count": 19,
     "metadata": {},
     "output_type": "execute_result"
    }
   ],
   "source": [
    "number.CompareTo(13)"
   ]
  },
  {
   "cell_type": "code",
   "execution_count": 20,
   "metadata": {},
   "outputs": [
    {
     "name": "stdout",
     "output_type": "stream",
     "text": [
      "Hello from double\r\n"
     ]
    },
    {
     "data": {
      "text/plain": [
       "-1"
      ]
     },
     "execution_count": 20,
     "metadata": {},
     "output_type": "execute_result"
    }
   ],
   "source": [
    "number.CompareTo(42.5)"
   ]
  },
  {
   "cell_type": "code",
   "execution_count": 21,
   "metadata": {},
   "outputs": [
    {
     "name": "stdout",
     "output_type": "stream",
     "text": [
      "Hello from string\r\n"
     ]
    },
    {
     "data": {
      "text/plain": [
       "0"
      ]
     },
     "execution_count": 21,
     "metadata": {},
     "output_type": "execute_result"
    }
   ],
   "source": [
    "number.CompareTo(\"42\")"
   ]
  },
  {
   "cell_type": "markdown",
   "metadata": {},
   "source": [
    "Можно использовать интерфейсы в ограничениях на аргумент-тип. Если использовать несколько, то аргумент-тип должен реализовать все."
   ]
  },
  {
   "cell_type": "code",
   "execution_count": 22,
   "metadata": {},
   "outputs": [],
   "source": [
    "public void SayHello<T>(T value) where T : IComparable<int>, IDisposable\n",
    "{\n",
    "    Console.WriteLine(\"Hello!\");\n",
    "}"
   ]
  },
  {
   "cell_type": "code",
   "execution_count": 23,
   "metadata": {},
   "outputs": [],
   "source": [
    "public class MyClass : IComparable<int> //, IDisposable\n",
    "{\n",
    "    public int CompareTo(int other) => throw new NotImplementedException();\n",
    "    \n",
    "    public void Dispose() => throw new NotImplementedException();\n",
    "}"
   ]
  },
  {
   "cell_type": "code",
   "execution_count": 24,
   "metadata": {},
   "outputs": [
    {
     "ename": "Unhandled Exception",
     "evalue": "(2,1): error CS0311: Тип \"MyClass\" не может быть использован как параметр типа \"T\" в универсальном типе или методе \"SayHello<T>(T)\". Нет преобразования неявной ссылки из \"MyClass\" в \"IDisposable\".",
     "output_type": "error",
     "traceback": [
      "(2,1): error CS0311: Тип \"MyClass\" не может быть использован как параметр типа \"T\" в универсальном типе или методе \"SayHello<T>(T)\". Нет преобразования неявной ссылки из \"MyClass\" в \"IDisposable\"."
     ]
    }
   ],
   "source": [
    "MyClass obj = new MyClass();\n",
    "SayHello(obj)"
   ]
  },
  {
   "cell_type": "markdown",
   "metadata": {},
   "source": [
    "## 7. Реализация метода интерфейса по умолчанию"
   ]
  },
  {
   "cell_type": "markdown",
   "metadata": {},
   "source": [
    "Начиная с C# 8.0 можно определять реализацию методов интерфейса по умолчанию.\n",
    "\n",
    "Такая реализация доступна только по интерфейсной ссылке"
   ]
  },
  {
   "cell_type": "code",
   "execution_count": 25,
   "metadata": {},
   "outputs": [],
   "source": [
    "public interface ISummator\n",
    "{\n",
    "    int Sum(IEnumerable<int> values) \n",
    "    {\n",
    "        int result = 0;\n",
    "        foreach(var value in values)\n",
    "        {\n",
    "            result += value;\n",
    "        }\n",
    "        return result;\n",
    "    }\n",
    "}"
   ]
  },
  {
   "cell_type": "code",
   "execution_count": 26,
   "metadata": {},
   "outputs": [],
   "source": [
    "public class MySummator : ISummator\n",
    "{\n",
    "}"
   ]
  },
  {
   "cell_type": "code",
   "execution_count": 27,
   "metadata": {
    "scrolled": true
   },
   "outputs": [
    {
     "ename": "Unhandled Exception",
     "evalue": "(3,12): error CS1061: \"MySummator\" не содержит определения \"Sum\", и не удалось найти доступный метод расширения \"Sum\", принимающий тип \"MySummator\" в качестве первого аргумента (возможно, пропущена директива using или ссылка на сборку).",
     "output_type": "error",
     "traceback": [
      "(3,12): error CS1061: \"MySummator\" не содержит определения \"Sum\", и не удалось найти доступный метод расширения \"Sum\", принимающий тип \"MySummator\" в качестве первого аргумента (возможно, пропущена директива using или ссылка на сборку)."
     ]
    }
   ],
   "source": [
    "MySummator mySummator = new MySummator();\n",
    "\n",
    "mySummator.Sum(new int[]{1, 2, 3, 4, 5})"
   ]
  },
  {
   "cell_type": "code",
   "execution_count": 28,
   "metadata": {},
   "outputs": [
    {
     "data": {
      "text/plain": [
       "15"
      ]
     },
     "execution_count": 28,
     "metadata": {},
     "output_type": "execute_result"
    }
   ],
   "source": [
    "ISummator summator = new MySummator();\n",
    "\n",
    "summator.Sum(new int[] { 1, 2, 3, 4, 5 })"
   ]
  },
  {
   "cell_type": "markdown",
   "metadata": {},
   "source": [
    "## 8. Абстрактный класс или интерфейс?"
   ]
  },
  {
   "cell_type": "markdown",
   "metadata": {},
   "source": [
    "**Абстрактный класс:**\n",
    "- Является классом, а значит наследуясь от него нельзя наследоваться от других классов;\n",
    "- Может определять часть состояния и поведения;\n",
    "- Наследование - очень сильная связь;\n",
    "\n",
    "Абстрактный определяет каркас для нескольких различных реализаций сущности.\n",
    "\n",
    "**Интерфейс:**\n",
    "- Класс может реализовывать сколько угодно интерфейсов;\n",
    "- Определяет (в общем случае) только *что* должен делать класс, но не *как* (в общем случае);\n",
    "- Реализация интерфейс - слабая связь;\n",
    "\n",
    "Интерфейс определяет набор свойств, которыми должна обладать сущность, её некоторый обособленный функционал."
   ]
  }
 ],
 "metadata": {
  "kernelspec": {
   "display_name": ".NET (C#)",
   "language": "C#",
   "name": ".net-csharp"
  },
  "language_info": {
   "file_extension": ".cs",
   "mimetype": "text/x-csharp",
   "name": "C#",
   "pygments_lexer": "csharp",
   "version": "8.0"
  }
 },
 "nbformat": 4,
 "nbformat_minor": 4
}
