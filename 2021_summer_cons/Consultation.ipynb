{
 "cells": [
  {
   "cell_type": "code",
   "execution_count": null,
   "metadata": {},
   "outputs": [],
   "source": []
  },
  {
   "cell_type": "markdown",
   "metadata": {},
   "source": [
    "# Интерфейсы"
   ]
  },
  {
   "cell_type": "markdown",
   "metadata": {},
   "source": [
    "Интерфейс - контракт, по которому класс, его реализующий, предоставляет какие-то методы.\n",
    "\n",
    "Использование интерфейсов сильно увеличи"
   ]
  },
  {
   "cell_type": "markdown",
   "metadata": {},
   "source": [
    "# Обобщения"
   ]
  },
  {
   "cell_type": "code",
   "execution_count": null,
   "metadata": {},
   "outputs": [],
   "source": []
  },
  {
   "cell_type": "markdown",
   "metadata": {},
   "source": [
    "# Методы расширения"
   ]
  },
  {
   "cell_type": "markdown",
   "metadata": {},
   "source": [
    "Функциональность любого типа можно расширить при помощи механизма методов расширения"
   ]
  },
  {
   "cell_type": "code",
   "execution_count": 14,
   "metadata": {},
   "outputs": [
    {
     "ename": "Unhandled Exception",
     "evalue": "(3,26): error CS1109: Методы расширения должны быть определены в статическом классе верхнего уровня; StringExtentions является вложенным классом.",
     "output_type": "error",
     "traceback": [
      "(3,26): error CS1109: Методы расширения должны быть определены в статическом классе верхнего уровня; StringExtentions является вложенным классом."
     ]
    }
   ],
   "source": [
    "// Так он должен, по-хорошему, объявляться.\n",
    "public static class StringExtentions\n",
    "{\n",
    "    public static string AddBorders(this string str, char symbol='=', int size=3)\n",
    "    {\n",
    "        string border = new string(symbol, size);\n",
    "        return border + str + border;\n",
    "    }\n",
    "}"
   ]
  },
  {
   "cell_type": "markdown",
   "metadata": {},
   "source": [
    "**Ввиду особенностей Jupyter Notebook (он оборачивает всё в класс) я объявляю метод расширения прямо в ячейке. В реальности требуется публичный статический класс**"
   ]
  },
  {
   "cell_type": "code",
   "execution_count": 15,
   "metadata": {},
   "outputs": [],
   "source": [
    "//public static class StringExtentions\n",
    "//{\n",
    "    public static string AddBorders(this string str, char symbol='=', int size=3)\n",
    "    {\n",
    "        string border = new string(symbol, size);\n",
    "        return border + str + border;\n",
    "    }\n",
    "//}"
   ]
  },
  {
   "cell_type": "code",
   "execution_count": 16,
   "metadata": {},
   "outputs": [
    {
     "data": {
      "text/plain": [
       "===Hello==="
      ]
     },
     "execution_count": 16,
     "metadata": {},
     "output_type": "execute_result"
    }
   ],
   "source": [
    "string str = \"Hello\";\n",
    "str.AddBorders()"
   ]
  },
  {
   "cell_type": "markdown",
   "metadata": {},
   "source": [
    "# LINQ"
   ]
  },
  {
   "cell_type": "code",
   "execution_count": null,
   "metadata": {},
   "outputs": [],
   "source": []
  },
  {
   "cell_type": "markdown",
   "metadata": {},
   "source": [
    "# Перечислимые типы (enums)"
   ]
  },
  {
   "cell_type": "markdown",
   "metadata": {},
   "source": [
    "## 1. Базовые возможности"
   ]
  },
  {
   "cell_type": "code",
   "execution_count": 17,
   "metadata": {},
   "outputs": [],
   "source": [
    "enum Color\n",
    "{\n",
    "    White,  // 0\n",
    "    Red,    // 1\n",
    "    Green,  // 2\n",
    "    Blue,   // 3\n",
    "    Orange, // 4\n",
    "}"
   ]
  },
  {
   "cell_type": "code",
   "execution_count": 18,
   "metadata": {},
   "outputs": [
    {
     "name": "stdout",
     "output_type": "stream",
     "text": [
      "White\n",
      "Red\n",
      "42\n"
     ]
    }
   ],
   "source": [
    "Color white = Color.White;  \n",
    "Console.WriteLine(white);   // White\n",
    "\n",
    "Color red = (Color)1;       // Так можно приводить к типу перечисления \n",
    "Console.WriteLine(red);     // Red\n",
    "\n",
    "Color unknown = (Color)42;  // Нет ошибки!\n",
    "Console.WriteLine(unknown); // 42"
   ]
  },
  {
   "cell_type": "code",
   "execution_count": 19,
   "metadata": {},
   "outputs": [
    {
     "data": {
      "text/plain": [
       "Green"
      ]
     },
     "execution_count": 19,
     "metadata": {},
     "output_type": "execute_result"
    }
   ],
   "source": [
    "Color green = Enum.Parse<Color>(\"Green\");\n",
    "green.ToString()"
   ]
  },
  {
   "cell_type": "code",
   "execution_count": 20,
   "metadata": {},
   "outputs": [
    {
     "data": {
      "text/plain": [
       "Blue"
      ]
     },
     "execution_count": 20,
     "metadata": {},
     "output_type": "execute_result"
    }
   ],
   "source": [
    "Enum.TryParse<Color>(\"Blue\", out Color blue);\n",
    "blue.ToString()"
   ]
  },
  {
   "cell_type": "code",
   "execution_count": 21,
   "metadata": {
    "scrolled": true
   },
   "outputs": [
    {
     "ename": "Unhandled Exception",
     "evalue": "(2,14): error CS1008: Требуется тип byte, sbyte, short, ushort, int, uint, long или ulong.",
     "output_type": "error",
     "traceback": [
      "(2,14): error CS1008: Требуется тип byte, sbyte, short, ushort, int, uint, long или ulong."
     ]
    }
   ],
   "source": [
    "// Посмотрим, какими типами можно задавать перечисления\n",
    "enum Dummy : char {}"
   ]
  },
  {
   "cell_type": "markdown",
   "metadata": {},
   "source": [
    "## 2. Приведение перечислимых типов"
   ]
  },
  {
   "cell_type": "code",
   "execution_count": 22,
   "metadata": {},
   "outputs": [],
   "source": [
    "enum Fruit\n",
    "{\n",
    "    Melon,      // 0\n",
    "    Tomato,     // 1\n",
    "    Apple,      // 2\n",
    "    Blueberry,  // 3\n",
    "    Orange,     // 4\n",
    "}"
   ]
  },
  {
   "cell_type": "code",
   "execution_count": 23,
   "metadata": {},
   "outputs": [
    {
     "ename": "Unhandled Exception",
     "evalue": "(1,16): error CS0266: Не удается неявно преобразовать тип \"Color\" в \"Fruit\". Существует явное преобразование (возможно, пропущено приведение типов).",
     "output_type": "error",
     "traceback": [
      "(1,16): error CS0266: Не удается неявно преобразовать тип \"Color\" в \"Fruit\". Существует явное преобразование (возможно, пропущено приведение типов)."
     ]
    }
   ],
   "source": [
    "Fruit orange = Color.Orange; // Безопасность типов -> ошибка"
   ]
  },
  {
   "cell_type": "code",
   "execution_count": 24,
   "metadata": {},
   "outputs": [
    {
     "name": "stdout",
     "output_type": "stream",
     "text": [
      "Tomato\n"
     ]
    }
   ],
   "source": [
    "Fruit tomato = (Fruit)Color.Red; // А вот так уже можно\n",
    "Console.WriteLine(tomato);"
   ]
  },
  {
   "cell_type": "code",
   "execution_count": 25,
   "metadata": {},
   "outputs": [
    {
     "name": "stdout",
     "output_type": "stream",
     "text": [
      "42\n"
     ]
    }
   ],
   "source": [
    "Color unknownColor = (Color)42;\n",
    "Fruit unknownFruit = (Fruit)unknownColor;\n",
    "Console.WriteLine(unknownFruit);"
   ]
  },
  {
   "cell_type": "code",
   "execution_count": 26,
   "metadata": {},
   "outputs": [
    {
     "name": "stdout",
     "output_type": "stream",
     "text": [
      "Blue, Blue, Blue\n"
     ]
    }
   ],
   "source": [
    "// Любой enum имеет следующую цепочку наследования: MyEnum <- System.Enum <- System.ValueType <- System.Object\n",
    "\n",
    "Enum enumEnum = Color.Blue;\n",
    "ValueType enumValueType = Color.Blue;\n",
    "object enumObj = Color.Blue;          // BOXING\n",
    "\n",
    "Console.WriteLine($\"{enumEnum}, {enumValueType}, {enumObj}\");"
   ]
  },
  {
   "cell_type": "markdown",
   "metadata": {},
   "source": [
    "## 3. Использование одного целочисленного значения для нескольких enum значений"
   ]
  },
  {
   "cell_type": "code",
   "execution_count": 42,
   "metadata": {},
   "outputs": [],
   "source": [
    "public enum Subject\n",
    "{\n",
    "    Programming = 0,\n",
    "    DiscreteMath = 1,\n",
    "    Algebra = 2,\n",
    "    Calculus = 3,\n",
    "    Economics = 4,\n",
    "\n",
    "    HardestSubject = Algebra,\n",
    "    MostUsefulSubject = Programming,\n",
    "    // HatefulSubject = Programming\n",
    "}"
   ]
  },
  {
   "cell_type": "code",
   "execution_count": 28,
   "metadata": {},
   "outputs": [
    {
     "name": "stdout",
     "output_type": "stream",
     "text": [
      "Programming\n",
      "Programming\n",
      "Programming\n",
      "True\n"
     ]
    }
   ],
   "source": [
    "Console.WriteLine(Subject.Programming);\n",
    "Console.WriteLine(Subject.MostUsefulSubject);\n",
    "Console.WriteLine((Subject)0);\n",
    "\n",
    "Console.WriteLine(Subject.Programming == Subject.MostUsefulSubject)"
   ]
  },
  {
   "cell_type": "code",
   "execution_count": 29,
   "metadata": {},
   "outputs": [
    {
     "name": "stdout",
     "output_type": "stream",
     "text": [
      "Algebra\n",
      "Algebra\n",
      "Algebra\n",
      "True\n"
     ]
    }
   ],
   "source": [
    "Console.WriteLine(Subject.Algebra);\n",
    "Console.WriteLine(Subject.HardestSubject);\n",
    "Console.WriteLine((Subject)2);\n",
    "\n",
    "Console.WriteLine(Subject.Algebra == Subject.HardestSubject)"
   ]
  },
  {
   "cell_type": "markdown",
   "metadata": {},
   "source": [
    "## 4. Рефлексия перечислимых типов"
   ]
  },
  {
   "cell_type": "markdown",
   "metadata": {},
   "source": [
    "Статический метод Enum.GetUnderlyingType возвращает целочисленный тип для енама"
   ]
  },
  {
   "cell_type": "code",
   "execution_count": 30,
   "metadata": {},
   "outputs": [
    {
     "data": {
      "text/html": [
       "<span><a href=\"https://docs.microsoft.com/dotnet/api/System.Int32?view=netcore-3.0\">System.Int32</a></span>"
      ]
     },
     "execution_count": 30,
     "metadata": {},
     "output_type": "execute_result"
    }
   ],
   "source": [
    "Enum.GetUnderlyingType(typeof(Subject))"
   ]
  },
  {
   "cell_type": "code",
   "execution_count": 31,
   "metadata": {},
   "outputs": [
    {
     "data": {
      "text/html": [
       "<span><a href=\"https://docs.microsoft.com/dotnet/api/System.Int32?view=netcore-3.0\">System.Int32</a></span>"
      ]
     },
     "execution_count": 31,
     "metadata": {},
     "output_type": "execute_result"
    }
   ],
   "source": [
    "Enum.GetUnderlyingType(typeof(Subject))"
   ]
  },
  {
   "cell_type": "markdown",
   "metadata": {},
   "source": [
    "В типе System.Type также есть метод GetEnumUnderlyingType"
   ]
  },
  {
   "cell_type": "code",
   "execution_count": 32,
   "metadata": {},
   "outputs": [
    {
     "data": {
      "text/html": [
       "<span><a href=\"https://docs.microsoft.com/dotnet/api/System.Int32?view=netcore-3.0\">System.Int32</a></span>"
      ]
     },
     "execution_count": 32,
     "metadata": {},
     "output_type": "execute_result"
    }
   ],
   "source": [
    "typeof(Subject).GetEnumUnderlyingType()"
   ]
  },
  {
   "cell_type": "markdown",
   "metadata": {},
   "source": [
    "Который работает только с объектами-типами енамов"
   ]
  },
  {
   "cell_type": "code",
   "execution_count": 33,
   "metadata": {},
   "outputs": [
    {
     "ename": "Unhandled Exception",
     "evalue": "Type provided must be an Enum. (Parameter 'enumType')",
     "output_type": "error",
     "traceback": [
      "Unhandled Exception",
      "Type provided must be an Enum. (Parameter 'enumType')",
      "   at System.RuntimeType.GetEnumUnderlyingType()",
      "   at Submission#34.<<Initialize>>d__0.MoveNext()",
      "--- End of stack trace from previous location where exception was thrown ---",
      "   at Microsoft.CodeAnalysis.Scripting.ScriptExecutionState.RunSubmissionsAsync[TResult](ImmutableArray`1 precedingExecutors, Func`2 currentExecutor, StrongBox`1 exceptionHolderOpt, Func`2 catchExceptionOpt, CancellationToken cancellationToken)"
     ]
    }
   ],
   "source": [
    "typeof(short).GetEnumUnderlyingType()"
   ]
  },
  {
   "cell_type": "markdown",
   "metadata": {},
   "source": [
    "Можно получить все значения енама c помощью Enum.GetValues(Type)"
   ]
  },
  {
   "cell_type": "code",
   "execution_count": 34,
   "metadata": {},
   "outputs": [
    {
     "name": "stdout",
     "output_type": "stream",
     "text": [
      "Programming\n",
      "Programming\n",
      "DiscreteMath\n",
      "Algebra\n",
      "Algebra\n",
      "Calculus\n",
      "Economics\n"
     ]
    }
   ],
   "source": [
    "var enumValues = Enum.GetValues(typeof(Subject)); // Аналог: typeof(Subject).GetEnumValues();\n",
    "foreach(var value in enumValues){\n",
    "    Console.WriteLine(value);\n",
    "}"
   ]
  },
  {
   "cell_type": "code",
   "execution_count": 35,
   "metadata": {},
   "outputs": [
    {
     "data": {
      "text/html": [
       "<table><thead><tr><th><i>index</i></th><th>value</th></tr></thead><tbody><tr><td>0</td><td>MostUsefulSubject</td></tr><tr><td>1</td><td>Programming</td></tr><tr><td>2</td><td>DiscreteMath</td></tr><tr><td>3</td><td>Algebra</td></tr><tr><td>4</td><td>HardestSubject</td></tr><tr><td>5</td><td>Calculus</td></tr><tr><td>6</td><td>Economics</td></tr></tbody></table>"
      ]
     },
     "execution_count": 35,
     "metadata": {},
     "output_type": "execute_result"
    }
   ],
   "source": [
    "Enum.GetNames(typeof(Subject)) // Аналог: typeof(Subject).GetEnumNames()"
   ]
  },
  {
   "cell_type": "code",
   "execution_count": 36,
   "metadata": {},
   "outputs": [
    {
     "data": {
      "text/plain": [
       "True"
      ]
     },
     "execution_count": 36,
     "metadata": {},
     "output_type": "execute_result"
    }
   ],
   "source": [
    "Enum.IsDefined(typeof(Subject), 3)"
   ]
  },
  {
   "cell_type": "code",
   "execution_count": 37,
   "metadata": {},
   "outputs": [
    {
     "data": {
      "text/plain": [
       "False"
      ]
     },
     "execution_count": 37,
     "metadata": {},
     "output_type": "execute_result"
    }
   ],
   "source": [
    "Enum.IsDefined(typeof(Subject), 42)"
   ]
  },
  {
   "cell_type": "markdown",
   "metadata": {},
   "source": [
    "## 5. Битовые флаги"
   ]
  },
  {
   "cell_type": "code",
   "execution_count": 38,
   "metadata": {},
   "outputs": [],
   "source": [
    "[Flags]\n",
    "enum FilePermission : byte\n",
    "{\n",
    "    None    = 0b00000000,\n",
    "\n",
    "    Read    = 0b00000001,\n",
    "    Write   = 0b00000010,\n",
    "    Execute = 0b00000100,\n",
    "    Rename  = 0b00001000,\n",
    "    Move    = 0b00010000,\n",
    "    Delete  = 0b00100000,\n",
    "\n",
    "    User        = Read | Execute,\n",
    "    ReadWrite   = Read | Write,\n",
    "    Admin       = Read | Write | Execute | Rename | Move | Delete\n",
    "}"
   ]
  },
  {
   "cell_type": "markdown",
   "metadata": {},
   "source": [
    "[Про FlagsAttributes](https://docs.microsoft.com/ru-ru/dotnet/api/system.flagsattribute?view=net-5.0)"
   ]
  },
  {
   "cell_type": "code",
   "execution_count": 39,
   "metadata": {},
   "outputs": [
    {
     "data": {
      "text/plain": [
       "True"
      ]
     },
     "execution_count": 39,
     "metadata": {},
     "output_type": "execute_result"
    }
   ],
   "source": [
    "FilePermission permission = FilePermission.User;\n",
    "permission.HasFlag(FilePermission.Read)"
   ]
  },
  {
   "cell_type": "markdown",
   "metadata": {},
   "source": [
    "Пример использования:\n",
    "```\n",
    "void RenameFile(File file, User user)\n",
    "{\n",
    "    if (!user.Permission.HasFlag(FilePermission.Rename)) {\n",
    "        throw new SomeException(\"you can't.\")\n",
    "    }\n",
    "    ...\n",
    "}\n",
    "```"
   ]
  },
  {
   "cell_type": "code",
   "execution_count": 40,
   "metadata": {},
   "outputs": [
    {
     "name": "stdout",
     "output_type": "stream",
     "text": [
      "None\n",
      "Read\n",
      "Write\n",
      "ReadWrite\n",
      "Execute\n",
      "User\n",
      "Write, Execute\n",
      "Write, User\n",
      "Rename\n",
      "Read, Rename\n",
      "Write, Rename\n",
      "ReadWrite, Rename\n",
      "Execute, Rename\n",
      "User, Rename\n",
      "Write, Execute, Rename\n",
      "Write, User, Rename\n",
      "Move\n"
     ]
    }
   ],
   "source": [
    "for (int i = 0; i <= 16; ++i) {\n",
    "    FilePermission fp = (FilePermission)i;\n",
    "    Console.WriteLine(fp.ToString(\"G\"));\n",
    "}"
   ]
  },
  {
   "cell_type": "markdown",
   "metadata": {},
   "source": [
    "### Пример: System.AttributeTargets"
   ]
  },
  {
   "cell_type": "code",
   "execution_count": null,
   "metadata": {},
   "outputs": [],
   "source": [
    "[Flags, Serializable]\n",
    "public enum AttributeTargets {\n",
    "    Assembly = 0x0001,\n",
    "    Module = 0x0002,\n",
    "    Class = 0x0004,\n",
    "    Struct = 0x0008,\n",
    "    Enum = 0x0010,\n",
    "    Constructor = 0x0020,\n",
    "    Method = 0x0040,\n",
    "    Property = 0x0080,\n",
    "    Field = 0x0100,\n",
    "    Event = 0x0200,\n",
    "    Interface = 0x0400,\n",
    "    Parameter = 0x0800,\n",
    "    Delegate = 0x1000,\n",
    "    ReturnValue = 0x2000,\n",
    "    GenericParameter = 0x4000,\n",
    "    All = Assembly | Module | Class | Struct | Enum |\n",
    "    Constructor | Method | Property | Field | Event |\n",
    "    Interface | Parameter | Delegate | ReturnValue |\n",
    "    GenericParameter\n",
    "}"
   ]
  },
  {
   "cell_type": "markdown",
   "metadata": {},
   "source": [
    "## 6. Методы расширения для enum"
   ]
  },
  {
   "cell_type": "markdown",
   "metadata": {},
   "source": [
    "Перечислениям можно \"добавлять функциональность\" с помощью методов расширения"
   ]
  },
  {
   "cell_type": "code",
   "execution_count": 43,
   "metadata": {},
   "outputs": [],
   "source": [
    "//public static class EnumExtentions\n",
    "//{\n",
    "    public static int GetMark(this Subject subject)\n",
    "    {\n",
    "        return subject switch \n",
    "        {\n",
    "            Subject.Programming => 8,\n",
    "            Subject.DiscreteMath => 10,\n",
    "            Subject.Algebra => 5,\n",
    "            Subject.Calculus => 7,\n",
    "            Subject.Economics => 6,\n",
    "            _ => 0,\n",
    "        };\n",
    "    }\n",
    "//}"
   ]
  },
  {
   "cell_type": "code",
   "execution_count": 44,
   "metadata": {},
   "outputs": [
    {
     "data": {
      "text/plain": [
       "8"
      ]
     },
     "execution_count": 44,
     "metadata": {},
     "output_type": "execute_result"
    }
   ],
   "source": [
    "Subject prog = Subject.Programming;\n",
    "prog.GetMark()"
   ]
  },
  {
   "cell_type": "markdown",
   "metadata": {},
   "source": [
    "# Атрибуты"
   ]
  },
  {
   "cell_type": "code",
   "execution_count": null,
   "metadata": {},
   "outputs": [],
   "source": [
    "[Serializable][Flags]\n",
    "[Serializable, Flags]\n",
    "[FlagsAttribute, SerializableAttribute]\n",
    "[FlagsAttribute()][Serializable()]"
   ]
  },
  {
   "cell_type": "markdown",
   "metadata": {},
   "source": [
    "### Дублировать атрибуты нельзя"
   ]
  },
  {
   "cell_type": "code",
   "execution_count": 2,
   "metadata": {},
   "outputs": [
    {
     "ename": "Unhandled Exception",
     "evalue": "(1,9): error CS0579: Повторяющийся атрибут \"Flags\"",
     "output_type": "error",
     "traceback": [
      "(1,9): error CS0579: Повторяющийся атрибут \"Flags\""
     ]
    }
   ],
   "source": [
    "[Flags][Flags]\n",
    "public enum MyFlags \n",
    "{\n",
    "    Hello = 1,\n",
    "    World = 2\n",
    "}"
   ]
  },
  {
   "cell_type": "code",
   "execution_count": null,
   "metadata": {},
   "outputs": [],
   "source": [
    "Определяя конструктор экземпляров класса атрибутов, а также поля и свойства, \n",
    "следует ограничиться небольшим набором типов данных. Допустимы типы: Bool\u0002ean, Char, Byte, SByte, Int16, UInt16, Int32, UInt32, Int64, UInt64, Single, Double, \n",
    "String, Type, Object и перечислимые типы."
   ]
  },
  {
   "cell_type": "markdown",
   "metadata": {},
   "source": [
    "Обнаружив настраиваемый атрибут, компилятор создает экземпляр класса \n",
    "этого атрибута, передавая его конструктору все указанные параметры. Затем он \n",
    "присваивает значения открытым полям и свойствам, используя для этого усовершенствованный синтаксис конструктора. Инициализировав объект настраиваемого \n",
    "атрибута, компилятор сериализует его и сохраняет в таблице метаданных"
   ]
  }
 ],
 "metadata": {
  "kernelspec": {
   "display_name": ".NET (C#)",
   "language": "C#",
   "name": ".net-csharp"
  },
  "language_info": {
   "file_extension": ".cs",
   "mimetype": "text/x-csharp",
   "name": "C#",
   "pygments_lexer": "csharp",
   "version": "8.0"
  }
 },
 "nbformat": 4,
 "nbformat_minor": 4
}
