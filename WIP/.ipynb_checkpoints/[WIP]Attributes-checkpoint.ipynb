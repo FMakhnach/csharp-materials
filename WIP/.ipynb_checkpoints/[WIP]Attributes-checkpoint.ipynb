{
 "cells": [
  {
   "cell_type": "markdown",
   "metadata": {},
   "source": [
    "# Атрибуты"
   ]
  },
  {
   "cell_type": "code",
   "execution_count": null,
   "metadata": {},
   "outputs": [],
   "source": [
    "[Serializable][Flags]\n",
    "[Serializable, Flags]\n",
    "[FlagsAttribute, SerializableAttribute]\n",
    "[FlagsAttribute()][Serializable()]"
   ]
  },
  {
   "cell_type": "markdown",
   "metadata": {},
   "source": [
    "### Дублировать атрибуты нельзя"
   ]
  },
  {
   "cell_type": "code",
   "execution_count": 2,
   "metadata": {},
   "outputs": [
    {
     "ename": "Unhandled Exception",
     "evalue": "(1,9): error CS0579: Повторяющийся атрибут \"Flags\"",
     "output_type": "error",
     "traceback": [
      "(1,9): error CS0579: Повторяющийся атрибут \"Flags\""
     ]
    }
   ],
   "source": [
    "[Flags][Flags]\n",
    "public enum MyFlags \n",
    "{\n",
    "    Hello = 1,\n",
    "    World = 2\n",
    "}"
   ]
  },
  {
   "cell_type": "code",
   "execution_count": null,
   "metadata": {},
   "outputs": [],
   "source": [
    "Определяя конструктор экземпляров класса атрибутов, а также поля и свойства, \n",
    "следует ограничиться небольшим набором типов данных. Допустимы типы: Bool\u0002ean, Char, Byte, SByte, Int16, UInt16, Int32, UInt32, Int64, UInt64, Single, Double, \n",
    "String, Type, Object и перечислимые типы."
   ]
  },
  {
   "cell_type": "markdown",
   "metadata": {},
   "source": [
    "Обнаружив настраиваемый атрибут, компилятор создает экземпляр класса \n",
    "этого атрибута, передавая его конструктору все указанные параметры. Затем он \n",
    "присваивает значения открытым полям и свойствам, используя для этого усовершенствованный синтаксис конструктора. Инициализировав объект настраиваемого \n",
    "атрибута, компилятор сериализует его и сохраняет в таблице метаданных"
   ]
  }
 ],
 "metadata": {
  "kernelspec": {
   "display_name": ".NET (C#)",
   "language": "C#",
   "name": ".net-csharp"
  },
  "language_info": {
   "file_extension": ".cs",
   "mimetype": "text/x-csharp",
   "name": "C#",
   "pygments_lexer": "csharp",
   "version": "8.0"
  }
 },
 "nbformat": 4,
 "nbformat_minor": 4
}
