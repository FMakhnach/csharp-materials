{
 "cells": [
  {
   "cell_type": "markdown",
   "metadata": {},
   "source": [
    "# Обобщения"
   ]
  },
  {
   "cell_type": "markdown",
   "metadata": {},
   "source": [
    "Одна из сильных сторон C# - мощные типобезопасные обобщения, позволяющие использовать в качестве аргументов типа как ссылочные, так и значимые типы."
   ]
  },
  {
   "cell_type": "markdown",
   "metadata": {},
   "source": [
    "- Мотивация\n",
    "- Внутреннее устройство\n",
    "- Наследование\n",
    "- Ковариантность и контравариантность типов\n",
    "- Ограничения"
   ]
  },
  {
   "cell_type": "markdown",
   "metadata": {},
   "source": [
    "# Мотивация"
   ]
  },
  {
   "cell_type": "markdown",
   "metadata": {},
   "source": [
    "Очень часто хочется противоречащие вещи:\n",
    "\n",
    "1. Один раз написать некоторый алгоритм/структуру данных так, чтобы она работала с разными типами данных.\n",
    "2. Сохранить безопасность типов, чтобы избавиться от гемороя с обработкой ошибок типов."
   ]
  },
  {
   "cell_type": "markdown",
   "metadata": {},
   "source": [
    "Например, структура данных \"Динамический массив\" (список) по идее не зависит от типа содержимого. Мы не хотим переписывать этот код для каждого типа, с которым мы используем список.\n",
    "\n",
    "Можно конечно сделать список object'ов (привет дженерикам из джавы), но так мы не сохраняем безопасность типов."
   ]
  },
  {
   "cell_type": "code",
   "execution_count": null,
   "metadata": {},
   "outputs": [],
   "source": [
    "public class MyList\n",
    "{\n",
    "    private const int DefaultCapacity = 4;\n",
    "\n",
    "    private int[] data;\n",
    "    private int capacity;\n",
    "    \n",
    "    public int Count { get; private set; }\n",
    "    \n",
    "    public int this[int index]\n",
    "    {\n",
    "        get\n",
    "        {\n",
    "            if(index < 0 || index >= Count) throw new IndexOutOfRangeException($\"Got index {index}, but size is {Count}.\");\n",
    "            return data[index];\n",
    "        }\n",
    "        set\n",
    "        {\n",
    "            if(index < 0 || index >= Count) throw new IndexOutOfRangeException($\"Got index {index}, but size is {Count}.\");\n",
    "            data[index] = value;\n",
    "        }\n",
    "    }\n",
    "    \n",
    "    public MyList() : this(DefaultCapacity) { }\n",
    "    \n",
    "    public MyList(int capacity)\n",
    "    {\n",
    "        if(capacity <= 0) throw new ArgumentException(\"Capacity must be positive\");\n",
    "        \n",
    "        this.capacity = capacity;\n",
    "        data = new int[capacity];\n",
    "        Count = 0;\n",
    "    }\n",
    "    \n",
    "    public void Add(int item)\n",
    "    {\n",
    "        if (Count == capacity) {\n",
    "            Array.Resize(ref data, capacity *= 2);\n",
    "        }\n",
    "        data[Count] = item;\n",
    "        ++Count;\n",
    "    }\n",
    "}"
   ]
  },
  {
   "cell_type": "markdown",
   "metadata": {},
   "source": [
    "А вот и обобщённый вариант:"
   ]
  },
  {
   "cell_type": "code",
   "execution_count": null,
   "metadata": {},
   "outputs": [],
   "source": [
    "public class MyList<T>\n",
    "{\n",
    "    private const int DefaultCapacity = 4;\n",
    "\n",
    "    private T[] data;\n",
    "    private int capacity;\n",
    "    \n",
    "    public int Count { get; private set; }\n",
    "    \n",
    "    public T this[int index]\n",
    "    {\n",
    "        get\n",
    "        {\n",
    "            if(index < 0 || index >= Count) throw new IndexOutOfRangeException($\"Got index {index}, but size is {Count}.\");\n",
    "            return data[index];\n",
    "        }\n",
    "        set\n",
    "        {\n",
    "            if(index < 0 || index >= Count) throw new IndexOutOfRangeException($\"Got index {index}, but size is {Count}.\");\n",
    "            data[index] = value;\n",
    "        }\n",
    "    }\n",
    "    \n",
    "    public MyList() : this(DefaultCapacity) { }\n",
    "    \n",
    "    public MyList(int capacity)\n",
    "    {\n",
    "        if(capacity <= 0) throw new ArgumentException(\"Capacity must be positive\");\n",
    "        \n",
    "        this.capacity = capacity;\n",
    "        data = new T[capacity];\n",
    "        Count = 0;\n",
    "    }\n",
    "    \n",
    "    public void Add(T item)\n",
    "    {\n",
    "        if (Count == capacity) {\n",
    "            Array.Resize(ref data, capacity *= 2);\n",
    "        }\n",
    "        data[Count] = item;\n",
    "        ++Count;\n",
    "    }\n",
    "}"
   ]
  },
  {
   "cell_type": "markdown",
   "metadata": {},
   "source": [
    "`T` называется **параметром типа**, подставленное в него значение (напр. `int` в `List<int>`) - **аргументом типа**.\n",
    "\n",
    "Также вводятся понятия **открытого** и **закрытого** типов.\n",
    "\n",
    "**Закрытый тип** - обобщённый тип, в котором определены **все** параметры типа.\n",
    "\n",
    "**Открытый тип** - обобщённый тип, в котором определены **не все** параметры типа."
   ]
  },
  {
   "cell_type": "code",
   "execution_count": null,
   "metadata": {},
   "outputs": [],
   "source": [
    "// Закрытый тип\n",
    "typeof(Dictionary<long, int>)"
   ]
  },
  {
   "cell_type": "code",
   "execution_count": null,
   "metadata": {},
   "outputs": [],
   "source": [
    "// Открытый тип\n",
    "typeof(Dictionary<,>)"
   ]
  },
  {
   "cell_type": "markdown",
   "metadata": {},
   "source": [
    "Обобщёнными могут быть: \n",
    "\n",
    "- Типы\n",
    " - Классы\n",
    " - Структуры\n",
    " - Интерфейсы\n",
    " - Делегаты\n",
    "- Методы\n",
    "\n",
    "Короче всё, что можно себе представить."
   ]
  },
  {
   "cell_type": "markdown",
   "metadata": {},
   "source": [
    "## Внутреннее устройство"
   ]
  },
  {
   "cell_type": "markdown",
   "metadata": {},
   "source": [
    "Для каждого нового аргумента типа CLR генерирует **новый класс**, подставляя в него те аргументы, которые вы передали."
   ]
  },
  {
   "cell_type": "code",
   "execution_count": null,
   "metadata": {},
   "outputs": [],
   "source": [
    "typeof(List<int>).ToString()"
   ]
  },
  {
   "cell_type": "code",
   "execution_count": null,
   "metadata": {},
   "outputs": [],
   "source": [
    "typeof(List<double>).ToString()"
   ]
  },
  {
   "cell_type": "code",
   "execution_count": null,
   "metadata": {},
   "outputs": [],
   "source": [
    "typeof(Dictionary<long, string>).ToString()"
   ]
  },
  {
   "cell_type": "markdown",
   "metadata": {},
   "source": [
    "Благодаря этому достигается одно из преимуществ обобщений - **эффективная работа со значимыми типами (структурами)**. Для структур генерируется немного другой код, что позволяет избежать операций упаковки и распаковки."
   ]
  },
  {
   "cell_type": "markdown",
   "metadata": {},
   "source": [
    "Ещё одно важное вытекающее: **у каждого конкретного обобщённого типа своё статическое состояние**. "
   ]
  },
  {
   "cell_type": "code",
   "execution_count": null,
   "metadata": {},
   "outputs": [],
   "source": [
    "class MyGeneric<T>\n",
    "{\n",
    "    public static int Value { get; set; }\n",
    "}"
   ]
  },
  {
   "cell_type": "code",
   "execution_count": null,
   "metadata": {},
   "outputs": [],
   "source": [
    "MyGeneric<int>.Value = 4;\n",
    "MyGeneric<double>.Value = 8;"
   ]
  },
  {
   "cell_type": "code",
   "execution_count": null,
   "metadata": {},
   "outputs": [],
   "source": [
    "MyGeneric<int>.Value"
   ]
  },
  {
   "cell_type": "code",
   "execution_count": null,
   "metadata": {},
   "outputs": [],
   "source": [
    "MyGeneric<double>.Value"
   ]
  },
  {
   "cell_type": "code",
   "execution_count": null,
   "metadata": {},
   "outputs": [],
   "source": [
    "MyGeneric<string>.Value"
   ]
  },
  {
   "cell_type": "markdown",
   "metadata": {},
   "source": [
    "## Наследование"
   ]
  },
  {
   "cell_type": "markdown",
   "metadata": {},
   "source": [
    "Можно использовать параметры типа при наследовании и реализации интерфейса. \n",
    "\n",
    "Можно и не использовать."
   ]
  },
  {
   "cell_type": "code",
   "execution_count": null,
   "metadata": {},
   "outputs": [],
   "source": [
    "public class MyGeneric<T1, T2> : List<T1>\n",
    "{\n",
    "    // ...\n",
    "}"
   ]
  },
  {
   "cell_type": "code",
   "execution_count": null,
   "metadata": {},
   "outputs": [],
   "source": [
    "public class MyGeneric<T1, T2> : IComparable<int>\n",
    "{\n",
    "    public int CompareTo(int other) => 1;\n",
    "}"
   ]
  },
  {
   "cell_type": "markdown",
   "metadata": {},
   "source": [
    "## Ковариантность и контравариантность"
   ]
  },
  {
   "cell_type": "markdown",
   "metadata": {},
   "source": [
    "Проблема:\n",
    "\n",
    "string это object. Тогда коллекция string это коллекция object'ов - или нет?"
   ]
  },
  {
   "cell_type": "code",
   "execution_count": null,
   "metadata": {
    "scrolled": true
   },
   "outputs": [],
   "source": [
    "List<string> myStrings = new List<string>() { \"Hello\", \"World!\" };\n",
    "List<object> myObjects = myStrings;"
   ]
  },
  {
   "cell_type": "markdown",
   "metadata": {},
   "source": [
    "А вот так оно почему-то работает. Магия?"
   ]
  },
  {
   "cell_type": "code",
   "execution_count": null,
   "metadata": {},
   "outputs": [],
   "source": [
    "IEnumerable<string> myStrings = new List<string>() { \"Hello\", \"World!\" };\n",
    "IEnumerable<object> myObjects = myStrings;\n",
    "\n",
    "foreach(var obj in myObjects)\n",
    "{\n",
    "    Console.WriteLine(obj);\n",
    "}"
   ]
  },
  {
   "cell_type": "markdown",
   "metadata": {},
   "source": [
    "Наоборот:\n",
    "\n",
    "`IComparable<object>` умеет сравнивать object'ы. \n",
    "\n",
    "Умеет ли он сравнивать `string`'и? Т.е. является ли он `IComparable<string>`?"
   ]
  },
  {
   "cell_type": "code",
   "execution_count": null,
   "metadata": {
    "scrolled": true
   },
   "outputs": [],
   "source": [
    "public class ObjectConsumer : IComparable<object>\n",
    "{\n",
    "    public int CompareTo(object other) => 1;\n",
    "}\n",
    "\n",
    "IComparable<object> objComparable = new ObjectConsumer();\n",
    "IComparable<string> strComparable = objComparable;\n",
    "\n",
    "strComparable.CompareTo(\"Hello, world!\")"
   ]
  },
  {
   "cell_type": "markdown",
   "metadata": {},
   "source": [
    "Немного теории\n",
    "\n",
    "> Параметры обобщённого типа могут быть:\n",
    "> - **Инвариантными.** Параметр-тип не может изменяться. По умолчанию так.\n",
    "> - **Ковариантными.** Аргумент-тип может быть преобразован от класса к одному из его базовых классов. В языке С# ковариантный тип обозначается ключевым словом out. Ковариантный параметр обобщенного типа может появляться только в выходной позиции, например, в качестве возвращаемого значения метода.\n",
    "> - **Контравариантными.** Параметр-тип может быть преобразован от класса к классу, производному от него. В языке C# контравариантный тип обозначается ключевым словом in. Контравариантный параметр-тип может появляться только во входной позиции, например, в качестве аргументов метода."
   ]
  },
  {
   "cell_type": "code",
   "execution_count": null,
   "metadata": {},
   "outputs": [],
   "source": [
    "// Делаем тип ковариантным\n",
    "public interface IUseless<out T>\n",
    "{\n",
    "    T DoNothing(object obj);\n",
    "}"
   ]
  },
  {
   "cell_type": "code",
   "execution_count": null,
   "metadata": {},
   "outputs": [],
   "source": [
    "// Тут сделать ковариантным нельзя, т.к. T используется в качестве типа параметра.\n",
    "public interface IUseless<out T>\n",
    "{\n",
    "    T DoNothing(T obj);\n",
    "}"
   ]
  },
  {
   "cell_type": "code",
   "execution_count": null,
   "metadata": {},
   "outputs": [],
   "source": [
    "// Делаем тип контравариантным\n",
    "public interface IUseless<in T>\n",
    "{\n",
    "    object DoNothing(T obj);\n",
    "}"
   ]
  },
  {
   "cell_type": "code",
   "execution_count": null,
   "metadata": {},
   "outputs": [],
   "source": [
    "// Тут сделать контравариантным нельзя, т.к. T используется в качестве возвращаемого типа.\n",
    "public interface IUseless<in T>\n",
    "{\n",
    "    T DoNothing(T obj);\n",
    "}"
   ]
  },
  {
   "cell_type": "markdown",
   "metadata": {},
   "source": [
    "**Ко(нтра)вариация не работает для значимых типов!**"
   ]
  },
  {
   "cell_type": "code",
   "execution_count": null,
   "metadata": {},
   "outputs": [],
   "source": [
    "IEnumerable<string> myStrings = new List<string>() { \"Hello\", \"World!\" };\n",
    "\n",
    "IEnumerable<object> myObjects = myStrings; // perfecto!"
   ]
  },
  {
   "cell_type": "code",
   "execution_count": null,
   "metadata": {},
   "outputs": [],
   "source": [
    "IEnumerable<int> myInts = new List<int>() { 1, 2, 3 };\n",
    "\n",
    "IEnumerable<object> myObjects = myInts; // немогу..."
   ]
  },
  {
   "cell_type": "markdown",
   "metadata": {},
   "source": [
    "**Ковариация и контравариация расширяют возможности обобщений, но могут быть трудны в понимании.**"
   ]
  },
  {
   "cell_type": "markdown",
   "metadata": {},
   "source": [
    "## Ограничения аргументов типов (constraints)"
   ]
  },
  {
   "cell_type": "markdown",
   "metadata": {},
   "source": [
    "Дженерики - довольно жёсткая конструкция, так как одна из первостепенных задач - сохранить безопасность типов.\n",
    "\n",
    "По умолчанию для объектов неопределённого типа доступны только методы класса object."
   ]
  },
  {
   "cell_type": "code",
   "execution_count": null,
   "metadata": {},
   "outputs": [],
   "source": [
    "public T Min<T>(T left, T right)\n",
    "{\n",
    "    if(left.CompareTo(right) < 0)\n",
    "        return left;\n",
    "    return right;\n",
    "}"
   ]
  },
  {
   "cell_type": "markdown",
   "metadata": {},
   "source": [
    "Можно наложить на параметр-тип некоторые обязательства, а взамен - получить возможность пользоваться какими-то функциями. Например, можете обязать аргумент-тип реализовывать некоторый интерфейс. "
   ]
  },
  {
   "cell_type": "code",
   "execution_count": null,
   "metadata": {},
   "outputs": [],
   "source": [
    "// Любой тип T должен быть IComparable<T>\n",
    "public T Min<T>(T left, T right) where T : IComparable<T>\n",
    "{\n",
    "    if(left.CompareTo(right) < 0)\n",
    "        return left;\n",
    "    return right;\n",
    "}"
   ]
  },
  {
   "cell_type": "code",
   "execution_count": null,
   "metadata": {},
   "outputs": [],
   "source": [
    "Min<int>(1, 5)"
   ]
  },
  {
   "cell_type": "code",
   "execution_count": null,
   "metadata": {},
   "outputs": [],
   "source": [
    "// Вывод типов компилятором - можно не указывать тип явно.\n",
    "// Фича работает только с методами (по понятным причинам).\n",
    "Min(\"bruh\", \"meh\")"
   ]
  },
  {
   "cell_type": "code",
   "execution_count": null,
   "metadata": {},
   "outputs": [],
   "source": [
    "Min(new object(), new object())"
   ]
  },
  {
   "cell_type": "markdown",
   "metadata": {},
   "source": [
    "Можно довольно интересно использовать ограничения, связывая несколько параметров типов."
   ]
  },
  {
   "cell_type": "code",
   "execution_count": null,
   "metadata": {},
   "outputs": [],
   "source": [
    "public List<TBase> ConvertIList<T, TBase>(IList<T> list) where T : TBase\n",
    "{\n",
    "    List<TBase> baseList = new List<TBase>(list.Count);\n",
    "    for (Int32 index = 0; index < list.Count; index++) {\n",
    "        baseList.Add(list[index]);\n",
    "    }\n",
    "    return baseList;\n",
    "}"
   ]
  },
  {
   "cell_type": "code",
   "execution_count": null,
   "metadata": {},
   "outputs": [],
   "source": [
    "IList<String> ls = new List<String>() { \"A String\" };\n",
    "\n",
    "IList<Object> lo = ConvertIList<String, Object>(ls);\n",
    "\n",
    "IList<IComparable> lc = ConvertIList<String, IComparable>(ls);\n",
    "\n",
    "IList<IComparable<String>> lcs = ConvertIList<String, IComparable<String>>(ls);\n",
    "\n",
    "IList<String> ls2 = ConvertIList<String, String>(ls);"
   ]
  },
  {
   "cell_type": "markdown",
   "metadata": {},
   "source": [
    "Можно применить следующие ограничения на параметр тип:\n",
    "- Является классом: `where T : class`\n",
    "- Является значимым типом: `where T : struct`\n",
    "- Является типом (или производным от него): `where T : MyClass`\n",
    "- Реализует интерфейс: `where T : IInterface`\n",
    "- Имеет пустой конструктор: `where T : new()`\n",
    "\n",
    "Порядок ниже"
   ]
  },
  {
   "cell_type": "markdown",
   "metadata": {},
   "source": [
    "<img src=\"image3.png\" style=\"width: 500px;\">"
   ]
  },
  {
   "cell_type": "markdown",
   "metadata": {},
   "source": [
    "Ограничения на енамы нет, если это нужно (зачем??), можно использовать статический конструктор класса, например."
   ]
  },
  {
   "cell_type": "code",
   "execution_count": null,
   "metadata": {},
   "outputs": [],
   "source": [
    "class GenericTypeThatRequiresEnum<TEnum>\n",
    "{\n",
    "    static GenericTypeThatRequiresEnum()\n",
    "    {\n",
    "        if(!typeof(TEnum).IsEnum)\n",
    "        {\n",
    "            throw new ArgumentException(\"TEnum must be an enumerated type!\");\n",
    "        }\n",
    "    }\n",
    "}"
   ]
  },
  {
   "cell_type": "markdown",
   "metadata": {},
   "source": [
    "Интересный факт: ограничение where T : struct пропускает енамы"
   ]
  },
  {
   "cell_type": "code",
   "execution_count": null,
   "metadata": {},
   "outputs": [],
   "source": [
    "enum MyEnum \n",
    "{\n",
    "    First, Second\n",
    "}\n",
    "\n",
    "public void MyGenericMethod<T>(T obj) where T : struct\n",
    "{\n",
    "    Console.WriteLine(typeof(T));\n",
    "    Console.WriteLine(obj);\n",
    "}\n",
    "\n",
    "MyGenericMethod(MyEnum.First);"
   ]
  },
  {
   "cell_type": "markdown",
   "metadata": {},
   "source": [
    "## Что нужно запомнить"
   ]
  },
  {
   "cell_type": "markdown",
   "metadata": {},
   "source": [
    "- Для каждого конкретного набора аргументов типов генерируется отдельный класс/структура/интерфейс/делегат/метод.\n",
    "\n",
    "\n",
    "- Сильная сторона - эффективная работа со значимыми (struct) аргументами типа.\n",
    "\n",
    "\n",
    "- Ковариантность (out) - когда можем использовать тип *производный* от заданного параметра. Допустим только тогда, когда тип используется **лишь в возвращаемых значениях методов**.\n",
    "> Если мы возвращали Base, то можем вернуть и Derived, ведь Derived is Base\n",
    "\n",
    "\n",
    "- Контравариантность (in) - когда можем использовать тип *базовый* для заданного параметра. Допустимо только тогда, когда тип используется **лишь в параметрах методов**.\n",
    "> Если мы ожидаем параметр Base, от того, что нам начнут присылать Derived, нарушений не возникнет, ведь Derived is Base\n",
    "\n",
    "\n",
    "- С помощью ограничений на типы можно определить, какой набор свойств должен иметь аргумент тип. Благодаря этому можно безопасно использовать эти свойства в коде обобщенного класса/метода/чего-либо."
   ]
  }
 ],
 "metadata": {
  "kernelspec": {
   "display_name": ".NET (C#)",
   "language": "C#",
   "name": ".net-csharp"
  },
  "language_info": {
   "file_extension": ".cs",
   "mimetype": "text/x-csharp",
   "name": "C#",
   "pygments_lexer": "csharp",
   "version": "8.0"
  }
 },
 "nbformat": 4,
 "nbformat_minor": 4
}
