{
 "cells": [
  {
   "cell_type": "markdown",
   "metadata": {},
   "source": [
    "# Методы расширения"
   ]
  },
  {
   "cell_type": "markdown",
   "metadata": {},
   "source": [
    "Функциональность любого типа можно расширить при помощи механизма методов расширения"
   ]
  },
  {
   "cell_type": "code",
   "execution_count": null,
   "metadata": {},
   "outputs": [],
   "source": [
    "// Так он должен, по-хорошему, объявляться.\n",
    "public static class StringExtentions\n",
    "{\n",
    "    public static string AddBorders(this string str, char symbol='=', int size=3)\n",
    "    {\n",
    "        string border = new string(symbol, size);\n",
    "        return border + str + border;\n",
    "    }\n",
    "}"
   ]
  },
  {
   "cell_type": "markdown",
   "metadata": {},
   "source": [
    "**Ввиду особенностей Jupyter Notebook (он оборачивает всё в класс) я объявляю метод расширения прямо в ячейке. В реальности требуется публичный статический класс**"
   ]
  },
  {
   "cell_type": "code",
   "execution_count": null,
   "metadata": {},
   "outputs": [],
   "source": [
    "//public static class StringExtentions\n",
    "//{\n",
    "    public static string AddBorders(this string str, char symbol='=', int size=3)\n",
    "    {\n",
    "        string border = new string(symbol, size);\n",
    "        return border + str + border;\n",
    "    }\n",
    "//}"
   ]
  },
  {
   "cell_type": "code",
   "execution_count": null,
   "metadata": {},
   "outputs": [],
   "source": [
    "string str = \"Hello\";\n",
    "str.AddBorders()"
   ]
  },
  {
   "cell_type": "markdown",
   "metadata": {},
   "source": [
    "# Перечисления (IEnumerable), перечислители (IEnumerator)"
   ]
  },
  {
   "cell_type": "markdown",
   "metadata": {},
   "source": [
    "## 1. IEnumerable\n",
    "\n",
    "Программы *очень* часто работают с **коллекциями** объектов. \n",
    "\n",
    "Наиболее простой вид коллекции это коллекция, элементы которой можно (как-то) **перечислить** (последовательность). Так как перечисление - наиболее базовая операция, алгоритмы, использующие только её можно применить на **любые** последовательности объектов. Это особенно эффектно в LINQ.\n",
    "\n",
    "В шарпе все перечислимые коллекции реализуют интерфейс `IEnumerable<T>` или `IEnumerable`.\n",
    "```csharp\n",
    "public interface IEnumerable\n",
    "{\n",
    "    IEnumerator GetEnumerator();\n",
    "}\n",
    "\n",
    "public interface IEnumerable<out T> : IEnumerable\n",
    "{\n",
    "    IEnumerator<T> GetEnumerator();\n",
    "}\n",
    "```\n",
    "\n",
    "Чтобы можно было итерироваться по собственным коллекциям (и таким образом дать возможность использовать всю мощь стандартной библиотеки), достаточно реализовать этот интерфейс.\n",
    "\n",
    "Это довольно просто сделать, если \"под капотом\" у типа - другая коллекция / массив.\n",
    "\n",
    "```csharp\n",
    "\n",
    "```"
   ]
  },
  {
   "cell_type": "code",
   "execution_count": null,
   "metadata": {},
   "outputs": [],
   "source": [
    "public class Box<T> : IEnumerable<T>\n",
    "{\n",
    "    private T[] items;\n",
    "\n",
    "    public Box(params T[] items)\n",
    "    {\n",
    "        this.items = items;\n",
    "    }\n",
    "\n",
    "    public IEnumerator<T> GetEnumerator() => ((IEnumerable<T>)items).GetEnumerator();\n",
    "\n",
    "    IEnumerator IEnumerable.GetEnumerator() => items.GetEnumerator();\n",
    "    \n",
    "    // Какая-то доп. логика коробки\n",
    "}"
   ]
  },
  {
   "cell_type": "markdown",
   "metadata": {},
   "source": [
    "## 2. foreach"
   ]
  },
  {
   "cell_type": "markdown",
   "metadata": {},
   "source": [
    "Самый простой пример использования `IEnumerable` это `foreach`.\n",
    "\n",
    "Оператор `foreach` позволяет итерироваться по любому объекту, **поддерживающему** метод\n",
    "```csharp\n",
    "IEnumerator GetEnumerator();\n",
    "```\n",
    "или\n",
    "```csharp\n",
    "IEnumerator<T> GetEnumerator();\n",
    "```"
   ]
  },
  {
   "cell_type": "code",
   "execution_count": null,
   "metadata": {},
   "outputs": [],
   "source": [
    "Box<int> box = new Box<int>(1, 2, 3, 4);\n",
    "\n",
    "foreach(var item in box)\n",
    "{\n",
    "    Console.WriteLine(item);\n",
    "}"
   ]
  },
  {
   "cell_type": "markdown",
   "metadata": {},
   "source": [
    "На самом деле для `foreach`, главное - поддерживать нужный метод. \n",
    "\n",
    "Не обязательно реализовывать `IEnumerable`:"
   ]
  },
  {
   "cell_type": "code",
   "execution_count": null,
   "metadata": {},
   "outputs": [],
   "source": [
    "public class NotEnumerableBox<T> // НЕТ ЯВНОГО УКАЗАНИЯ РЕАЛИЗАЦИИ\n",
    "{\n",
    "    private T[] items;\n",
    "\n",
    "    public NotEnumerableBox(params T[] items)\n",
    "    {\n",
    "        this.items = items;\n",
    "    }\n",
    "\n",
    "    public IEnumerator<T> GetEnumerator() => ((IEnumerable<T>)items).GetEnumerator();\n",
    "}"
   ]
  },
  {
   "cell_type": "code",
   "execution_count": null,
   "metadata": {},
   "outputs": [],
   "source": [
    "NotEnumerableBox<int> box = new NotEnumerableBox<int>(1, 2, 3, 4);\n",
    "\n",
    "foreach(var item in box)\n",
    "{\n",
    "    Console.WriteLine(item);\n",
    "}"
   ]
  },
  {
   "cell_type": "markdown",
   "metadata": {},
   "source": [
    "**!!! Это исключительный случай !!!**"
   ]
  },
  {
   "cell_type": "markdown",
   "metadata": {},
   "source": [
    "## 3. IEnumerator"
   ]
  },
  {
   "cell_type": "markdown",
   "metadata": {},
   "source": [
    "Интерфейсы `IEnumerator` и `IEnumerator<T>` определяются так:\n",
    "\n",
    "```csharp\n",
    "public interface IEnumerator<out T> : IEnumerator, IDisposable\n",
    "{\n",
    "    T Current { get; }\n",
    "}\n",
    "\n",
    "public interface IEnumerator\n",
    "{\n",
    "    object? Current { get; }\n",
    "\n",
    "    bool MoveNext();\n",
    "\n",
    "    void Reset();\n",
    "}\n",
    "\n",
    "public interface IDisposable\n",
    "{\n",
    "    void Dispose();\n",
    "}\n",
    "\n",
    "```"
   ]
  },
  {
   "cell_type": "markdown",
   "metadata": {},
   "source": [
    "На самом деле конструкция\n",
    "```csharp\n",
    "foreach(var item in box)\n",
    "{\n",
    "    Console.WriteLine(item);\n",
    "}\n",
    "```\n",
    "раскрывается приблизительно в такое \n",
    "```csharp\n",
    "IEnumerator<int> enumerator = box.GetEnumerator();\n",
    "while (enumerator.MoveNext()) // Пока не дошли до конца\n",
    "{\n",
    "    int objectName = enumerator.Value; // Берём следующее значение\n",
    "\n",
    "    // Сюда подставляется тело foreach\n",
    "    Console.WriteLine(item);\n",
    "}\n",
    "enumerator.Dispose(); // Для обобщённого варианта\n",
    "```\n"
   ]
  },
  {
   "cell_type": "markdown",
   "metadata": {},
   "source": [
    "## 4. yield"
   ]
  },
  {
   "cell_type": "markdown",
   "metadata": {},
   "source": [
    "Стоит заметить, что `IEnumerable` *не обязывает коллекцию существовать в памяти*. Коллекция может генерироваться *на лету*.\n",
    "\n",
    "Ключевое слово `yield` (\"дать\", \"уступать\") позволяет удобно описывать **генераторы коллекций**.\n",
    "\n",
    "`yield` можно использовать только в методах, возвращающих `IEnumerable`, `IEnumerable<T>`, `IEnumerator` или `IEnumerator<T>`."
   ]
  },
  {
   "cell_type": "code",
   "execution_count": null,
   "metadata": {},
   "outputs": [],
   "source": [
    "IEnumerable<int> GetFirstFibonacci(int n)\n",
    "{\n",
    "    int curr = 1;\n",
    "    int next = 1;\n",
    "    for(int i = 0; i < n; i++)\n",
    "    {\n",
    "        yield return curr;\n",
    "        next += curr;\n",
    "        curr = next - curr;\n",
    "    }\n",
    "}"
   ]
  },
  {
   "cell_type": "code",
   "execution_count": null,
   "metadata": {},
   "outputs": [],
   "source": [
    "foreach(var val in GetFirstFibonacci(10))\n",
    "{\n",
    "    Console.Write(val + \" \");\n",
    "}"
   ]
  },
  {
   "cell_type": "markdown",
   "metadata": {},
   "source": [
    "Можно представлять, что `yield return` приостанавливает выполнение метода, сохраняя его состояние."
   ]
  },
  {
   "cell_type": "markdown",
   "metadata": {},
   "source": [
    "Также существует конструкция `yield break`, позволяющая прервать генерацию коллекции. Полезна как некоторый аналог `while`."
   ]
  },
  {
   "cell_type": "code",
   "execution_count": null,
   "metadata": {},
   "outputs": [],
   "source": [
    "IEnumerable<int> TakeWhileNotGreaterThan(IEnumerable<int> collection, int limit)\n",
    "{\n",
    "    foreach(var item in collection)\n",
    "    {\n",
    "        if(item > limit)\n",
    "        {\n",
    "            // Если значение превысило заданное, \n",
    "            // прекращаем генерировать коллекцию\n",
    "            yield break; \n",
    "        }\n",
    "        yield return item;\n",
    "    }\n",
    "}"
   ]
  },
  {
   "cell_type": "code",
   "execution_count": null,
   "metadata": {},
   "outputs": [],
   "source": [
    "TakeWhileNotGreaterThan(new int[]{1, 4, 2, 5, 2, 1, 3}, 4)"
   ]
  },
  {
   "cell_type": "markdown",
   "metadata": {},
   "source": [
    "**Обработка исключений:**\n",
    "- Оператор `yield return` нельзя размещать в блоке `try-catch`. \n",
    "\n",
    "- Оператор `yield return` можно размещать в блоке `try` оператора `try-finally`.\n",
    "\n",
    "- Оператор `yield break` можно размещать в блоке `try` или `catch`, но не в блоке finally.\n",
    "\n",
    "А ещё нельзя использовать `yield` в лямбда-выражениях и анонимных методах."
   ]
  },
  {
   "cell_type": "markdown",
   "metadata": {},
   "source": [
    "# LINQ"
   ]
  },
  {
   "cell_type": "markdown",
   "metadata": {},
   "source": [
    "Коллекции могут быть по-разному устроены, но операции над ними зачастую очень схожие:\n",
    "- преобразовать каждый элемент\n",
    "- отфильтровать элементы\n",
    "- найти минимум/максимум/среднее/сумму...\n",
    "- отсортировать по признаку\n",
    "- сгруппировать по признаку (получить коллекцию из коллекций, каждая из которой соответствует уникальному значению признака)\n",
    "- соединить по признаку\n",
    "- ..."
   ]
  },
  {
   "cell_type": "markdown",
   "metadata": {},
   "source": [
    "**LINQ (Language INtegrated Query)** представляет собой набор **методов расширений** над типом `IEnumerable<T>`, предоставляющий кучу полезных операций над <ins>любыми</ins> типами, реализующими `IEnumerable<T>`.\n",
    "\n",
    "Ещё есть специальный синтаксис запросов, которым никто не пользуется. Почему: 1) меньше функций; 2) всё равно преобразуются в методы расширения.\n",
    "\n",
    "!!! ВСЕ ОПЕРАЦИИ ВОЗВРАЩАЮТ НОВУЮ ПОСЛЕДОВАТЕЛЬНОСТЬ !!!"
   ]
  },
  {
   "cell_type": "markdown",
   "metadata": {},
   "source": [
    "## Ключевые операции\n",
    "\n",
    "\n",
    "- `Where(фильтр)` - фильтрует коллекцию по переданному предикату\n",
    "- `Select(преобразование)` - преобразовывает каждый элемент последовательности"
   ]
  },
  {
   "cell_type": "code",
   "execution_count": null,
   "metadata": {},
   "outputs": [],
   "source": [
    "void Print<T>(IEnumerable<T> collection)\n",
    "{\n",
    "    foreach(var item in collection)\n",
    "    {\n",
    "        Console.Write(item.ToString() + \" \");\n",
    "    }\n",
    "    Console.WriteLine();\n",
    "}"
   ]
  },
  {
   "cell_type": "code",
   "execution_count": null,
   "metadata": {},
   "outputs": [],
   "source": [
    "var collection = Enumerable.Range(0, 10);\n",
    "\n",
    "var result = collection.Where(x => x % 3 == 0).Select(x => x*x*x);\n",
    "\n",
    "Print(collection);\n",
    "Print(result);"
   ]
  },
  {
   "cell_type": "markdown",
   "metadata": {},
   "source": [
    "## Сортировка (элементы должны быть `IComparable`)\n",
    "\n",
    "- `OrderBy()` - сортировка по возрастанию\n",
    "- `OrderByDescending()` - сортировка по убыванию\n",
    "- `ThenBy()` - вторичная сортировка по возрастанию (сортируются элементы, значения которых совпали в пред. сортировке)\n",
    "- `ThenByDescending()` - вторичная сортировка по убыванию (сортируются элементы, значения которых совпали в пред. сортировке)"
   ]
  },
  {
   "cell_type": "code",
   "execution_count": null,
   "metadata": {},
   "outputs": [],
   "source": [
    "class Person\n",
    "{\n",
    "    public int Age { get; set; }\n",
    "    \n",
    "    public string Name { get; set; }\n",
    "}\n",
    "\n",
    "var people = new Person[] \n",
    "{\n",
    "    new Person { Age = 34, Name = \"Andrew\" },\n",
    "    new Person { Age = 23, Name = \"Alice\" },\n",
    "    new Person { Age = 34, Name = \"Bob\" },\n",
    "    new Person { Age = 25, Name = \"Alice\" }\n",
    "};"
   ]
  },
  {
   "cell_type": "code",
   "execution_count": null,
   "metadata": {},
   "outputs": [],
   "source": [
    "people.OrderBy(x => x.Age)"
   ]
  },
  {
   "cell_type": "code",
   "execution_count": null,
   "metadata": {
    "scrolled": true
   },
   "outputs": [],
   "source": [
    "people.OrderBy(x => x.Age).ThenByDescending(x => x.Name)"
   ]
  },
  {
   "cell_type": "markdown",
   "metadata": {},
   "source": [
    "## Агрегирующие операции \n",
    "*схлопывающие последовательность в одно значение*\n",
    "\n",
    "- `Count()` - число объектов (можно передать предикат)\n",
    "- `Min()` - минимальное значение (можно передать предикат)\n",
    "- `Max()` - максимальное значение (можно передать предикат)\n",
    "- `Average()` - среднее **числовое** значение (можно передать предикат)\n",
    "- `Sum()` - суммарное **числовое** значение (можно передать предикат)\n",
    "- `Aggregate()` - обобщённая агрегирующая функция"
   ]
  },
  {
   "cell_type": "code",
   "execution_count": null,
   "metadata": {},
   "outputs": [],
   "source": [
    "var collection = Enumerable.Range(1, 5);\n",
    "Print(collection)"
   ]
  },
  {
   "cell_type": "code",
   "execution_count": null,
   "metadata": {},
   "outputs": [],
   "source": [
    "collection.Count()"
   ]
  },
  {
   "cell_type": "code",
   "execution_count": null,
   "metadata": {},
   "outputs": [],
   "source": [
    "collection.Count(x => x % 2 == 0)"
   ]
  },
  {
   "cell_type": "code",
   "execution_count": null,
   "metadata": {},
   "outputs": [],
   "source": [
    "collection.Min()"
   ]
  },
  {
   "cell_type": "code",
   "execution_count": null,
   "metadata": {},
   "outputs": [],
   "source": [
    "collection.Min(x => 2 * (x + 3))"
   ]
  },
  {
   "cell_type": "code",
   "execution_count": null,
   "metadata": {},
   "outputs": [],
   "source": [
    "collection.Max()"
   ]
  },
  {
   "cell_type": "code",
   "execution_count": null,
   "metadata": {},
   "outputs": [],
   "source": [
    "collection.Max(x => 2 * (x + 3))"
   ]
  },
  {
   "cell_type": "code",
   "execution_count": null,
   "metadata": {},
   "outputs": [],
   "source": [
    "collection.Average()"
   ]
  },
  {
   "cell_type": "code",
   "execution_count": null,
   "metadata": {},
   "outputs": [],
   "source": [
    "collection.Average(x => x % 3)"
   ]
  },
  {
   "cell_type": "code",
   "execution_count": null,
   "metadata": {},
   "outputs": [],
   "source": [
    "collection.Sum()"
   ]
  },
  {
   "cell_type": "code",
   "execution_count": null,
   "metadata": {},
   "outputs": [],
   "source": [
    "collection.Sum(x => x % 3)"
   ]
  },
  {
   "cell_type": "code",
   "execution_count": null,
   "metadata": {
    "scrolled": true
   },
   "outputs": [],
   "source": [
    "// Перемножение всех элементов\n",
    "collection.Aggregate((prev, next) => prev * next)"
   ]
  },
  {
   "cell_type": "markdown",
   "metadata": {},
   "source": [
    "## Пропуск/получение N элементов\n",
    "\n",
    "- `Take(N)` - берёт первые N элементов последовательности\n",
    "- `TakeWhile(condition)` - берёт элементы последовательности пока выполняется условие\n",
    "- `Skip(N)` - пропускает первые N элементов последовательности\n",
    "- `SkipWhile(condition)` - пропускает первые элементы последовательности пока выполняется условие"
   ]
  },
  {
   "cell_type": "markdown",
   "metadata": {},
   "source": [
    "## Операции для работы с последовательностями как со множествами\n",
    "\n",
    "- `Contains(obj)` - проверка на содержание объекта в последовательности\n",
    "- `Except(otherCollection)` - разность множеств\n",
    "- `Union(otherCollection)` - объединение множеств\n",
    "\n",
    "**Подводный камень: `Union` и `Except` удаляют дубликаты**"
   ]
  },
  {
   "cell_type": "code",
   "execution_count": null,
   "metadata": {},
   "outputs": [],
   "source": [
    "int[] set1 = { 1, 2, 2, 3, 4 };\n",
    "int[] set2 = { 3, 4, 4, 5, 6 };"
   ]
  },
  {
   "cell_type": "code",
   "execution_count": null,
   "metadata": {},
   "outputs": [],
   "source": [
    "set1.Contains(2)"
   ]
  },
  {
   "cell_type": "code",
   "execution_count": null,
   "metadata": {},
   "outputs": [],
   "source": [
    "set1.Contains(5)"
   ]
  },
  {
   "cell_type": "code",
   "execution_count": null,
   "metadata": {},
   "outputs": [],
   "source": [
    "Print(set1.Except(set2))"
   ]
  },
  {
   "cell_type": "code",
   "execution_count": null,
   "metadata": {},
   "outputs": [],
   "source": [
    "Print(set1.Union(set2))"
   ]
  },
  {
   "cell_type": "markdown",
   "metadata": {},
   "source": [
    "## Объединение коллекций\n",
    "\n",
    "- `Concat(otherCollection)` - объединяет несколько коллекций в одну (последовательно)\n",
    "- `Zip(otherCollection)` - склеивает элементы двух коллекций в соответствии с определенным условием\n",
    "- `Join(otherCollection)` - соединяет две коллекции по определенному признаку"
   ]
  },
  {
   "cell_type": "code",
   "execution_count": null,
   "metadata": {},
   "outputs": [],
   "source": [
    "int[] marks1 = {3, 4, 5};\n",
    "int[] marks2 = {1, 2, 3};\n",
    "\n",
    "Print(marks1.Concat(marks2))"
   ]
  },
  {
   "cell_type": "code",
   "execution_count": null,
   "metadata": {
    "scrolled": true
   },
   "outputs": [],
   "source": [
    "int[] ages = {12, 15, 18, 21};\n",
    "int[] heights = {150, 165, 176, 178};\n",
    "\n",
    "ages.Zip(heights, (age, height) => new {Age = age, Height = height}) // <--- анонимный тип, нет скобочек после new"
   ]
  },
  {
   "cell_type": "code",
   "execution_count": null,
   "metadata": {},
   "outputs": [],
   "source": [
    "class Employee\n",
    "{\n",
    "    public string Name { get; set; }\n",
    "    \n",
    "    public string Department { get; set; }\n",
    "}"
   ]
  },
  {
   "cell_type": "code",
   "execution_count": null,
   "metadata": {},
   "outputs": [],
   "source": [
    "var people = new Person[] \n",
    "{\n",
    "    new Person { Age = 34, Name = \"Andrew\" },\n",
    "    new Person { Age = 23, Name = \"Alice\" },\n",
    "    new Person { Age = 34, Name = \"Bob\" },\n",
    "    new Person { Age = 25, Name = \"Alice\" }\n",
    "};\n",
    "\n",
    "var employees = new Employee[]\n",
    "{\n",
    "    new Employee { Name = \"Bob\", Department = \"OAC\" },\n",
    "    new Employee { Name = \"Mark\", Department = \"BBC\" },\n",
    "    new Employee { Name = \"Andrew\", Department = \"DCA\" }\n",
    "};\n",
    "\n",
    "people.Join(\n",
    "    employees, \n",
    "    per => per.Name,\n",
    "    emp => emp.Name,\n",
    "    (per, emp) => new { Age = per.Age, Name = per.Name, Department = emp.Department })"
   ]
  },
  {
   "cell_type": "markdown",
   "metadata": {},
   "source": [
    "## Получение элемента\n",
    "\n",
    "- `First()` - возвращает первый элемент. Если коллекция пустая - исключение\n",
    "- `FirstOrDefault()` - возвращает первый элемент. Если коллекция пустая - возвращает `null`\n",
    "\n",
    "\n",
    "- `Last()` - возвращает последний элемент. Если коллекция пустая - исключение\n",
    "- `LastOrDefault()` - возвращает последний элемент. Если коллекция пустая - возвращает `null`\n",
    "\n",
    "\n",
    "- `Single()` - возвращает единственный элемент. Если коллекция содержит не 1 элемент - исключение \n",
    "- `SingleOrDefault()` - возвращает последний элемент. Если коллекция содержит не 1 элемент - возвращает `null`\n",
    "\n",
    "\n",
    "- `ElementAt()` - возвращает единственный элемент. Если коллекция содержит не 1 элемент - исключение \n",
    "- `ElementAtOrDefault()` - возвращает последний элемент. Если коллекция содержит не 1 элемент - возвращает `null`"
   ]
  },
  {
   "cell_type": "markdown",
   "metadata": {},
   "source": [
    "## Прочие полезные операции \n",
    "\n",
    "- `Reverse()` - разворачивает коллекцию\n",
    "- `Distinct()` - удаляет дублирующиеся элементы из коллекции\n",
    "- `Any(condition)` - проверяет, что хотя бы для одного элемента выполняется условие (возвращает bool)\n",
    "- `All(condition)` - проверяет, что для всех элементов выполняется условие (возвращает bool)"
   ]
  }
 ],
 "metadata": {
  "kernelspec": {
   "display_name": ".NET (C#)",
   "language": "C#",
   "name": ".net-csharp"
  },
  "language_info": {
   "file_extension": ".cs",
   "mimetype": "text/x-csharp",
   "name": "C#",
   "pygments_lexer": "csharp",
   "version": "8.0"
  }
 },
 "nbformat": 4,
 "nbformat_minor": 4
}
